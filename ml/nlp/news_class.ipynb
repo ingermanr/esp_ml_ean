{
 "cells": [
  {
   "cell_type": "markdown",
   "metadata": {},
   "source": [
    "## Clasificación de noticias\n",
    "\n",
    "En el presente cuaderno realizaremos el proceso completo de clasificación de noticias con modelos RNN y LSTM, abordando desde la exploración de datos y preprocesamiento hasta la implementación de modelos e informe de conclusiones.\n",
    "\n",
    "**Asignatura:** Procesamiento del lenguaje natural\n",
    "\n",
    "**Equipo:**\n",
    "\n",
    "* Germán Alonso Rodríguez Díaz \n",
    "* Cristian Baez\n",
    "* Santiago Simmonds\n",
    "* David Mariño\n"
   ]
  },
  {
   "cell_type": "code",
   "execution_count": 53,
   "metadata": {},
   "outputs": [
    {
     "name": "stderr",
     "output_type": "stream",
     "text": [
      "[nltk_data] Downloading package punkt to\n",
      "[nltk_data]     C:\\Users\\ingen\\AppData\\Roaming\\nltk_data...\n",
      "[nltk_data]   Package punkt is already up-to-date!\n",
      "[nltk_data] Downloading package stopwords to\n",
      "[nltk_data]     C:\\Users\\ingen\\AppData\\Roaming\\nltk_data...\n",
      "[nltk_data]   Package stopwords is already up-to-date!\n"
     ]
    },
    {
     "data": {
      "text/html": [
       "<div>\n",
       "<style scoped>\n",
       "    .dataframe tbody tr th:only-of-type {\n",
       "        vertical-align: middle;\n",
       "    }\n",
       "\n",
       "    .dataframe tbody tr th {\n",
       "        vertical-align: top;\n",
       "    }\n",
       "\n",
       "    .dataframe thead th {\n",
       "        text-align: right;\n",
       "    }\n",
       "</style>\n",
       "<table border=\"1\" class=\"dataframe\">\n",
       "  <thead>\n",
       "    <tr style=\"text-align: right;\">\n",
       "      <th></th>\n",
       "      <th>Columna1</th>\n",
       "      <th>Enlaces</th>\n",
       "      <th>Título</th>\n",
       "      <th>info</th>\n",
       "      <th>contenido</th>\n",
       "      <th>Etiqueta</th>\n",
       "    </tr>\n",
       "  </thead>\n",
       "  <tbody>\n",
       "    <tr>\n",
       "      <th>0</th>\n",
       "      <td>0</td>\n",
       "      <td>https://www.eltiempo.com/agresion-contra-un-op...</td>\n",
       "      <td>Operador de grúa quedó inconsciente tras agres...</td>\n",
       "      <td>El conductor de una moto le lanzó el casco y p...</td>\n",
       "      <td>Las autoridades están buscando al conductor de...</td>\n",
       "      <td>colombia</td>\n",
       "    </tr>\n",
       "    <tr>\n",
       "      <th>1</th>\n",
       "      <td>1</td>\n",
       "      <td>https://www.eltiempo.com/archivo/documento/CMS...</td>\n",
       "      <td>Usaquén, primera en infracciones por mal parqueo</td>\n",
       "      <td>La localidad ocupa el primer lugar en comparen...</td>\n",
       "      <td>\"Los andenes son para los peatones\", reclama e...</td>\n",
       "      <td>archivo</td>\n",
       "    </tr>\n",
       "    <tr>\n",
       "      <th>2</th>\n",
       "      <td>2</td>\n",
       "      <td>https://www.eltiempo.com/archivo/documento/CMS...</td>\n",
       "      <td>'Me atracaron y vi un arma que me heló la sang...</td>\n",
       "      <td>Un ciudadano relata cómo cuatro hombres lo rob...</td>\n",
       "      <td>A las 7 de la noche me había quedado de encont...</td>\n",
       "      <td>archivo</td>\n",
       "    </tr>\n",
       "    <tr>\n",
       "      <th>3</th>\n",
       "      <td>3</td>\n",
       "      <td>https://www.eltiempo.com/archivo/documento/CMS...</td>\n",
       "      <td>Escoltas mal estacionados, dolor de cabeza de ...</td>\n",
       "      <td>Las zonas de restaurantes se convierten en par...</td>\n",
       "      <td>Atravesados. Eso es lo que se les pasa por la ...</td>\n",
       "      <td>archivo</td>\n",
       "    </tr>\n",
       "    <tr>\n",
       "      <th>4</th>\n",
       "      <td>4</td>\n",
       "      <td>https://www.eltiempo.com/archivo/documento/CMS...</td>\n",
       "      <td>Radicado primer proyecto que autorizaría union...</td>\n",
       "      <td>El representante de 'la U', Miguel Gómez, dijo...</td>\n",
       "      <td>“Estamos proponiendo la figura de un contrato ...</td>\n",
       "      <td>archivo</td>\n",
       "    </tr>\n",
       "  </tbody>\n",
       "</table>\n",
       "</div>"
      ],
      "text/plain": [
       "   Columna1                                            Enlaces  \\\n",
       "0         0  https://www.eltiempo.com/agresion-contra-un-op...   \n",
       "1         1  https://www.eltiempo.com/archivo/documento/CMS...   \n",
       "2         2  https://www.eltiempo.com/archivo/documento/CMS...   \n",
       "3         3  https://www.eltiempo.com/archivo/documento/CMS...   \n",
       "4         4  https://www.eltiempo.com/archivo/documento/CMS...   \n",
       "\n",
       "                                              Título  \\\n",
       "0  Operador de grúa quedó inconsciente tras agres...   \n",
       "1   Usaquén, primera en infracciones por mal parqueo   \n",
       "2  'Me atracaron y vi un arma que me heló la sang...   \n",
       "3  Escoltas mal estacionados, dolor de cabeza de ...   \n",
       "4  Radicado primer proyecto que autorizaría union...   \n",
       "\n",
       "                                                info  \\\n",
       "0  El conductor de una moto le lanzó el casco y p...   \n",
       "1  La localidad ocupa el primer lugar en comparen...   \n",
       "2  Un ciudadano relata cómo cuatro hombres lo rob...   \n",
       "3  Las zonas de restaurantes se convierten en par...   \n",
       "4  El representante de 'la U', Miguel Gómez, dijo...   \n",
       "\n",
       "                                           contenido  Etiqueta  \n",
       "0  Las autoridades están buscando al conductor de...  colombia  \n",
       "1  \"Los andenes son para los peatones\", reclama e...   archivo  \n",
       "2  A las 7 de la noche me había quedado de encont...   archivo  \n",
       "3  Atravesados. Eso es lo que se les pasa por la ...   archivo  \n",
       "4  “Estamos proponiendo la figura de un contrato ...   archivo  "
      ]
     },
     "execution_count": 53,
     "metadata": {},
     "output_type": "execute_result"
    }
   ],
   "source": [
    "# importar las librerías necesarias\n",
    "\n",
    "import numpy as np\n",
    "import matplotlib.pyplot as plt\n",
    "import pandas as pd\n",
    "import nltk\n",
    "from nltk.tokenize import word_tokenize\n",
    "import string\n",
    "import re\n",
    "from sklearn.feature_extraction.text import TfidfVectorizer\n",
    "from gensim.models import Word2Vec\n",
    "\n",
    "\n",
    "# Descargar recursos de NLTK\n",
    "nltk.download('punkt')\n",
    "nltk.download('stopwords')\n",
    "from nltk.corpus import stopwords\n",
    "\n",
    "# Cargar el archivo de datos\n",
    "file_path = '../data_raw/Noticias.xlsx'\n",
    "df_news = pd.read_excel(file_path)\n",
    "\n",
    "# Mostrar una vista previa de los datos\n",
    "df_news.head()"
   ]
  },
  {
   "cell_type": "code",
   "execution_count": 54,
   "metadata": {},
   "outputs": [
    {
     "name": "stdout",
     "output_type": "stream",
     "text": [
      "Cantidad de etiquetas en la columna Etiqueta: \n",
      "\n",
      "Etiqueta\n",
      "archivo     9187\n",
      "colombia     934\n",
      "deportes     727\n",
      "opinion      532\n",
      "mundo        446\n",
      "cultura      430\n",
      "economia     367\n",
      "justicia     343\n",
      "bogota       311\n",
      "vida         268\n",
      "Name: count, dtype: int64\n",
      "==================================================\n",
      "Proporción de etiquetas en la columna Etiqueta: \n",
      "\n",
      "Etiqueta\n",
      "archivo     0.638163\n",
      "colombia    0.064879\n",
      "deportes    0.050500\n",
      "opinion     0.036955\n",
      "mundo       0.030981\n",
      "cultura     0.029869\n",
      "economia    0.025493\n",
      "justicia    0.023826\n",
      "bogota      0.021603\n",
      "vida        0.018616\n",
      "Name: proportion, dtype: float64\n"
     ]
    }
   ],
   "source": [
    "# análisis exploratorio de la columna Etiqueta\n",
    "\n",
    "print(f'Cantidad de etiquetas en la columna Etiqueta: \\n')\n",
    "print(df_news['Etiqueta'].value_counts().head(10))\n",
    "\n",
    "print('='*50)\n",
    "\n",
    "print(f'Proporción de etiquetas en la columna Etiqueta: \\n')\n",
    "print(df_news['Etiqueta'].value_counts(normalize=True).head(10))"
   ]
  },
  {
   "cell_type": "markdown",
   "metadata": {},
   "source": [
    "**Análisis de la columna `Etiqueta`:**\n",
    "Encontramos que la columna `Etiqueta` tiene un 63% de etiquetas `archivo` del total de noticias y un 6.5% de etiquetas `colombia`.\n",
    "\n",
    "Las etiquetas de interés para esta actividad: `deportes`, `cultura`, `economia` y `justicia`, suman un 13% del total de noticias."
   ]
  },
  {
   "cell_type": "code",
   "execution_count": 55,
   "metadata": {},
   "outputs": [
    {
     "data": {
      "text/plain": [
       "Etiqueta\n",
       "deportes    727\n",
       "cultura     430\n",
       "economia    367\n",
       "justicia    343\n",
       "Name: count, dtype: int64"
      ]
     },
     "execution_count": 55,
     "metadata": {},
     "output_type": "execute_result"
    }
   ],
   "source": [
    "# filtrar por las categorías de interés\n",
    "\n",
    "categorias = ['deportes', 'cultura', 'economia', 'justicia']\n",
    "\n",
    "df_news = df_news[df_news['Etiqueta'].isin(categorias)]\n",
    "\n",
    "# revisar distribución de las categorías\n",
    "df_news['Etiqueta'].value_counts()"
   ]
  },
  {
   "cell_type": "code",
   "execution_count": 56,
   "metadata": {},
   "outputs": [
    {
     "name": "stderr",
     "output_type": "stream",
     "text": [
      "C:\\Users\\ingen\\AppData\\Local\\Temp\\ipykernel_23080\\2163802621.py:3: DeprecationWarning: DataFrameGroupBy.apply operated on the grouping columns. This behavior is deprecated, and in a future version of pandas the grouping columns will be excluded from the operation. Either pass `include_groups=False` to exclude the groupings or explicitly select the grouping columns after groupby to silence this warning.\n",
      "  df_news = df_news.groupby('Etiqueta').apply(lambda x: x.sample(340, random_state=42)).reset_index(drop=True)\n"
     ]
    },
    {
     "data": {
      "text/plain": [
       "Etiqueta\n",
       "cultura     340\n",
       "deportes    340\n",
       "economia    340\n",
       "justicia    340\n",
       "Name: count, dtype: int64"
      ]
     },
     "execution_count": 56,
     "metadata": {},
     "output_type": "execute_result"
    }
   ],
   "source": [
    "# equilibrar las categorías\n",
    "\n",
    "df_news = df_news.groupby('Etiqueta').apply(lambda x: x.sample(340, random_state=42)).reset_index(drop=True)\n",
    "\n",
    "# revisar distribución de las categorías\n",
    "df_news['Etiqueta'].value_counts()"
   ]
  },
  {
   "cell_type": "code",
   "execution_count": 57,
   "metadata": {},
   "outputs": [
    {
     "data": {
      "text/html": [
       "<div>\n",
       "<style scoped>\n",
       "    .dataframe tbody tr th:only-of-type {\n",
       "        vertical-align: middle;\n",
       "    }\n",
       "\n",
       "    .dataframe tbody tr th {\n",
       "        vertical-align: top;\n",
       "    }\n",
       "\n",
       "    .dataframe thead th {\n",
       "        text-align: right;\n",
       "    }\n",
       "</style>\n",
       "<table border=\"1\" class=\"dataframe\">\n",
       "  <thead>\n",
       "    <tr style=\"text-align: right;\">\n",
       "      <th></th>\n",
       "      <th>Columna1</th>\n",
       "      <th>Enlaces</th>\n",
       "      <th>Título</th>\n",
       "      <th>info</th>\n",
       "      <th>contenido</th>\n",
       "      <th>Etiqueta</th>\n",
       "    </tr>\n",
       "  </thead>\n",
       "  <tbody>\n",
       "    <tr>\n",
       "      <th>0</th>\n",
       "      <td>10909</td>\n",
       "      <td>https://www.eltiempo.com/cultura/musica-y-libr...</td>\n",
       "      <td>Luis Miguel, 50 años de un sol sin ocaso</td>\n",
       "      <td>'El Sol de México' cumple 50 años. Su historia...</td>\n",
       "      <td>Siendo un niño, ‘El Sol de México’ se convirti...</td>\n",
       "      <td>cultura</td>\n",
       "    </tr>\n",
       "    <tr>\n",
       "      <th>1</th>\n",
       "      <td>10562</td>\n",
       "      <td>https://www.eltiempo.com/cultura/cine-y-tv/cri...</td>\n",
       "      <td>Críticamente: Aquí y ahora</td>\n",
       "      <td>Las películas de Víctor Gaviria constituyen un...</td>\n",
       "      <td>Las películas de Víctor Gaviria constituyen un...</td>\n",
       "      <td>cultura</td>\n",
       "    </tr>\n",
       "    <tr>\n",
       "      <th>2</th>\n",
       "      <td>10664</td>\n",
       "      <td>https://www.eltiempo.com/cultura/gastronomia/c...</td>\n",
       "      <td>Mejor con chimichurri / El Caldero</td>\n",
       "      <td>¿Dónde encontrar esa buena salsa para aderezar...</td>\n",
       "      <td>Del inagotable repertorio de las salsas, no cr...</td>\n",
       "      <td>cultura</td>\n",
       "    </tr>\n",
       "    <tr>\n",
       "      <th>3</th>\n",
       "      <td>10517</td>\n",
       "      <td>https://www.eltiempo.com/cultura/arte-y-teatro...</td>\n",
       "      <td>Secretos coloniales de la Casa 1537 de Cartagena</td>\n",
       "      <td>Este sitio, que fue catedral, colegio y hospit...</td>\n",
       "      <td>La Casa 1537, ubicada en la calle del Colegio ...</td>\n",
       "      <td>cultura</td>\n",
       "    </tr>\n",
       "    <tr>\n",
       "      <th>4</th>\n",
       "      <td>10848</td>\n",
       "      <td>https://www.eltiempo.com/cultura/musica-y-libr...</td>\n",
       "      <td>Judas Priest, Helloween y Kreator estarán en e...</td>\n",
       "      <td>El festival será el 26 de octubre en el Hipódr...</td>\n",
       "      <td>Judas Priest, la banda británica fundamental e...</td>\n",
       "      <td>cultura</td>\n",
       "    </tr>\n",
       "  </tbody>\n",
       "</table>\n",
       "</div>"
      ],
      "text/plain": [
       "   Columna1                                            Enlaces  \\\n",
       "0     10909  https://www.eltiempo.com/cultura/musica-y-libr...   \n",
       "1     10562  https://www.eltiempo.com/cultura/cine-y-tv/cri...   \n",
       "2     10664  https://www.eltiempo.com/cultura/gastronomia/c...   \n",
       "3     10517  https://www.eltiempo.com/cultura/arte-y-teatro...   \n",
       "4     10848  https://www.eltiempo.com/cultura/musica-y-libr...   \n",
       "\n",
       "                                              Título  \\\n",
       "0           Luis Miguel, 50 años de un sol sin ocaso   \n",
       "1                         Críticamente: Aquí y ahora   \n",
       "2                 Mejor con chimichurri / El Caldero   \n",
       "3   Secretos coloniales de la Casa 1537 de Cartagena   \n",
       "4  Judas Priest, Helloween y Kreator estarán en e...   \n",
       "\n",
       "                                                info  \\\n",
       "0  'El Sol de México' cumple 50 años. Su historia...   \n",
       "1  Las películas de Víctor Gaviria constituyen un...   \n",
       "2  ¿Dónde encontrar esa buena salsa para aderezar...   \n",
       "3  Este sitio, que fue catedral, colegio y hospit...   \n",
       "4  El festival será el 26 de octubre en el Hipódr...   \n",
       "\n",
       "                                           contenido Etiqueta  \n",
       "0  Siendo un niño, ‘El Sol de México’ se convirti...  cultura  \n",
       "1  Las películas de Víctor Gaviria constituyen un...  cultura  \n",
       "2  Del inagotable repertorio de las salsas, no cr...  cultura  \n",
       "3  La Casa 1537, ubicada en la calle del Colegio ...  cultura  \n",
       "4  Judas Priest, la banda británica fundamental e...  cultura  "
      ]
     },
     "execution_count": 57,
     "metadata": {},
     "output_type": "execute_result"
    }
   ],
   "source": [
    "df_news.head()"
   ]
  },
  {
   "cell_type": "code",
   "execution_count": 58,
   "metadata": {},
   "outputs": [
    {
     "data": {
      "text/html": [
       "<div>\n",
       "<style scoped>\n",
       "    .dataframe tbody tr th:only-of-type {\n",
       "        vertical-align: middle;\n",
       "    }\n",
       "\n",
       "    .dataframe tbody tr th {\n",
       "        vertical-align: top;\n",
       "    }\n",
       "\n",
       "    .dataframe thead th {\n",
       "        text-align: right;\n",
       "    }\n",
       "</style>\n",
       "<table border=\"1\" class=\"dataframe\">\n",
       "  <thead>\n",
       "    <tr style=\"text-align: right;\">\n",
       "      <th></th>\n",
       "      <th>Columna1</th>\n",
       "      <th>Enlaces</th>\n",
       "      <th>Título</th>\n",
       "      <th>info</th>\n",
       "      <th>contenido</th>\n",
       "      <th>Etiqueta</th>\n",
       "      <th>contenido_limpio</th>\n",
       "    </tr>\n",
       "  </thead>\n",
       "  <tbody>\n",
       "    <tr>\n",
       "      <th>0</th>\n",
       "      <td>10909</td>\n",
       "      <td>https://www.eltiempo.com/cultura/musica-y-libr...</td>\n",
       "      <td>Luis Miguel, 50 años de un sol sin ocaso</td>\n",
       "      <td>'El Sol de México' cumple 50 años. Su historia...</td>\n",
       "      <td>Siendo un niño, ‘El Sol de México’ se convirti...</td>\n",
       "      <td>cultura</td>\n",
       "      <td>siendo un niño el sol de méxico se convirtió e...</td>\n",
       "    </tr>\n",
       "    <tr>\n",
       "      <th>1</th>\n",
       "      <td>10562</td>\n",
       "      <td>https://www.eltiempo.com/cultura/cine-y-tv/cri...</td>\n",
       "      <td>Críticamente: Aquí y ahora</td>\n",
       "      <td>Las películas de Víctor Gaviria constituyen un...</td>\n",
       "      <td>Las películas de Víctor Gaviria constituyen un...</td>\n",
       "      <td>cultura</td>\n",
       "      <td>las películas de víctor gaviria constituyen un...</td>\n",
       "    </tr>\n",
       "    <tr>\n",
       "      <th>2</th>\n",
       "      <td>10664</td>\n",
       "      <td>https://www.eltiempo.com/cultura/gastronomia/c...</td>\n",
       "      <td>Mejor con chimichurri / El Caldero</td>\n",
       "      <td>¿Dónde encontrar esa buena salsa para aderezar...</td>\n",
       "      <td>Del inagotable repertorio de las salsas, no cr...</td>\n",
       "      <td>cultura</td>\n",
       "      <td>del inagotable repertorio de las salsas no cre...</td>\n",
       "    </tr>\n",
       "    <tr>\n",
       "      <th>3</th>\n",
       "      <td>10517</td>\n",
       "      <td>https://www.eltiempo.com/cultura/arte-y-teatro...</td>\n",
       "      <td>Secretos coloniales de la Casa 1537 de Cartagena</td>\n",
       "      <td>Este sitio, que fue catedral, colegio y hospit...</td>\n",
       "      <td>La Casa 1537, ubicada en la calle del Colegio ...</td>\n",
       "      <td>cultura</td>\n",
       "      <td>la casa  ubicada en la calle del colegio del c...</td>\n",
       "    </tr>\n",
       "    <tr>\n",
       "      <th>4</th>\n",
       "      <td>10848</td>\n",
       "      <td>https://www.eltiempo.com/cultura/musica-y-libr...</td>\n",
       "      <td>Judas Priest, Helloween y Kreator estarán en e...</td>\n",
       "      <td>El festival será el 26 de octubre en el Hipódr...</td>\n",
       "      <td>Judas Priest, la banda británica fundamental e...</td>\n",
       "      <td>cultura</td>\n",
       "      <td>judas priest la banda británica fundamental en...</td>\n",
       "    </tr>\n",
       "  </tbody>\n",
       "</table>\n",
       "</div>"
      ],
      "text/plain": [
       "   Columna1                                            Enlaces  \\\n",
       "0     10909  https://www.eltiempo.com/cultura/musica-y-libr...   \n",
       "1     10562  https://www.eltiempo.com/cultura/cine-y-tv/cri...   \n",
       "2     10664  https://www.eltiempo.com/cultura/gastronomia/c...   \n",
       "3     10517  https://www.eltiempo.com/cultura/arte-y-teatro...   \n",
       "4     10848  https://www.eltiempo.com/cultura/musica-y-libr...   \n",
       "\n",
       "                                              Título  \\\n",
       "0           Luis Miguel, 50 años de un sol sin ocaso   \n",
       "1                         Críticamente: Aquí y ahora   \n",
       "2                 Mejor con chimichurri / El Caldero   \n",
       "3   Secretos coloniales de la Casa 1537 de Cartagena   \n",
       "4  Judas Priest, Helloween y Kreator estarán en e...   \n",
       "\n",
       "                                                info  \\\n",
       "0  'El Sol de México' cumple 50 años. Su historia...   \n",
       "1  Las películas de Víctor Gaviria constituyen un...   \n",
       "2  ¿Dónde encontrar esa buena salsa para aderezar...   \n",
       "3  Este sitio, que fue catedral, colegio y hospit...   \n",
       "4  El festival será el 26 de octubre en el Hipódr...   \n",
       "\n",
       "                                           contenido Etiqueta  \\\n",
       "0  Siendo un niño, ‘El Sol de México’ se convirti...  cultura   \n",
       "1  Las películas de Víctor Gaviria constituyen un...  cultura   \n",
       "2  Del inagotable repertorio de las salsas, no cr...  cultura   \n",
       "3  La Casa 1537, ubicada en la calle del Colegio ...  cultura   \n",
       "4  Judas Priest, la banda británica fundamental e...  cultura   \n",
       "\n",
       "                                    contenido_limpio  \n",
       "0  siendo un niño el sol de méxico se convirtió e...  \n",
       "1  las películas de víctor gaviria constituyen un...  \n",
       "2  del inagotable repertorio de las salsas no cre...  \n",
       "3  la casa  ubicada en la calle del colegio del c...  \n",
       "4  judas priest la banda británica fundamental en...  "
      ]
     },
     "execution_count": 58,
     "metadata": {},
     "output_type": "execute_result"
    }
   ],
   "source": [
    "# Preprocesamiento de texto\n",
    "\n",
    "def clean_text(text):\n",
    "    # Eliminar caracteres especiales\n",
    "    text = re.sub(r'[\\W_]+', ' ', text)\n",
    "    # Eliminar caracteres de un solo espacio\n",
    "    text = re.sub(r'\\s+', ' ', text)\n",
    "    # eliminar números\n",
    "    text = re.sub(r'\\d+', '', text)\n",
    "    # eliminar puntuaación\n",
    "    text = text.translate(str.maketrans('', '', string.punctuation))\n",
    "    # Convertir texto a minúsculas\n",
    "    text = text.lower()\n",
    "    return text\n",
    "\n",
    "# Rellenar valores nulos en la columna 'contenido' con una cadena vacía\n",
    "df_news['contenido'] = df_news['contenido'].fillna('')\n",
    "\n",
    "# Aplicar la función de limpieza de texto\n",
    "df_news['contenido_limpio'] = df_news['contenido'].apply(clean_text)\n",
    "\n",
    "# revisar los datos\n",
    "df_news.head()"
   ]
  },
  {
   "cell_type": "code",
   "execution_count": 59,
   "metadata": {},
   "outputs": [
    {
     "data": {
      "text/html": [
       "<div>\n",
       "<style scoped>\n",
       "    .dataframe tbody tr th:only-of-type {\n",
       "        vertical-align: middle;\n",
       "    }\n",
       "\n",
       "    .dataframe tbody tr th {\n",
       "        vertical-align: top;\n",
       "    }\n",
       "\n",
       "    .dataframe thead th {\n",
       "        text-align: right;\n",
       "    }\n",
       "</style>\n",
       "<table border=\"1\" class=\"dataframe\">\n",
       "  <thead>\n",
       "    <tr style=\"text-align: right;\">\n",
       "      <th></th>\n",
       "      <th>Columna1</th>\n",
       "      <th>Enlaces</th>\n",
       "      <th>Título</th>\n",
       "      <th>info</th>\n",
       "      <th>contenido</th>\n",
       "      <th>Etiqueta</th>\n",
       "      <th>contenido_limpio</th>\n",
       "    </tr>\n",
       "  </thead>\n",
       "  <tbody>\n",
       "    <tr>\n",
       "      <th>0</th>\n",
       "      <td>10909</td>\n",
       "      <td>https://www.eltiempo.com/cultura/musica-y-libr...</td>\n",
       "      <td>Luis Miguel, 50 años de un sol sin ocaso</td>\n",
       "      <td>'El Sol de México' cumple 50 años. Su historia...</td>\n",
       "      <td>Siendo un niño, ‘El Sol de México’ se convirti...</td>\n",
       "      <td>cultura</td>\n",
       "      <td>siendo niño sol méxico convirtió auténtico fen...</td>\n",
       "    </tr>\n",
       "    <tr>\n",
       "      <th>1</th>\n",
       "      <td>10562</td>\n",
       "      <td>https://www.eltiempo.com/cultura/cine-y-tv/cri...</td>\n",
       "      <td>Críticamente: Aquí y ahora</td>\n",
       "      <td>Las películas de Víctor Gaviria constituyen un...</td>\n",
       "      <td>Las películas de Víctor Gaviria constituyen un...</td>\n",
       "      <td>cultura</td>\n",
       "      <td>películas víctor gaviria constituyen capítulo ...</td>\n",
       "    </tr>\n",
       "    <tr>\n",
       "      <th>2</th>\n",
       "      <td>10664</td>\n",
       "      <td>https://www.eltiempo.com/cultura/gastronomia/c...</td>\n",
       "      <td>Mejor con chimichurri / El Caldero</td>\n",
       "      <td>¿Dónde encontrar esa buena salsa para aderezar...</td>\n",
       "      <td>Del inagotable repertorio de las salsas, no cr...</td>\n",
       "      <td>cultura</td>\n",
       "      <td>inagotable repertorio salsas creo recordar sup...</td>\n",
       "    </tr>\n",
       "    <tr>\n",
       "      <th>3</th>\n",
       "      <td>10517</td>\n",
       "      <td>https://www.eltiempo.com/cultura/arte-y-teatro...</td>\n",
       "      <td>Secretos coloniales de la Casa 1537 de Cartagena</td>\n",
       "      <td>Este sitio, que fue catedral, colegio y hospit...</td>\n",
       "      <td>La Casa 1537, ubicada en la calle del Colegio ...</td>\n",
       "      <td>cultura</td>\n",
       "      <td>casa ubicada calle colegio centro histórico ca...</td>\n",
       "    </tr>\n",
       "    <tr>\n",
       "      <th>4</th>\n",
       "      <td>10848</td>\n",
       "      <td>https://www.eltiempo.com/cultura/musica-y-libr...</td>\n",
       "      <td>Judas Priest, Helloween y Kreator estarán en e...</td>\n",
       "      <td>El festival será el 26 de octubre en el Hipódr...</td>\n",
       "      <td>Judas Priest, la banda británica fundamental e...</td>\n",
       "      <td>cultura</td>\n",
       "      <td>judas priest banda británica fundamental escen...</td>\n",
       "    </tr>\n",
       "  </tbody>\n",
       "</table>\n",
       "</div>"
      ],
      "text/plain": [
       "   Columna1                                            Enlaces  \\\n",
       "0     10909  https://www.eltiempo.com/cultura/musica-y-libr...   \n",
       "1     10562  https://www.eltiempo.com/cultura/cine-y-tv/cri...   \n",
       "2     10664  https://www.eltiempo.com/cultura/gastronomia/c...   \n",
       "3     10517  https://www.eltiempo.com/cultura/arte-y-teatro...   \n",
       "4     10848  https://www.eltiempo.com/cultura/musica-y-libr...   \n",
       "\n",
       "                                              Título  \\\n",
       "0           Luis Miguel, 50 años de un sol sin ocaso   \n",
       "1                         Críticamente: Aquí y ahora   \n",
       "2                 Mejor con chimichurri / El Caldero   \n",
       "3   Secretos coloniales de la Casa 1537 de Cartagena   \n",
       "4  Judas Priest, Helloween y Kreator estarán en e...   \n",
       "\n",
       "                                                info  \\\n",
       "0  'El Sol de México' cumple 50 años. Su historia...   \n",
       "1  Las películas de Víctor Gaviria constituyen un...   \n",
       "2  ¿Dónde encontrar esa buena salsa para aderezar...   \n",
       "3  Este sitio, que fue catedral, colegio y hospit...   \n",
       "4  El festival será el 26 de octubre en el Hipódr...   \n",
       "\n",
       "                                           contenido Etiqueta  \\\n",
       "0  Siendo un niño, ‘El Sol de México’ se convirti...  cultura   \n",
       "1  Las películas de Víctor Gaviria constituyen un...  cultura   \n",
       "2  Del inagotable repertorio de las salsas, no cr...  cultura   \n",
       "3  La Casa 1537, ubicada en la calle del Colegio ...  cultura   \n",
       "4  Judas Priest, la banda británica fundamental e...  cultura   \n",
       "\n",
       "                                    contenido_limpio  \n",
       "0  siendo niño sol méxico convirtió auténtico fen...  \n",
       "1  películas víctor gaviria constituyen capítulo ...  \n",
       "2  inagotable repertorio salsas creo recordar sup...  \n",
       "3  casa ubicada calle colegio centro histórico ca...  \n",
       "4  judas priest banda británica fundamental escen...  "
      ]
     },
     "execution_count": 59,
     "metadata": {},
     "output_type": "execute_result"
    }
   ],
   "source": [
    "# eliminar stopwords\n",
    "stop_words = set(stopwords.words('spanish'))\n",
    "\n",
    "def remove_stopwords(text):\n",
    "    tokens = word_tokenize(text)\n",
    "    tokens = [word for word in tokens if word not in stop_words]\n",
    "    return ' '.join(tokens)\n",
    "\n",
    "# Aplicar la función para eliminar stopwords\n",
    "df_news['contenido_limpio'] = df_news['contenido_limpio'].apply(remove_stopwords)\n",
    "\n",
    "# revisar los datos\n",
    "df_news.head()"
   ]
  },
  {
   "cell_type": "code",
   "execution_count": 60,
   "metadata": {},
   "outputs": [
    {
     "data": {
      "text/html": [
       "<div>\n",
       "<style scoped>\n",
       "    .dataframe tbody tr th:only-of-type {\n",
       "        vertical-align: middle;\n",
       "    }\n",
       "\n",
       "    .dataframe tbody tr th {\n",
       "        vertical-align: top;\n",
       "    }\n",
       "\n",
       "    .dataframe thead th {\n",
       "        text-align: right;\n",
       "    }\n",
       "</style>\n",
       "<table border=\"1\" class=\"dataframe\">\n",
       "  <thead>\n",
       "    <tr style=\"text-align: right;\">\n",
       "      <th></th>\n",
       "      <th>Columna1</th>\n",
       "      <th>Enlaces</th>\n",
       "      <th>Título</th>\n",
       "      <th>info</th>\n",
       "      <th>contenido</th>\n",
       "      <th>Etiqueta</th>\n",
       "      <th>contenido_limpio</th>\n",
       "      <th>tokens</th>\n",
       "    </tr>\n",
       "  </thead>\n",
       "  <tbody>\n",
       "    <tr>\n",
       "      <th>0</th>\n",
       "      <td>10909</td>\n",
       "      <td>https://www.eltiempo.com/cultura/musica-y-libr...</td>\n",
       "      <td>Luis Miguel, 50 años de un sol sin ocaso</td>\n",
       "      <td>'El Sol de México' cumple 50 años. Su historia...</td>\n",
       "      <td>Siendo un niño, ‘El Sol de México’ se convirti...</td>\n",
       "      <td>cultura</td>\n",
       "      <td>siendo niño sol méxico convirtió auténtico fen...</td>\n",
       "      <td>[siendo, niño, sol, méxico, convirtió, auténti...</td>\n",
       "    </tr>\n",
       "    <tr>\n",
       "      <th>1</th>\n",
       "      <td>10562</td>\n",
       "      <td>https://www.eltiempo.com/cultura/cine-y-tv/cri...</td>\n",
       "      <td>Críticamente: Aquí y ahora</td>\n",
       "      <td>Las películas de Víctor Gaviria constituyen un...</td>\n",
       "      <td>Las películas de Víctor Gaviria constituyen un...</td>\n",
       "      <td>cultura</td>\n",
       "      <td>películas víctor gaviria constituyen capítulo ...</td>\n",
       "      <td>[películas, víctor, gaviria, constituyen, capí...</td>\n",
       "    </tr>\n",
       "    <tr>\n",
       "      <th>2</th>\n",
       "      <td>10664</td>\n",
       "      <td>https://www.eltiempo.com/cultura/gastronomia/c...</td>\n",
       "      <td>Mejor con chimichurri / El Caldero</td>\n",
       "      <td>¿Dónde encontrar esa buena salsa para aderezar...</td>\n",
       "      <td>Del inagotable repertorio de las salsas, no cr...</td>\n",
       "      <td>cultura</td>\n",
       "      <td>inagotable repertorio salsas creo recordar sup...</td>\n",
       "      <td>[inagotable, repertorio, salsas, creo, recorda...</td>\n",
       "    </tr>\n",
       "    <tr>\n",
       "      <th>3</th>\n",
       "      <td>10517</td>\n",
       "      <td>https://www.eltiempo.com/cultura/arte-y-teatro...</td>\n",
       "      <td>Secretos coloniales de la Casa 1537 de Cartagena</td>\n",
       "      <td>Este sitio, que fue catedral, colegio y hospit...</td>\n",
       "      <td>La Casa 1537, ubicada en la calle del Colegio ...</td>\n",
       "      <td>cultura</td>\n",
       "      <td>casa ubicada calle colegio centro histórico ca...</td>\n",
       "      <td>[casa, ubicada, calle, colegio, centro, histór...</td>\n",
       "    </tr>\n",
       "    <tr>\n",
       "      <th>4</th>\n",
       "      <td>10848</td>\n",
       "      <td>https://www.eltiempo.com/cultura/musica-y-libr...</td>\n",
       "      <td>Judas Priest, Helloween y Kreator estarán en e...</td>\n",
       "      <td>El festival será el 26 de octubre en el Hipódr...</td>\n",
       "      <td>Judas Priest, la banda británica fundamental e...</td>\n",
       "      <td>cultura</td>\n",
       "      <td>judas priest banda británica fundamental escen...</td>\n",
       "      <td>[judas, priest, banda, británica, fundamental,...</td>\n",
       "    </tr>\n",
       "  </tbody>\n",
       "</table>\n",
       "</div>"
      ],
      "text/plain": [
       "   Columna1                                            Enlaces  \\\n",
       "0     10909  https://www.eltiempo.com/cultura/musica-y-libr...   \n",
       "1     10562  https://www.eltiempo.com/cultura/cine-y-tv/cri...   \n",
       "2     10664  https://www.eltiempo.com/cultura/gastronomia/c...   \n",
       "3     10517  https://www.eltiempo.com/cultura/arte-y-teatro...   \n",
       "4     10848  https://www.eltiempo.com/cultura/musica-y-libr...   \n",
       "\n",
       "                                              Título  \\\n",
       "0           Luis Miguel, 50 años de un sol sin ocaso   \n",
       "1                         Críticamente: Aquí y ahora   \n",
       "2                 Mejor con chimichurri / El Caldero   \n",
       "3   Secretos coloniales de la Casa 1537 de Cartagena   \n",
       "4  Judas Priest, Helloween y Kreator estarán en e...   \n",
       "\n",
       "                                                info  \\\n",
       "0  'El Sol de México' cumple 50 años. Su historia...   \n",
       "1  Las películas de Víctor Gaviria constituyen un...   \n",
       "2  ¿Dónde encontrar esa buena salsa para aderezar...   \n",
       "3  Este sitio, que fue catedral, colegio y hospit...   \n",
       "4  El festival será el 26 de octubre en el Hipódr...   \n",
       "\n",
       "                                           contenido Etiqueta  \\\n",
       "0  Siendo un niño, ‘El Sol de México’ se convirti...  cultura   \n",
       "1  Las películas de Víctor Gaviria constituyen un...  cultura   \n",
       "2  Del inagotable repertorio de las salsas, no cr...  cultura   \n",
       "3  La Casa 1537, ubicada en la calle del Colegio ...  cultura   \n",
       "4  Judas Priest, la banda británica fundamental e...  cultura   \n",
       "\n",
       "                                    contenido_limpio  \\\n",
       "0  siendo niño sol méxico convirtió auténtico fen...   \n",
       "1  películas víctor gaviria constituyen capítulo ...   \n",
       "2  inagotable repertorio salsas creo recordar sup...   \n",
       "3  casa ubicada calle colegio centro histórico ca...   \n",
       "4  judas priest banda británica fundamental escen...   \n",
       "\n",
       "                                              tokens  \n",
       "0  [siendo, niño, sol, méxico, convirtió, auténti...  \n",
       "1  [películas, víctor, gaviria, constituyen, capí...  \n",
       "2  [inagotable, repertorio, salsas, creo, recorda...  \n",
       "3  [casa, ubicada, calle, colegio, centro, histór...  \n",
       "4  [judas, priest, banda, británica, fundamental,...  "
      ]
     },
     "execution_count": 60,
     "metadata": {},
     "output_type": "execute_result"
    }
   ],
   "source": [
    "# tokenización\n",
    "df_news['tokens'] = df_news['contenido_limpio'].apply(word_tokenize)\n",
    "\n",
    "# revisar los datos\n",
    "df_news.head()\n"
   ]
  },
  {
   "cell_type": "code",
   "execution_count": 61,
   "metadata": {},
   "outputs": [
    {
     "name": "stdout",
     "output_type": "stream",
     "text": [
      "Contenido original: \n",
      "siendo niño sol méxico convirtió auténtico fenómeno méxico pronto arrasó toda latinoamérica marcando generaciones enteras estrella luego años bache carrera regresó popularidad gracias serie basada vida empezó cantar apenas diez años pronto convirtió fenómeno méxico grandes voces canción romántica así aún cumplido quince años recibió primer grammy canción gustas tal interpretó dúo escocesa sheena easton hoy tras cuatro décadas carrera sigue siendo grandes representantes música mexicana latina mundo temprano luis miguel deja ser niño ser trabajador sometido disciplina tenaz claro marcado vida completamente aspectos positivos desarrollar carrera sólida negativos haberse visto privado momentos haberse fracturado carrera asegura periodista javier león herrera personas quizás conozca vida artista escrito varias biografías puede interesar rené cara íntima residente luis miguel nació veracruz hizo creer padre inicio carrera sino san juan puerto rico impedimento rápidamente convirtiera sol méxico protagonista vida servido inspiración serie productora netflix pasado mes enero anunció segunda entrega luis miguel serie si primera temporada narra infancia juventud artista segunda entrega serie centrará etapa adulta luis miguel nueva entrega actor mexicano diego boneta continuará interpretando cantante luis miguel cumple años hoy protagonizado intensa vida periodista javier león herrera recogió biografías luis rey luis miguel historia oro rey luis miguel años sol primera basa serie netflix serie llegó momento delicado carrera plan rescate trazó poderlo levantar nuevo jugó papel fundamental éxito principalmente méxico argentina chile positivo permitido artista captar generaciones nuevas vio reflejado impactos plataformas spotify luis miguel coincidiendo serie disparó expone león herrera propósito impacto serie latinoamérica ficción repaso biografía perspectiva propio luis miguel deja buen lugar papel jugó padre artista español luisito rey intenta zanjar misterio l desaparición madre italiana marcela basteri suceso marcado profundamente vida artista después aparición televisiva acompañó padre guitarra luis miguel actuó gran éxito boda hija presidente mexicano josé lópez portillo apenas años ayudó conseguir primer contrato discográfico compañía emi años debutó disco sol mismo año lanzó directo corazón publicó tercer álbum decídete aunque éxito definitivo llegó palabra honor incluye balada da título álbum disco año tarde lanzaría versión italiano joven luis miguel pasó éxito prestigiosos festivales canción viña mar san remo además protagonizó dos películas nunca fiebre amor correspondientes bandas sonoras ganó primer premio grammy largo carrera recibido decenas reconocimientos media docena grammy latino tres ocasiones world music award artista latino mayor número ventas producción netflix basada vida ayudó artista mexicano situarse nuevo cúspide popularidad tras superar mayor crisis carrera rodeada cancelaciones giras escándalos judiciales vida sumida hermetismo pese finales luego siete años silencio discográfico lanzó ahora último álbum estudio méxico siempre segundo rancheras dentro trayectoria musical tras méxico piel león herrera hecho seguimiento carrera cantante diversas etapas vida cree sol momento resurgimiento si ocaso años previos tres años ahí delicados momentos años sido renacer ahora mismo momento bueno si sabe administrar grandísimo poder convocatoria puede tener todavía años carrera exitosa dice si hecho célebre luis miguel grandes representantes canción romántica español boleros baladas aunque largo carrera triunfado tipo géneros mariachi pop tango jazz sol méxico desembarcó warner music llegaron mayores éxitos carrera gracias colaboración compositor juan carlos calderón álbumes quiero ser busca mujer años incondicional canción disco quiero ser tema emblemático trayectoria luis miguel lanzó primer disco boleros romance siguieron segundo romance romances romances colaboración cantantes armando manzanero romance auténtico éxito discográfico solamente méxico tercer disco vendido sino sigue siendo álbumes español vendidos nivel global mérito sumado múltiples discos platino grabaciones duda contribuyó revista billboard designará mejor artista latino últimos años artista padre tres hijos michelle nacida relación stephanie salas miguel daniel nacidos relación actriz aracely arámbula protagonizado romances cantante estadounidense mariah carey lanzamiento amarte placer publicaciones discográficas sido cada vez escasas punto última década solo editado álbum méxico siempre últimos trabajos destacan álbum directo r emixes canciones navidad vida luis miguel grabada palabra fundamental león herrera considera reconocimiento deuda artista resiliencia capacidad sobreponerse tantos acontecimientos negativos vida personal cualquier ser humano probablemente derrumbado apunta último año medio gira presentación último disco llevó luis miguel mundo serie conciertos multitudinarios lugares emblemáticos volvió llenar varias noches consecutivas auditorio nacional méxico mostrando pese sol sigue plena forma tras casi cuatro décadas carrera musical efe reportajes miedo p m ejercite mente cuarentena test lógica matemática ponga prueba clases matemáticas colegio vida par manizales p m venden medicamentos cannabis fórmula médica farmacias especializadas colombia posible acceder medicamen manizales p m guía salud mental pueblo casos bipolaridad coronavirus colombia p m cabina desinfección manual barranquilla valle cauca p m recogido cerca mil mercados donatón valle solidario\n",
      "Sequence: \n",
      "[381, 861, 1077, 308, 926, 9845, 1112, 308, 913, 11364, 182, 1447, 11365, 2490, 9846, 1261, 95, 19, 8733, 175, 3090, 4930, 452, 267, 4168, 6, 536, 2269, 507, 914, 19, 913, 926, 1112, 308, 138, 2870, 659, 3989, 61, 224, 2970, 13563, 19, 738, 111, 2576, 659, 23376, 348, 4649, 3990, 9847, 16992, 16993, 97, 88, 152, 997, 175, 300, 381, 138, 1808, 169, 2491, 843, 76, 3198, 109, 453, 779, 55, 861, 55, 3660, 4931, 2871, 11366, 422, 2971, 6, 1809, 1611, 1642, 1471, 175, 7809, 5578, 3497, 648, 1041, 673, 3497, 16994, 175, 443, 1096, 1133, 1406, 1377, 64, 2074, 6503, 6, 434, 2577, 237, 8734, 63, 460, 5210, 1134, 11367, 5579, 109, 453, 1028, 13564, 129, 2972, 791, 1448, 175, 127, 389, 113, 1502, 2075, 11368, 1907, 11369, 1077, 308, 1166, 6, 5580, 3991, 267, 5993, 1908, 72, 275, 253, 537, 199, 621, 109, 453, 267, 50, 87, 332, 5994, 3661, 2578, 434, 199, 621, 267, 23377, 374, 11370, 109, 453, 122, 621, 699, 1769, 426, 5995, 4650, 7085, 721, 109, 453, 2579, 19, 97, 7086, 7087, 6, 1096, 1133, 1406, 1377, 9848, 8734, 109, 1681, 109, 453, 155, 508, 1681, 109, 453, 19, 1077, 87, 4651, 267, 1908, 267, 225, 91, 6504, 175, 325, 7088, 9849, 23378, 4932, 119, 1503, 509, 988, 681, 1969, 308, 294, 520, 1306, 2135, 434, 8735, 2490, 521, 1167, 6505, 5211, 2346, 16995, 109, 453, 11371, 267, 5996, 4652, 1406, 1377, 1612, 496, 267, 1447, 2270, 23379, 5212, 2347, 780, 109, 453, 779, 276, 141, 509, 1503, 791, 434, 649, 16996, 1681, 5581, 16997, 3498, 1350, 4653, 674, 2492, 4654, 23380, 7810, 2971, 7089, 6, 434, 75, 3346, 11372, 5997, 791, 2668, 109, 453, 3347, 84, 681, 5998, 1262, 108, 1769, 172, 372, 16998, 507, 19, 3091, 1536, 111, 309, 4395, 200, 23381, 19, 3348, 1135, 1077, 99, 53, 1861, 2419, 1351, 1136, 942, 1042, 23382, 101, 681, 3805, 225, 1263, 3092, 1029, 7811, 273, 390, 1042, 1135, 53, 622, 23383, 640, 1407, 444, 109, 453, 410, 681, 13565, 5213, 659, 16999, 1472, 389, 9850, 60, 5214, 51, 904, 203, 7090, 631, 3992, 1862, 9851, 485, 111, 623, 2576, 445, 175, 969, 3349, 9852, 693, 13566, 2576, 3806, 70, 1057, 3199, 2076, 9853, 434, 3806, 100, 204, 830, 220, 1908, 4168, 6, 3091, 434, 1769, 13567, 119, 23384, 4930, 88, 1240, 100, 384, 175, 13568, 23385, 11373, 7091, 1504, 6, 17000, 17001, 538, 522, 95, 411, 19, 2669, 4395, 1861, 79, 227, 1042, 446, 308, 106, 144, 17002, 241, 2024, 700, 88, 308, 2670, 1406, 1377, 89, 2194, 175, 721, 3807, 2077, 6, 1113, 1077, 91, 17003, 50, 23386, 19, 4396, 70, 19, 306, 23387, 673, 19, 103, 11374, 79, 99, 91, 513, 50, 545, 7812, 23388, 213, 2136, 63, 93, 594, 19, 175, 3662, 81, 50, 89, 4933, 109, 453, 138, 1808, 659, 3989, 649, 11375, 8736, 101, 445, 175, 17004, 205, 2580, 17005, 1723, 4655, 2271, 1077, 308, 23389, 23390, 2076, 1043, 385, 2671, 175, 452, 1408, 2872, 113, 123, 2973, 4934, 853, 55, 497, 307, 19, 17006, 659, 1135, 853, 55, 188, 6506, 2024, 109, 453, 1861, 111, 1135, 11375, 6507, 5215, 144, 6507, 9854, 9854, 1408, 3663, 2772, 23391, 6507, 9845, 681, 4395, 1473, 308, 942, 1135, 4656, 127, 300, 381, 4934, 649, 9855, 195, 1058, 7092, 3808, 1909, 3664, 13569, 4397, 876, 9856, 1059, 8737, 17007, 94, 434, 3806, 233, 19, 434, 791, 70, 359, 9857, 4657, 412, 11376, 1810, 453, 470, 9858, 412, 862, 23392, 23393, 7086, 9854, 721, 578, 23394, 11377, 2272, 23395, 4935, 5216, 13570, 103, 69, 73, 11378, 214, 345, 998, 58, 13571, 1042, 308, 106, 233, 1505, 4398, 1042, 2419, 2873, 23396, 772, 5217, 6, 109, 453, 5999, 1263, 988, 1406, 1377, 1280, 1211, 970, 434, 8738, 579, 13572, 1352, 9859, 5578, 6, 397, 264, 55, 1613, 2137, 17008, 2420, 227, 53, 131, 1281, 927, 227, 1135, 419, 109, 453, 76, 267, 2348, 23397, 804, 7093, 928, 5218, 237, 3200, 8739, 5582, 71, 308, 4936, 538, 1077, 300, 1474, 117, 88, 193, 152, 997, 175, 700, 566, 7094, 21, 2, 1, 47, 27, 13, 42, 35, 44, 36, 16, 28, 39, 22, 6, 20, 5, 2, 1, 30, 29, 37, 24, 25, 43, 40, 3, 10, 23, 48, 5, 2, 1, 31, 8, 26, 18, 7, 45, 11, 3, 2, 1, 32, 38, 33, 12, 4, 17, 2, 1, 41, 9, 14, 15, 46, 4, 34]\n",
      "Sequence con padding: \n",
      "[ 7811   273   390  1042  1135    53   622 23383   640  1407   444   109\n",
      "   453   410   681 13565  5213   659 16999  1472   389  9850    60  5214\n",
      "    51   904   203  7090   631  3992  1862  9851   485   111   623  2576\n",
      "   445   175   969  3349  9852   693 13566  2576  3806    70  1057  3199\n",
      "  2076  9853   434  3806   100   204   830   220  1908  4168     6  3091\n",
      "   434  1769 13567   119 23384  4930    88  1240   100   384   175 13568\n",
      " 23385 11373  7091  1504     6 17000 17001   538   522    95   411    19\n",
      "  2669  4395  1861    79   227  1042   446   308   106   144 17002   241\n",
      "  2024   700    88   308  2670  1406  1377    89  2194   175   721  3807\n",
      "  2077     6  1113  1077    91 17003    50 23386    19  4396    70    19\n",
      "   306 23387   673    19   103 11374    79    99    91   513    50   545\n",
      "  7812 23388   213  2136    63    93   594    19   175  3662    81    50\n",
      "    89  4933   109   453   138  1808   659  3989   649 11375  8736   101\n",
      "   445   175 17004   205  2580 17005  1723  4655  2271  1077   308 23389\n",
      " 23390  2076  1043   385  2671   175   452  1408  2872   113   123  2973\n",
      "  4934   853    55   497   307    19 17006   659  1135   853    55   188\n",
      "  6506  2024   109   453  1861   111  1135 11375  6507  5215   144  6507\n",
      "  9854  9854  1408  3663  2772 23391  6507  9845   681  4395  1473   308\n",
      "   942  1135  4656   127   300   381  4934   649  9855   195  1058  7092\n",
      "  3808  1909  3664 13569  4397   876  9856  1059  8737 17007    94   434\n",
      "  3806   233    19   434   791    70   359  9857  4657   412 11376  1810\n",
      "   453   470  9858   412   862 23392 23393  7086  9854   721   578 23394\n",
      " 11377  2272 23395  4935  5216 13570   103    69    73 11378   214   345\n",
      "   998    58 13571  1042   308   106   233  1505  4398  1042  2419  2873\n",
      " 23396   772  5217     6   109   453  5999  1263   988  1406  1377  1280\n",
      "  1211   970   434  8738   579 13572  1352  9859  5578     6   397   264\n",
      "    55  1613  2137 17008  2420   227    53   131  1281   927   227  1135\n",
      "   419   109   453    76   267  2348 23397   804  7093   928  5218   237\n",
      "  3200  8739  5582    71   308  4936   538  1077   300  1474   117    88\n",
      "   193   152   997   175   700   566  7094    21     2     1    47    27\n",
      "    13    42    35    44    36    16    28    39    22     6    20     5\n",
      "     2     1    30    29    37    24    25    43    40     3    10    23\n",
      "    48     5     2     1    31     8    26    18     7    45    11     3\n",
      "     2     1    32    38    33    12     4    17     2     1    41     9\n",
      "    14    15    46     4    34]\n"
     ]
    }
   ],
   "source": [
    "# tokenización y padding con tensorflow\n",
    "\n",
    "from tensorflow.keras.preprocessing.text import Tokenizer\n",
    "from tensorflow.keras.preprocessing.sequence import pad_sequences\n",
    "\n",
    "\n",
    "# Crear un tokenizador\n",
    "tokenizer = Tokenizer()\n",
    "tokenizer.fit_on_texts(df_news['contenido_limpio'])\n",
    "\n",
    "sequences = tokenizer.texts_to_sequences(df_news['contenido_limpio'])\n",
    "max_len = round(np.quantile([len(i) for i in sequences], 0.75))\n",
    "pad_sequences = pad_sequences(sequences, maxlen=max_len)\n",
    "\n",
    "# revisar los datos\n",
    "print(f'Contenido original: \\n{df_news[\"contenido_limpio\"].iloc[0]}')\n",
    "print(f'Sequence: \\n{sequences[0]}')\n",
    "print(f'Sequence con padding: \\n{pad_sequences[0]}')"
   ]
  },
  {
   "cell_type": "code",
   "execution_count": 62,
   "metadata": {},
   "outputs": [
    {
     "name": "stdout",
     "output_type": "stream",
     "text": [
      "Dimensiones de los datos de entrenamiento: \n",
      "\n",
      "X_train: (1088, 413)\n",
      "y_train: (1088,)\n",
      "X_val: (272, 413)\n",
      "y_val: (272,)\n"
     ]
    }
   ],
   "source": [
    "import tensorflow as tf\n",
    "from sklearn.model_selection import train_test_split\n",
    "\n",
    "# codificar las etiquetas con label encoding\n",
    "from sklearn.preprocessing import LabelEncoder\n",
    "\n",
    "label_encoder = LabelEncoder()\n",
    "df_news['target'] = label_encoder.fit_transform(df_news['Etiqueta'])\n",
    "df_news['target'] = df_news['target'].astype('float32')\n",
    "\n",
    "\n",
    "\n",
    "# dividir los datos en entrenamiento y validación\n",
    "X_train, X_val, y_train, y_val = train_test_split(pad_sequences, \n",
    "                                                  df_news['target'], \n",
    "                                                  test_size=0.2, \n",
    "                                                  random_state=42)\n",
    "\n",
    "# revisar las dimensiones de los datos\n",
    "print(f'Dimensiones de los datos de entrenamiento: \\n')\n",
    "print(f'X_train: {X_train.shape}')\n",
    "print(f'y_train: {y_train.shape}')\n",
    "print(f'X_val: {X_val.shape}')\n",
    "print(f'y_val: {y_val.shape}')\n"
   ]
  },
  {
   "cell_type": "code",
   "execution_count": 63,
   "metadata": {},
   "outputs": [
    {
     "data": {
      "text/plain": [
       "target\n",
       "0.0    340\n",
       "1.0    340\n",
       "2.0    340\n",
       "3.0    340\n",
       "Name: count, dtype: int64"
      ]
     },
     "execution_count": 63,
     "metadata": {},
     "output_type": "execute_result"
    }
   ],
   "source": [
    "df_news['target'].value_counts()"
   ]
  },
  {
   "cell_type": "code",
   "execution_count": 64,
   "metadata": {},
   "outputs": [
    {
     "name": "stdout",
     "output_type": "stream",
     "text": [
      "<class 'pandas.core.frame.DataFrame'>\n",
      "RangeIndex: 1360 entries, 0 to 1359\n",
      "Data columns (total 9 columns):\n",
      " #   Column            Non-Null Count  Dtype  \n",
      "---  ------            --------------  -----  \n",
      " 0   Columna1          1360 non-null   int64  \n",
      " 1   Enlaces           1360 non-null   object \n",
      " 2   Título            1360 non-null   object \n",
      " 3   info              1325 non-null   object \n",
      " 4   contenido         1360 non-null   object \n",
      " 5   Etiqueta          1360 non-null   object \n",
      " 6   contenido_limpio  1360 non-null   object \n",
      " 7   tokens            1360 non-null   object \n",
      " 8   target            1360 non-null   float32\n",
      "dtypes: float32(1), int64(1), object(7)\n",
      "memory usage: 90.4+ KB\n"
     ]
    }
   ],
   "source": [
    "df_news.info()"
   ]
  },
  {
   "cell_type": "code",
   "execution_count": 65,
   "metadata": {},
   "outputs": [],
   "source": [
    "# crear modelo de RNN simple\n",
    "import tensorflow as tf\n",
    "from tensorflow.keras.models import Sequential\n",
    "from tensorflow.keras.layers import Embedding, LSTM, Dense, SimpleRNN, Dropout, Bidirectional"
   ]
  },
  {
   "cell_type": "code",
   "execution_count": 66,
   "metadata": {},
   "outputs": [
    {
     "name": "stdout",
     "output_type": "stream",
     "text": [
      "Epoch 1/50\n"
     ]
    },
    {
     "name": "stderr",
     "output_type": "stream",
     "text": [
      "c:\\Users\\ingen\\Documents\\estudio\\especializacion_ml\\ml\\nlp\\nlp_env\\lib\\site-packages\\keras\\src\\layers\\core\\embedding.py:90: UserWarning: Argument `input_length` is deprecated. Just remove it.\n",
      "  warnings.warn(\n"
     ]
    },
    {
     "name": "stdout",
     "output_type": "stream",
     "text": [
      "\u001b[1m34/34\u001b[0m \u001b[32m━━━━━━━━━━━━━━━━━━━━\u001b[0m\u001b[37m\u001b[0m \u001b[1m12s\u001b[0m 233ms/step - accuracy: 0.2480 - loss: 3.1819 - val_accuracy: 0.3382 - val_loss: 3.0448\n",
      "Epoch 2/50\n",
      "\u001b[1m34/34\u001b[0m \u001b[32m━━━━━━━━━━━━━━━━━━━━\u001b[0m\u001b[37m\u001b[0m \u001b[1m8s\u001b[0m 249ms/step - accuracy: 0.2813 - loss: 3.0609 - val_accuracy: 0.2794 - val_loss: 2.9947\n",
      "Epoch 3/50\n",
      "\u001b[1m34/34\u001b[0m \u001b[32m━━━━━━━━━━━━━━━━━━━━\u001b[0m\u001b[37m\u001b[0m \u001b[1m8s\u001b[0m 248ms/step - accuracy: 0.2831 - loss: 3.0066 - val_accuracy: 0.2941 - val_loss: 2.9568\n",
      "Epoch 4/50\n",
      "\u001b[1m34/34\u001b[0m \u001b[32m━━━━━━━━━━━━━━━━━━━━\u001b[0m\u001b[37m\u001b[0m \u001b[1m8s\u001b[0m 250ms/step - accuracy: 0.3534 - loss: 2.9177 - val_accuracy: 0.4081 - val_loss: 2.9049\n",
      "Epoch 5/50\n",
      "\u001b[1m34/34\u001b[0m \u001b[32m━━━━━━━━━━━━━━━━━━━━\u001b[0m\u001b[37m\u001b[0m \u001b[1m9s\u001b[0m 250ms/step - accuracy: 0.3671 - loss: 2.8526 - val_accuracy: 0.4007 - val_loss: 2.8547\n",
      "Epoch 6/50\n",
      "\u001b[1m34/34\u001b[0m \u001b[32m━━━━━━━━━━━━━━━━━━━━\u001b[0m\u001b[37m\u001b[0m \u001b[1m8s\u001b[0m 247ms/step - accuracy: 0.4721 - loss: 2.7383 - val_accuracy: 0.3897 - val_loss: 2.8191\n",
      "Epoch 7/50\n",
      "\u001b[1m34/34\u001b[0m \u001b[32m━━━━━━━━━━━━━━━━━━━━\u001b[0m\u001b[37m\u001b[0m \u001b[1m9s\u001b[0m 256ms/step - accuracy: 0.5613 - loss: 2.6285 - val_accuracy: 0.3787 - val_loss: 2.7967\n",
      "Epoch 8/50\n",
      "\u001b[1m34/34\u001b[0m \u001b[32m━━━━━━━━━━━━━━━━━━━━\u001b[0m\u001b[37m\u001b[0m \u001b[1m9s\u001b[0m 254ms/step - accuracy: 0.6454 - loss: 2.4387 - val_accuracy: 0.3603 - val_loss: 2.8743\n",
      "Epoch 9/50\n",
      "\u001b[1m34/34\u001b[0m \u001b[32m━━━━━━━━━━━━━━━━━━━━\u001b[0m\u001b[37m\u001b[0m \u001b[1m9s\u001b[0m 275ms/step - accuracy: 0.7398 - loss: 2.2760 - val_accuracy: 0.3566 - val_loss: 2.8866\n",
      "Epoch 10/50\n",
      "\u001b[1m34/34\u001b[0m \u001b[32m━━━━━━━━━━━━━━━━━━━━\u001b[0m\u001b[37m\u001b[0m \u001b[1m9s\u001b[0m 260ms/step - accuracy: 0.7824 - loss: 2.1313 - val_accuracy: 0.3456 - val_loss: 2.9100\n",
      "Epoch 11/50\n",
      "\u001b[1m34/34\u001b[0m \u001b[32m━━━━━━━━━━━━━━━━━━━━\u001b[0m\u001b[37m\u001b[0m \u001b[1m9s\u001b[0m 257ms/step - accuracy: 0.8779 - loss: 1.9689 - val_accuracy: 0.3456 - val_loss: 3.0253\n",
      "Epoch 12/50\n",
      "\u001b[1m34/34\u001b[0m \u001b[32m━━━━━━━━━━━━━━━━━━━━\u001b[0m\u001b[37m\u001b[0m \u001b[1m8s\u001b[0m 242ms/step - accuracy: 0.9204 - loss: 1.8579 - val_accuracy: 0.3640 - val_loss: 3.0539\n",
      "Epoch 12: early stopping\n",
      "Restoring model weights from the end of the best epoch: 7.\n"
     ]
    },
    {
     "data": {
      "text/html": [
       "<pre style=\"white-space:pre;overflow-x:auto;line-height:normal;font-family:Menlo,'DejaVu Sans Mono',consolas,'Courier New',monospace\"><span style=\"font-weight: bold\">Model: \"sequential_4\"</span>\n",
       "</pre>\n"
      ],
      "text/plain": [
       "\u001b[1mModel: \"sequential_4\"\u001b[0m\n"
      ]
     },
     "metadata": {},
     "output_type": "display_data"
    },
    {
     "data": {
      "text/html": [
       "<pre style=\"white-space:pre;overflow-x:auto;line-height:normal;font-family:Menlo,'DejaVu Sans Mono',consolas,'Courier New',monospace\">┏━━━━━━━━━━━━━━━━━━━━━━━━━━━━━━━━━┳━━━━━━━━━━━━━━━━━━━━━━━━┳━━━━━━━━━━━━━━━┓\n",
       "┃<span style=\"font-weight: bold\"> Layer (type)                    </span>┃<span style=\"font-weight: bold\"> Output Shape           </span>┃<span style=\"font-weight: bold\">       Param # </span>┃\n",
       "┡━━━━━━━━━━━━━━━━━━━━━━━━━━━━━━━━━╇━━━━━━━━━━━━━━━━━━━━━━━━╇━━━━━━━━━━━━━━━┩\n",
       "│ embedding_4 (<span style=\"color: #0087ff; text-decoration-color: #0087ff\">Embedding</span>)         │ (<span style=\"color: #00af00; text-decoration-color: #00af00\">32</span>, <span style=\"color: #00af00; text-decoration-color: #00af00\">413</span>, <span style=\"color: #00af00; text-decoration-color: #00af00\">128</span>)         │     <span style=\"color: #00af00; text-decoration-color: #00af00\">5,394,048</span> │\n",
       "├─────────────────────────────────┼────────────────────────┼───────────────┤\n",
       "│ simple_rnn_4 (<span style=\"color: #0087ff; text-decoration-color: #0087ff\">SimpleRNN</span>)        │ (<span style=\"color: #00af00; text-decoration-color: #00af00\">32</span>, <span style=\"color: #00af00; text-decoration-color: #00af00\">413</span>, <span style=\"color: #00af00; text-decoration-color: #00af00\">128</span>)         │        <span style=\"color: #00af00; text-decoration-color: #00af00\">32,896</span> │\n",
       "├─────────────────────────────────┼────────────────────────┼───────────────┤\n",
       "│ dropout_12 (<span style=\"color: #0087ff; text-decoration-color: #0087ff\">Dropout</span>)            │ (<span style=\"color: #00af00; text-decoration-color: #00af00\">32</span>, <span style=\"color: #00af00; text-decoration-color: #00af00\">413</span>, <span style=\"color: #00af00; text-decoration-color: #00af00\">128</span>)         │             <span style=\"color: #00af00; text-decoration-color: #00af00\">0</span> │\n",
       "├─────────────────────────────────┼────────────────────────┼───────────────┤\n",
       "│ bidirectional_4 (<span style=\"color: #0087ff; text-decoration-color: #0087ff\">Bidirectional</span>) │ (<span style=\"color: #00af00; text-decoration-color: #00af00\">32</span>, <span style=\"color: #00af00; text-decoration-color: #00af00\">256</span>)              │        <span style=\"color: #00af00; text-decoration-color: #00af00\">65,792</span> │\n",
       "├─────────────────────────────────┼────────────────────────┼───────────────┤\n",
       "│ dropout_13 (<span style=\"color: #0087ff; text-decoration-color: #0087ff\">Dropout</span>)            │ (<span style=\"color: #00af00; text-decoration-color: #00af00\">32</span>, <span style=\"color: #00af00; text-decoration-color: #00af00\">256</span>)              │             <span style=\"color: #00af00; text-decoration-color: #00af00\">0</span> │\n",
       "├─────────────────────────────────┼────────────────────────┼───────────────┤\n",
       "│ dense_8 (<span style=\"color: #0087ff; text-decoration-color: #0087ff\">Dense</span>)                 │ (<span style=\"color: #00af00; text-decoration-color: #00af00\">32</span>, <span style=\"color: #00af00; text-decoration-color: #00af00\">128</span>)              │        <span style=\"color: #00af00; text-decoration-color: #00af00\">32,896</span> │\n",
       "├─────────────────────────────────┼────────────────────────┼───────────────┤\n",
       "│ dropout_14 (<span style=\"color: #0087ff; text-decoration-color: #0087ff\">Dropout</span>)            │ (<span style=\"color: #00af00; text-decoration-color: #00af00\">32</span>, <span style=\"color: #00af00; text-decoration-color: #00af00\">128</span>)              │             <span style=\"color: #00af00; text-decoration-color: #00af00\">0</span> │\n",
       "├─────────────────────────────────┼────────────────────────┼───────────────┤\n",
       "│ dense_9 (<span style=\"color: #0087ff; text-decoration-color: #0087ff\">Dense</span>)                 │ (<span style=\"color: #00af00; text-decoration-color: #00af00\">32</span>, <span style=\"color: #00af00; text-decoration-color: #00af00\">4</span>)                │           <span style=\"color: #00af00; text-decoration-color: #00af00\">516</span> │\n",
       "└─────────────────────────────────┴────────────────────────┴───────────────┘\n",
       "</pre>\n"
      ],
      "text/plain": [
       "┏━━━━━━━━━━━━━━━━━━━━━━━━━━━━━━━━━┳━━━━━━━━━━━━━━━━━━━━━━━━┳━━━━━━━━━━━━━━━┓\n",
       "┃\u001b[1m \u001b[0m\u001b[1mLayer (type)                   \u001b[0m\u001b[1m \u001b[0m┃\u001b[1m \u001b[0m\u001b[1mOutput Shape          \u001b[0m\u001b[1m \u001b[0m┃\u001b[1m \u001b[0m\u001b[1m      Param #\u001b[0m\u001b[1m \u001b[0m┃\n",
       "┡━━━━━━━━━━━━━━━━━━━━━━━━━━━━━━━━━╇━━━━━━━━━━━━━━━━━━━━━━━━╇━━━━━━━━━━━━━━━┩\n",
       "│ embedding_4 (\u001b[38;5;33mEmbedding\u001b[0m)         │ (\u001b[38;5;34m32\u001b[0m, \u001b[38;5;34m413\u001b[0m, \u001b[38;5;34m128\u001b[0m)         │     \u001b[38;5;34m5,394,048\u001b[0m │\n",
       "├─────────────────────────────────┼────────────────────────┼───────────────┤\n",
       "│ simple_rnn_4 (\u001b[38;5;33mSimpleRNN\u001b[0m)        │ (\u001b[38;5;34m32\u001b[0m, \u001b[38;5;34m413\u001b[0m, \u001b[38;5;34m128\u001b[0m)         │        \u001b[38;5;34m32,896\u001b[0m │\n",
       "├─────────────────────────────────┼────────────────────────┼───────────────┤\n",
       "│ dropout_12 (\u001b[38;5;33mDropout\u001b[0m)            │ (\u001b[38;5;34m32\u001b[0m, \u001b[38;5;34m413\u001b[0m, \u001b[38;5;34m128\u001b[0m)         │             \u001b[38;5;34m0\u001b[0m │\n",
       "├─────────────────────────────────┼────────────────────────┼───────────────┤\n",
       "│ bidirectional_4 (\u001b[38;5;33mBidirectional\u001b[0m) │ (\u001b[38;5;34m32\u001b[0m, \u001b[38;5;34m256\u001b[0m)              │        \u001b[38;5;34m65,792\u001b[0m │\n",
       "├─────────────────────────────────┼────────────────────────┼───────────────┤\n",
       "│ dropout_13 (\u001b[38;5;33mDropout\u001b[0m)            │ (\u001b[38;5;34m32\u001b[0m, \u001b[38;5;34m256\u001b[0m)              │             \u001b[38;5;34m0\u001b[0m │\n",
       "├─────────────────────────────────┼────────────────────────┼───────────────┤\n",
       "│ dense_8 (\u001b[38;5;33mDense\u001b[0m)                 │ (\u001b[38;5;34m32\u001b[0m, \u001b[38;5;34m128\u001b[0m)              │        \u001b[38;5;34m32,896\u001b[0m │\n",
       "├─────────────────────────────────┼────────────────────────┼───────────────┤\n",
       "│ dropout_14 (\u001b[38;5;33mDropout\u001b[0m)            │ (\u001b[38;5;34m32\u001b[0m, \u001b[38;5;34m128\u001b[0m)              │             \u001b[38;5;34m0\u001b[0m │\n",
       "├─────────────────────────────────┼────────────────────────┼───────────────┤\n",
       "│ dense_9 (\u001b[38;5;33mDense\u001b[0m)                 │ (\u001b[38;5;34m32\u001b[0m, \u001b[38;5;34m4\u001b[0m)                │           \u001b[38;5;34m516\u001b[0m │\n",
       "└─────────────────────────────────┴────────────────────────┴───────────────┘\n"
      ]
     },
     "metadata": {},
     "output_type": "display_data"
    },
    {
     "data": {
      "text/html": [
       "<pre style=\"white-space:pre;overflow-x:auto;line-height:normal;font-family:Menlo,'DejaVu Sans Mono',consolas,'Courier New',monospace\"><span style=\"font-weight: bold\"> Total params: </span><span style=\"color: #00af00; text-decoration-color: #00af00\">16,578,445</span> (63.24 MB)\n",
       "</pre>\n"
      ],
      "text/plain": [
       "\u001b[1m Total params: \u001b[0m\u001b[38;5;34m16,578,445\u001b[0m (63.24 MB)\n"
      ]
     },
     "metadata": {},
     "output_type": "display_data"
    },
    {
     "data": {
      "text/html": [
       "<pre style=\"white-space:pre;overflow-x:auto;line-height:normal;font-family:Menlo,'DejaVu Sans Mono',consolas,'Courier New',monospace\"><span style=\"font-weight: bold\"> Trainable params: </span><span style=\"color: #00af00; text-decoration-color: #00af00\">5,526,148</span> (21.08 MB)\n",
       "</pre>\n"
      ],
      "text/plain": [
       "\u001b[1m Trainable params: \u001b[0m\u001b[38;5;34m5,526,148\u001b[0m (21.08 MB)\n"
      ]
     },
     "metadata": {},
     "output_type": "display_data"
    },
    {
     "data": {
      "text/html": [
       "<pre style=\"white-space:pre;overflow-x:auto;line-height:normal;font-family:Menlo,'DejaVu Sans Mono',consolas,'Courier New',monospace\"><span style=\"font-weight: bold\"> Non-trainable params: </span><span style=\"color: #00af00; text-decoration-color: #00af00\">0</span> (0.00 B)\n",
       "</pre>\n"
      ],
      "text/plain": [
       "\u001b[1m Non-trainable params: \u001b[0m\u001b[38;5;34m0\u001b[0m (0.00 B)\n"
      ]
     },
     "metadata": {},
     "output_type": "display_data"
    },
    {
     "data": {
      "text/html": [
       "<pre style=\"white-space:pre;overflow-x:auto;line-height:normal;font-family:Menlo,'DejaVu Sans Mono',consolas,'Courier New',monospace\"><span style=\"font-weight: bold\"> Optimizer params: </span><span style=\"color: #00af00; text-decoration-color: #00af00\">11,052,297</span> (42.16 MB)\n",
       "</pre>\n"
      ],
      "text/plain": [
       "\u001b[1m Optimizer params: \u001b[0m\u001b[38;5;34m11,052,297\u001b[0m (42.16 MB)\n"
      ]
     },
     "metadata": {},
     "output_type": "display_data"
    },
    {
     "data": {
      "image/png": "[encoded data removed]",
      "text/plain": [
       "<Figure size 1200x500 with 2 Axes>"
      ]
     },
     "metadata": {},
     "output_type": "display_data"
    }
   ],
   "source": [
    "# Definir la dimensión de los embeddings\n",
    "embedding_dim = 128\n",
    "\n",
    "# Crear el modelo\n",
    "model = Sequential()\n",
    "model.add(Embedding(input_dim=len(tokenizer.word_index)+1, \n",
    "                    output_dim=embedding_dim, \n",
    "                    input_length=pad_sequences.shape[1]))\n",
    "model.add(SimpleRNN(128, return_sequences=True))\n",
    "model.add(Dropout(0.4))\n",
    "model.add(Bidirectional(SimpleRNN(128)))\n",
    "model.add(Dropout(0.4))\n",
    "model.add(Dense(128, activation='relu', kernel_regularizer=tf.keras.regularizers.l2(0.01)))\n",
    "model.add(Dropout(0.4))\n",
    "model.add(Dense(4, activation='softmax'))\n",
    "\n",
    "# configurar early stopping\n",
    "early_stopping = tf.keras.callbacks.EarlyStopping(monitor='val_loss', \n",
    "                                                  patience=5, \n",
    "                                                  restore_best_weights=True,\n",
    "                                                  verbose=1,\n",
    "                                                  min_delta=0.01)\n",
    "\n",
    "# Compilar el modelo\n",
    "\n",
    "# Decaimiento exponencial\n",
    "lr_schedule = tf.keras.optimizers.schedules.ExponentialDecay(\n",
    "    initial_learning_rate=0.0001,\n",
    "    decay_steps=70,\n",
    "    decay_rate=0.8\n",
    ")\n",
    "\n",
    "optimizer = tf.keras.optimizers.Adam(learning_rate=lr_schedule)\n",
    "loss = tf.keras.losses.SparseCategoricalCrossentropy(from_logits=False)\n",
    "model.compile(optimizer=optimizer, \n",
    "              loss=loss, \n",
    "              metrics=['accuracy'])\n",
    "\n",
    "\n",
    "# Entrenar el modelo\n",
    "history = model.fit(X_train, y_train, \n",
    "                    epochs=50, \n",
    "                    batch_size=32, \n",
    "                    validation_data=(X_val, y_val),\n",
    "                    callbacks=[early_stopping])\n",
    "\n",
    "# Resumen del modelo\n",
    "model.summary()\n",
    "\n",
    "# Visualizar la pérdida y la precisión del modelo\n",
    "plt.figure(figsize=(12, 5))\n",
    "\n",
    "plt.subplot(1, 2, 1)\n",
    "plt.plot(history.history['loss'], label='Loss')\n",
    "plt.plot(history.history['val_loss'], label='Val Loss')\n",
    "plt.title('Loss')\n",
    "plt.legend()\n",
    "\n",
    "plt.subplot(1, 2, 2)\n",
    "plt.plot(history.history['accuracy'], label='Accuracy')\n",
    "plt.plot(history.history['val_accuracy'], label='Val Accuracy')\n",
    "plt.title('Accuracy')\n",
    "plt.legend()\n",
    "\n",
    "plt.show()"
   ]
  },
  {
   "cell_type": "code",
   "execution_count": 67,
   "metadata": {},
   "outputs": [],
   "source": [
    "# guardar el modelo\n",
    "\n",
    "# model.save('./models/rnn_model.keras')"
   ]
  },
  {
   "cell_type": "code",
   "execution_count": 68,
   "metadata": {},
   "outputs": [
    {
     "name": "stdout",
     "output_type": "stream",
     "text": [
      "\u001b[1m9/9\u001b[0m \u001b[32m━━━━━━━━━━━━━━━━━━━━\u001b[0m\u001b[37m\u001b[0m \u001b[1m1s\u001b[0m 103ms/step\n",
      "              precision    recall  f1-score   support\n",
      "\n",
      "         0.0       0.21      0.09      0.13        65\n",
      "         1.0       0.50      0.40      0.44        73\n",
      "         2.0       0.35      0.48      0.41        62\n",
      "         3.0       0.38      0.53      0.44        72\n",
      "\n",
      "    accuracy                           0.38       272\n",
      "   macro avg       0.36      0.38      0.35       272\n",
      "weighted avg       0.37      0.38      0.36       272\n",
      "\n"
     ]
    }
   ],
   "source": [
    "# usar modelo para predecir\n",
    "\n",
    "# cargar el modelo\n",
    "\n",
    "# model = tf.keras.models.load_model('./models/rnn_model.keras')\n",
    "\n",
    "# predecir\n",
    "y_pred = model.predict(X_val)\n",
    "\n",
    "# convertir las predicciones a etiquetas\n",
    "y_pred_labels = np.argmax(y_pred, axis=1)\n",
    "y_val_labels = np.argmax(y_val, axis=1) if len(y_val.shape) > 1 else y_val\n",
    "\n",
    "# evaluar el modelo\n",
    "from sklearn.metrics import classification_report\n",
    "\n",
    "print(classification_report(y_val_labels, y_pred_labels))"
   ]
  },
  {
   "cell_type": "code",
   "execution_count": 69,
   "metadata": {},
   "outputs": [
    {
     "name": "stdout",
     "output_type": "stream",
     "text": [
      "\u001b[1m1/1\u001b[0m \u001b[32m━━━━━━━━━━━━━━━━━━━━\u001b[0m\u001b[37m\u001b[0m \u001b[1m0s\u001b[0m 62ms/step\n",
      "                                             Noticia Categoría\n",
      "0  el dolar, la economía y la inflación afectan l...   cultura\n"
     ]
    }
   ],
   "source": [
    "# predecir noticias nuevas\n",
    "\n",
    "noticias_nuevas = ['el dolar, la economía y la inflación afectan los bolsillos de los ciudadanos, mientras que el gobierno busca soluciones',]\n",
    "\n",
    "# limpiar y tokenizar las noticias\n",
    "\n",
    "noticias_nuevas_limpio = [clean_text(noticia) for noticia in noticias_nuevas]\n",
    "noticias_nuevas_limpio = [remove_stopwords(noticia) for noticia in noticias_nuevas_limpio]\n",
    "noticias_nuevas_tokens = [word_tokenize(noticia) for noticia in noticias_nuevas_limpio]\n",
    "\n",
    "# convertir las noticias a secuencias\n",
    "noticias_nuevas_sequences = tokenizer.texts_to_sequences(noticias_nuevas_limpio)\n",
    "noticias_nuevas_pad_sequences = tf.keras.preprocessing.sequence.pad_sequences(noticias_nuevas_sequences, maxlen=max_len)\n",
    "\n",
    "# predecir\n",
    "y_pred_nuevas = model.predict(noticias_nuevas_pad_sequences)\n",
    "y_pred_labels_nuevas = np.argmax(y_pred_nuevas, axis=1)\n",
    "\n",
    "# convertir las etiquetas a categorías\n",
    "categorias = label_encoder.inverse_transform(y_pred_labels_nuevas)\n",
    "\n",
    "# mostrar resultados\n",
    "resultados = pd.DataFrame({'Noticia': noticias_nuevas, 'Categoría': categorias})\n",
    "print(resultados)"
   ]
  },
  {
   "cell_type": "code",
   "execution_count": 70,
   "metadata": {},
   "outputs": [
    {
     "name": "stdout",
     "output_type": "stream",
     "text": [
      "Categorías: ['cultura' 'deportes' 'economia' 'justicia']\n",
      "Etiquetas: [0 1 2 3]\n"
     ]
    }
   ],
   "source": [
    "# imprimir categorias y etiquetas\n",
    "\n",
    "categorias = label_encoder.classes_\n",
    "etiquetas = label_encoder.transform(categorias)\n",
    "\n",
    "print(f'Categorías: {categorias}')\n",
    "print(f'Etiquetas: {etiquetas}')"
   ]
  },
  {
   "cell_type": "code",
   "execution_count": 71,
   "metadata": {},
   "outputs": [
    {
     "name": "stdout",
     "output_type": "stream",
     "text": [
      "Test Loss: 2.7967\n",
      "Test Accuracy: 0.3787\n"
     ]
    }
   ],
   "source": [
    "# Validemos el modelo con la base de testeo\n",
    "\n",
    "loss, accuracy = model.evaluate(X_val, y_val, verbose=0)\n",
    "print(f\"Test Loss: {loss:.4f}\")\n",
    "print(f\"Test Accuracy: {accuracy:.4f}\")"
   ]
  },
  {
   "cell_type": "code",
   "execution_count": 72,
   "metadata": {},
   "outputs": [
    {
     "name": "stdout",
     "output_type": "stream",
     "text": [
      "Epoch 1/50\n"
     ]
    },
    {
     "name": "stderr",
     "output_type": "stream",
     "text": [
      "c:\\Users\\ingen\\Documents\\estudio\\especializacion_ml\\ml\\nlp\\nlp_env\\lib\\site-packages\\keras\\src\\layers\\core\\embedding.py:90: UserWarning: Argument `input_length` is deprecated. Just remove it.\n",
      "  warnings.warn(\n"
     ]
    },
    {
     "name": "stdout",
     "output_type": "stream",
     "text": [
      "\u001b[1m34/34\u001b[0m \u001b[32m━━━━━━━━━━━━━━━━━━━━\u001b[0m\u001b[37m\u001b[0m \u001b[1m30s\u001b[0m 751ms/step - accuracy: 0.2572 - loss: 17.9685 - val_accuracy: 0.2831 - val_loss: 16.9965\n",
      "Epoch 2/50\n",
      "\u001b[1m34/34\u001b[0m \u001b[32m━━━━━━━━━━━━━━━━━━━━\u001b[0m\u001b[37m\u001b[0m \u001b[1m25s\u001b[0m 724ms/step - accuracy: 0.2845 - loss: 16.6967 - val_accuracy: 0.2904 - val_loss: 15.8385\n",
      "Epoch 3/50\n",
      "\u001b[1m34/34\u001b[0m \u001b[32m━━━━━━━━━━━━━━━━━━━━\u001b[0m\u001b[37m\u001b[0m \u001b[1m25s\u001b[0m 725ms/step - accuracy: 0.2707 - loss: 15.5747 - val_accuracy: 0.2831 - val_loss: 14.8142\n",
      "Epoch 4/50\n",
      "\u001b[1m34/34\u001b[0m \u001b[32m━━━━━━━━━━━━━━━━━━━━\u001b[0m\u001b[37m\u001b[0m \u001b[1m25s\u001b[0m 750ms/step - accuracy: 0.2872 - loss: 14.5789 - val_accuracy: 0.2868 - val_loss: 13.9041\n",
      "Epoch 5/50\n",
      "\u001b[1m34/34\u001b[0m \u001b[32m━━━━━━━━━━━━━━━━━━━━\u001b[0m\u001b[37m\u001b[0m \u001b[1m27s\u001b[0m 782ms/step - accuracy: 0.2781 - loss: 13.6940 - val_accuracy: 0.2831 - val_loss: 13.0915\n",
      "Epoch 6/50\n",
      "\u001b[1m34/34\u001b[0m \u001b[32m━━━━━━━━━━━━━━━━━━━━\u001b[0m\u001b[37m\u001b[0m \u001b[1m25s\u001b[0m 739ms/step - accuracy: 0.3146 - loss: 12.9029 - val_accuracy: 0.2831 - val_loss: 12.3641\n",
      "Epoch 7/50\n",
      "\u001b[1m34/34\u001b[0m \u001b[32m━━━━━━━━━━━━━━━━━━━━\u001b[0m\u001b[37m\u001b[0m \u001b[1m24s\u001b[0m 719ms/step - accuracy: 0.2779 - loss: 12.1949 - val_accuracy: 0.2831 - val_loss: 11.7106\n",
      "Epoch 8/50\n",
      "\u001b[1m34/34\u001b[0m \u001b[32m━━━━━━━━━━━━━━━━━━━━\u001b[0m\u001b[37m\u001b[0m \u001b[1m25s\u001b[0m 735ms/step - accuracy: 0.3078 - loss: 11.5573 - val_accuracy: 0.2868 - val_loss: 11.1217\n",
      "Epoch 9/50\n",
      "\u001b[1m34/34\u001b[0m \u001b[32m━━━━━━━━━━━━━━━━━━━━\u001b[0m\u001b[37m\u001b[0m \u001b[1m26s\u001b[0m 758ms/step - accuracy: 0.2953 - loss: 10.9831 - val_accuracy: 0.2868 - val_loss: 10.5896\n",
      "Epoch 10/50\n",
      "\u001b[1m34/34\u001b[0m \u001b[32m━━━━━━━━━━━━━━━━━━━━\u001b[0m\u001b[37m\u001b[0m \u001b[1m24s\u001b[0m 718ms/step - accuracy: 0.2747 - loss: 10.4640 - val_accuracy: 0.2868 - val_loss: 10.1069\n",
      "Epoch 11/50\n",
      "\u001b[1m34/34\u001b[0m \u001b[32m━━━━━━━━━━━━━━━━━━━━\u001b[0m\u001b[37m\u001b[0m \u001b[1m25s\u001b[0m 741ms/step - accuracy: 0.3100 - loss: 9.9893 - val_accuracy: 0.2831 - val_loss: 9.6687\n",
      "Epoch 12/50\n",
      "\u001b[1m34/34\u001b[0m \u001b[32m━━━━━━━━━━━━━━━━━━━━\u001b[0m\u001b[37m\u001b[0m \u001b[1m24s\u001b[0m 720ms/step - accuracy: 0.3044 - loss: 9.5600 - val_accuracy: 0.2831 - val_loss: 9.2697\n",
      "Epoch 13/50\n",
      "\u001b[1m34/34\u001b[0m \u001b[32m━━━━━━━━━━━━━━━━━━━━\u001b[0m\u001b[37m\u001b[0m \u001b[1m25s\u001b[0m 736ms/step - accuracy: 0.2686 - loss: 9.1636 - val_accuracy: 0.2868 - val_loss: 8.9118\n",
      "Epoch 14/50\n",
      "\u001b[1m34/34\u001b[0m \u001b[32m━━━━━━━━━━━━━━━━━━━━\u001b[0m\u001b[37m\u001b[0m \u001b[1m25s\u001b[0m 722ms/step - accuracy: 0.3686 - loss: 8.7440 - val_accuracy: 0.4375 - val_loss: 8.4452\n",
      "Epoch 15/50\n",
      "\u001b[1m34/34\u001b[0m \u001b[32m━━━━━━━━━━━━━━━━━━━━\u001b[0m\u001b[37m\u001b[0m \u001b[1m25s\u001b[0m 739ms/step - accuracy: 0.4927 - loss: 8.2791 - val_accuracy: 0.4485 - val_loss: 8.0651\n",
      "Epoch 16/50\n",
      "\u001b[1m34/34\u001b[0m \u001b[32m━━━━━━━━━━━━━━━━━━━━\u001b[0m\u001b[37m\u001b[0m \u001b[1m25s\u001b[0m 739ms/step - accuracy: 0.5080 - loss: 7.8878 - val_accuracy: 0.4816 - val_loss: 7.7401\n",
      "Epoch 17/50\n",
      "\u001b[1m34/34\u001b[0m \u001b[32m━━━━━━━━━━━━━━━━━━━━\u001b[0m\u001b[37m\u001b[0m \u001b[1m24s\u001b[0m 720ms/step - accuracy: 0.5639 - loss: 7.5123 - val_accuracy: 0.5368 - val_loss: 7.4217\n",
      "Epoch 18/50\n",
      "\u001b[1m34/34\u001b[0m \u001b[32m━━━━━━━━━━━━━━━━━━━━\u001b[0m\u001b[37m\u001b[0m \u001b[1m25s\u001b[0m 735ms/step - accuracy: 0.6269 - loss: 7.2383 - val_accuracy: 0.5993 - val_loss: 7.1216\n",
      "Epoch 19/50\n",
      "\u001b[1m34/34\u001b[0m \u001b[32m━━━━━━━━━━━━━━━━━━━━\u001b[0m\u001b[37m\u001b[0m \u001b[1m24s\u001b[0m 717ms/step - accuracy: 0.6827 - loss: 6.8899 - val_accuracy: 0.6029 - val_loss: 6.8391\n",
      "Epoch 20/50\n",
      "\u001b[1m34/34\u001b[0m \u001b[32m━━━━━━━━━━━━━━━━━━━━\u001b[0m\u001b[37m\u001b[0m \u001b[1m24s\u001b[0m 718ms/step - accuracy: 0.7062 - loss: 6.5624 - val_accuracy: 0.6213 - val_loss: 6.5812\n",
      "Epoch 21/50\n",
      "\u001b[1m34/34\u001b[0m \u001b[32m━━━━━━━━━━━━━━━━━━━━\u001b[0m\u001b[37m\u001b[0m \u001b[1m25s\u001b[0m 734ms/step - accuracy: 0.7285 - loss: 6.2865 - val_accuracy: 0.6360 - val_loss: 6.4365\n",
      "Epoch 22/50\n",
      "\u001b[1m34/34\u001b[0m \u001b[32m━━━━━━━━━━━━━━━━━━━━\u001b[0m\u001b[37m\u001b[0m \u001b[1m24s\u001b[0m 713ms/step - accuracy: 0.7409 - loss: 6.0553 - val_accuracy: 0.6360 - val_loss: 6.2967\n",
      "Epoch 23/50\n",
      "\u001b[1m34/34\u001b[0m \u001b[32m━━━━━━━━━━━━━━━━━━━━\u001b[0m\u001b[37m\u001b[0m \u001b[1m26s\u001b[0m 778ms/step - accuracy: 0.7180 - loss: 5.8980 - val_accuracy: 0.6434 - val_loss: 6.1283\n",
      "Epoch 24/50\n",
      "\u001b[1m34/34\u001b[0m \u001b[32m━━━━━━━━━━━━━━━━━━━━\u001b[0m\u001b[37m\u001b[0m \u001b[1m25s\u001b[0m 740ms/step - accuracy: 0.7118 - loss: 5.7142 - val_accuracy: 0.6434 - val_loss: 6.0053\n",
      "Epoch 25/50\n",
      "\u001b[1m34/34\u001b[0m \u001b[32m━━━━━━━━━━━━━━━━━━━━\u001b[0m\u001b[37m\u001b[0m \u001b[1m33s\u001b[0m 988ms/step - accuracy: 0.7389 - loss: 5.5459 - val_accuracy: 0.6140 - val_loss: 5.8794\n",
      "Epoch 26/50\n",
      "\u001b[1m34/34\u001b[0m \u001b[32m━━━━━━━━━━━━━━━━━━━━\u001b[0m\u001b[37m\u001b[0m \u001b[1m36s\u001b[0m 1s/step - accuracy: 0.7352 - loss: 5.4089 - val_accuracy: 0.5441 - val_loss: 5.9524\n",
      "Epoch 27/50\n",
      "\u001b[1m34/34\u001b[0m \u001b[32m━━━━━━━━━━━━━━━━━━━━\u001b[0m\u001b[37m\u001b[0m \u001b[1m38s\u001b[0m 1s/step - accuracy: 0.7240 - loss: 5.2992 - val_accuracy: 0.6250 - val_loss: 5.6178\n",
      "Epoch 28/50\n",
      "\u001b[1m34/34\u001b[0m \u001b[32m━━━━━━━━━━━━━━━━━━━━\u001b[0m\u001b[37m\u001b[0m \u001b[1m36s\u001b[0m 1s/step - accuracy: 0.7427 - loss: 5.1445 - val_accuracy: 0.5662 - val_loss: 5.6641\n",
      "Epoch 29/50\n",
      "\u001b[1m34/34\u001b[0m \u001b[32m━━━━━━━━━━━━━━━━━━━━\u001b[0m\u001b[37m\u001b[0m \u001b[1m36s\u001b[0m 1s/step - accuracy: 0.7699 - loss: 5.0317 - val_accuracy: 0.6287 - val_loss: 5.4811\n",
      "Epoch 30/50\n",
      "\u001b[1m34/34\u001b[0m \u001b[32m━━━━━━━━━━━━━━━━━━━━\u001b[0m\u001b[37m\u001b[0m \u001b[1m36s\u001b[0m 1s/step - accuracy: 0.7429 - loss: 4.9483 - val_accuracy: 0.6324 - val_loss: 5.3920\n",
      "Epoch 31/50\n",
      "\u001b[1m34/34\u001b[0m \u001b[32m━━━━━━━━━━━━━━━━━━━━\u001b[0m\u001b[37m\u001b[0m \u001b[1m37s\u001b[0m 1s/step - accuracy: 0.7416 - loss: 4.8821 - val_accuracy: 0.5846 - val_loss: 5.2965\n",
      "Epoch 32/50\n",
      "\u001b[1m34/34\u001b[0m \u001b[32m━━━━━━━━━━━━━━━━━━━━\u001b[0m\u001b[37m\u001b[0m \u001b[1m37s\u001b[0m 1s/step - accuracy: 0.7280 - loss: 4.7683 - val_accuracy: 0.6066 - val_loss: 5.2034\n",
      "Epoch 33/50\n",
      "\u001b[1m34/34\u001b[0m \u001b[32m━━━━━━━━━━━━━━━━━━━━\u001b[0m\u001b[37m\u001b[0m \u001b[1m37s\u001b[0m 1s/step - accuracy: 0.7187 - loss: 4.7028 - val_accuracy: 0.6471 - val_loss: 5.1187\n",
      "Epoch 34/50\n",
      "\u001b[1m34/34\u001b[0m \u001b[32m━━━━━━━━━━━━━━━━━━━━\u001b[0m\u001b[37m\u001b[0m \u001b[1m38s\u001b[0m 1s/step - accuracy: 0.7363 - loss: 4.5859 - val_accuracy: 0.5846 - val_loss: 5.0703\n",
      "Epoch 35/50\n",
      "\u001b[1m34/34\u001b[0m \u001b[32m━━━━━━━━━━━━━━━━━━━━\u001b[0m\u001b[37m\u001b[0m \u001b[1m39s\u001b[0m 1s/step - accuracy: 0.7469 - loss: 4.5131 - val_accuracy: 0.5993 - val_loss: 4.9991\n",
      "Epoch 36/50\n",
      "\u001b[1m34/34\u001b[0m \u001b[32m━━━━━━━━━━━━━━━━━━━━\u001b[0m\u001b[37m\u001b[0m \u001b[1m37s\u001b[0m 1s/step - accuracy: 0.7333 - loss: 4.4593 - val_accuracy: 0.6066 - val_loss: 4.9199\n",
      "Epoch 37/50\n",
      "\u001b[1m34/34\u001b[0m \u001b[32m━━━━━━━━━━━━━━━━━━━━\u001b[0m\u001b[37m\u001b[0m \u001b[1m36s\u001b[0m 1s/step - accuracy: 0.7364 - loss: 4.3831 - val_accuracy: 0.6213 - val_loss: 4.8487\n",
      "Epoch 38/50\n",
      "\u001b[1m34/34\u001b[0m \u001b[32m━━━━━━━━━━━━━━━━━━━━\u001b[0m\u001b[37m\u001b[0m \u001b[1m36s\u001b[0m 1s/step - accuracy: 0.7709 - loss: 4.3060 - val_accuracy: 0.6324 - val_loss: 4.7943\n",
      "Epoch 39/50\n",
      "\u001b[1m34/34\u001b[0m \u001b[32m━━━━━━━━━━━━━━━━━━━━\u001b[0m\u001b[37m\u001b[0m \u001b[1m36s\u001b[0m 1s/step - accuracy: 0.7363 - loss: 4.2426 - val_accuracy: 0.5919 - val_loss: 4.7758\n",
      "Epoch 40/50\n",
      "\u001b[1m34/34\u001b[0m \u001b[32m━━━━━━━━━━━━━━━━━━━━\u001b[0m\u001b[37m\u001b[0m \u001b[1m33s\u001b[0m 982ms/step - accuracy: 0.7405 - loss: 4.2097 - val_accuracy: 0.6176 - val_loss: 4.6967\n",
      "Epoch 41/50\n",
      "\u001b[1m34/34\u001b[0m \u001b[32m━━━━━━━━━━━━━━━━━━━━\u001b[0m\u001b[37m\u001b[0m \u001b[1m32s\u001b[0m 943ms/step - accuracy: 0.7083 - loss: 4.1744 - val_accuracy: 0.6360 - val_loss: 4.6352\n",
      "Epoch 42/50\n",
      "\u001b[1m34/34\u001b[0m \u001b[32m━━━━━━━━━━━━━━━━━━━━\u001b[0m\u001b[37m\u001b[0m \u001b[1m32s\u001b[0m 945ms/step - accuracy: 0.7383 - loss: 4.0936 - val_accuracy: 0.6324 - val_loss: 4.5897\n",
      "Epoch 43/50\n",
      "\u001b[1m34/34\u001b[0m \u001b[32m━━━━━━━━━━━━━━━━━━━━\u001b[0m\u001b[37m\u001b[0m \u001b[1m33s\u001b[0m 960ms/step - accuracy: 0.7604 - loss: 4.0290 - val_accuracy: 0.6397 - val_loss: 4.5474\n",
      "Epoch 44/50\n",
      "\u001b[1m34/34\u001b[0m \u001b[32m━━━━━━━━━━━━━━━━━━━━\u001b[0m\u001b[37m\u001b[0m \u001b[1m32s\u001b[0m 954ms/step - accuracy: 0.7631 - loss: 4.0193 - val_accuracy: 0.6507 - val_loss: 4.5062\n",
      "Epoch 45/50\n",
      "\u001b[1m34/34\u001b[0m \u001b[32m━━━━━━━━━━━━━━━━━━━━\u001b[0m\u001b[37m\u001b[0m \u001b[1m32s\u001b[0m 932ms/step - accuracy: 0.7135 - loss: 3.9938 - val_accuracy: 0.6360 - val_loss: 4.4715\n",
      "Epoch 46/50\n",
      "\u001b[1m34/34\u001b[0m \u001b[32m━━━━━━━━━━━━━━━━━━━━\u001b[0m\u001b[37m\u001b[0m \u001b[1m32s\u001b[0m 947ms/step - accuracy: 0.7227 - loss: 3.9428 - val_accuracy: 0.6324 - val_loss: 4.4335\n",
      "Epoch 47/50\n",
      "\u001b[1m34/34\u001b[0m \u001b[32m━━━━━━━━━━━━━━━━━━━━\u001b[0m\u001b[37m\u001b[0m \u001b[1m32s\u001b[0m 932ms/step - accuracy: 0.7356 - loss: 3.8927 - val_accuracy: 0.6360 - val_loss: 4.4015\n",
      "Epoch 48/50\n",
      "\u001b[1m34/34\u001b[0m \u001b[32m━━━━━━━━━━━━━━━━━━━━\u001b[0m\u001b[37m\u001b[0m \u001b[1m32s\u001b[0m 948ms/step - accuracy: 0.7331 - loss: 3.8573 - val_accuracy: 0.5919 - val_loss: 4.4059\n",
      "Epoch 49/50\n",
      "\u001b[1m34/34\u001b[0m \u001b[32m━━━━━━━━━━━━━━━━━━━━\u001b[0m\u001b[37m\u001b[0m \u001b[1m33s\u001b[0m 981ms/step - accuracy: 0.7301 - loss: 3.8282 - val_accuracy: 0.6066 - val_loss: 4.3560\n",
      "Epoch 50/50\n",
      "\u001b[1m34/34\u001b[0m \u001b[32m━━━━━━━━━━━━━━━━━━━━\u001b[0m\u001b[37m\u001b[0m \u001b[1m40s\u001b[0m 1s/step - accuracy: 0.7213 - loss: 3.8250 - val_accuracy: 0.6324 - val_loss: 4.3102\n",
      "Restoring model weights from the end of the best epoch: 50.\n"
     ]
    },
    {
     "data": {
      "text/html": [
       "<pre style=\"white-space:pre;overflow-x:auto;line-height:normal;font-family:Menlo,'DejaVu Sans Mono',consolas,'Courier New',monospace\"><span style=\"font-weight: bold\">Model: \"sequential_5\"</span>\n",
       "</pre>\n"
      ],
      "text/plain": [
       "\u001b[1mModel: \"sequential_5\"\u001b[0m\n"
      ]
     },
     "metadata": {},
     "output_type": "display_data"
    },
    {
     "data": {
      "text/html": [
       "<pre style=\"white-space:pre;overflow-x:auto;line-height:normal;font-family:Menlo,'DejaVu Sans Mono',consolas,'Courier New',monospace\">┏━━━━━━━━━━━━━━━━━━━━━━━━━━━━━━━━━┳━━━━━━━━━━━━━━━━━━━━━━━━┳━━━━━━━━━━━━━━━┓\n",
       "┃<span style=\"font-weight: bold\"> Layer (type)                    </span>┃<span style=\"font-weight: bold\"> Output Shape           </span>┃<span style=\"font-weight: bold\">       Param # </span>┃\n",
       "┡━━━━━━━━━━━━━━━━━━━━━━━━━━━━━━━━━╇━━━━━━━━━━━━━━━━━━━━━━━━╇━━━━━━━━━━━━━━━┩\n",
       "│ embedding_5 (<span style=\"color: #0087ff; text-decoration-color: #0087ff\">Embedding</span>)         │ (<span style=\"color: #00af00; text-decoration-color: #00af00\">32</span>, <span style=\"color: #00af00; text-decoration-color: #00af00\">413</span>, <span style=\"color: #00af00; text-decoration-color: #00af00\">128</span>)         │     <span style=\"color: #00af00; text-decoration-color: #00af00\">5,394,048</span> │\n",
       "├─────────────────────────────────┼────────────────────────┼───────────────┤\n",
       "│ lstm_4 (<span style=\"color: #0087ff; text-decoration-color: #0087ff\">LSTM</span>)                   │ (<span style=\"color: #00af00; text-decoration-color: #00af00\">32</span>, <span style=\"color: #00af00; text-decoration-color: #00af00\">413</span>, <span style=\"color: #00af00; text-decoration-color: #00af00\">128</span>)         │       <span style=\"color: #00af00; text-decoration-color: #00af00\">131,584</span> │\n",
       "├─────────────────────────────────┼────────────────────────┼───────────────┤\n",
       "│ dropout_15 (<span style=\"color: #0087ff; text-decoration-color: #0087ff\">Dropout</span>)            │ (<span style=\"color: #00af00; text-decoration-color: #00af00\">32</span>, <span style=\"color: #00af00; text-decoration-color: #00af00\">413</span>, <span style=\"color: #00af00; text-decoration-color: #00af00\">128</span>)         │             <span style=\"color: #00af00; text-decoration-color: #00af00\">0</span> │\n",
       "├─────────────────────────────────┼────────────────────────┼───────────────┤\n",
       "│ bidirectional_5 (<span style=\"color: #0087ff; text-decoration-color: #0087ff\">Bidirectional</span>) │ (<span style=\"color: #00af00; text-decoration-color: #00af00\">32</span>, <span style=\"color: #00af00; text-decoration-color: #00af00\">256</span>)              │       <span style=\"color: #00af00; text-decoration-color: #00af00\">263,168</span> │\n",
       "├─────────────────────────────────┼────────────────────────┼───────────────┤\n",
       "│ dropout_16 (<span style=\"color: #0087ff; text-decoration-color: #0087ff\">Dropout</span>)            │ (<span style=\"color: #00af00; text-decoration-color: #00af00\">32</span>, <span style=\"color: #00af00; text-decoration-color: #00af00\">256</span>)              │             <span style=\"color: #00af00; text-decoration-color: #00af00\">0</span> │\n",
       "├─────────────────────────────────┼────────────────────────┼───────────────┤\n",
       "│ dense_10 (<span style=\"color: #0087ff; text-decoration-color: #0087ff\">Dense</span>)                │ (<span style=\"color: #00af00; text-decoration-color: #00af00\">32</span>, <span style=\"color: #00af00; text-decoration-color: #00af00\">128</span>)              │        <span style=\"color: #00af00; text-decoration-color: #00af00\">32,896</span> │\n",
       "├─────────────────────────────────┼────────────────────────┼───────────────┤\n",
       "│ dropout_17 (<span style=\"color: #0087ff; text-decoration-color: #0087ff\">Dropout</span>)            │ (<span style=\"color: #00af00; text-decoration-color: #00af00\">32</span>, <span style=\"color: #00af00; text-decoration-color: #00af00\">128</span>)              │             <span style=\"color: #00af00; text-decoration-color: #00af00\">0</span> │\n",
       "├─────────────────────────────────┼────────────────────────┼───────────────┤\n",
       "│ dense_11 (<span style=\"color: #0087ff; text-decoration-color: #0087ff\">Dense</span>)                │ (<span style=\"color: #00af00; text-decoration-color: #00af00\">32</span>, <span style=\"color: #00af00; text-decoration-color: #00af00\">4</span>)                │           <span style=\"color: #00af00; text-decoration-color: #00af00\">516</span> │\n",
       "└─────────────────────────────────┴────────────────────────┴───────────────┘\n",
       "</pre>\n"
      ],
      "text/plain": [
       "┏━━━━━━━━━━━━━━━━━━━━━━━━━━━━━━━━━┳━━━━━━━━━━━━━━━━━━━━━━━━┳━━━━━━━━━━━━━━━┓\n",
       "┃\u001b[1m \u001b[0m\u001b[1mLayer (type)                   \u001b[0m\u001b[1m \u001b[0m┃\u001b[1m \u001b[0m\u001b[1mOutput Shape          \u001b[0m\u001b[1m \u001b[0m┃\u001b[1m \u001b[0m\u001b[1m      Param #\u001b[0m\u001b[1m \u001b[0m┃\n",
       "┡━━━━━━━━━━━━━━━━━━━━━━━━━━━━━━━━━╇━━━━━━━━━━━━━━━━━━━━━━━━╇━━━━━━━━━━━━━━━┩\n",
       "│ embedding_5 (\u001b[38;5;33mEmbedding\u001b[0m)         │ (\u001b[38;5;34m32\u001b[0m, \u001b[38;5;34m413\u001b[0m, \u001b[38;5;34m128\u001b[0m)         │     \u001b[38;5;34m5,394,048\u001b[0m │\n",
       "├─────────────────────────────────┼────────────────────────┼───────────────┤\n",
       "│ lstm_4 (\u001b[38;5;33mLSTM\u001b[0m)                   │ (\u001b[38;5;34m32\u001b[0m, \u001b[38;5;34m413\u001b[0m, \u001b[38;5;34m128\u001b[0m)         │       \u001b[38;5;34m131,584\u001b[0m │\n",
       "├─────────────────────────────────┼────────────────────────┼───────────────┤\n",
       "│ dropout_15 (\u001b[38;5;33mDropout\u001b[0m)            │ (\u001b[38;5;34m32\u001b[0m, \u001b[38;5;34m413\u001b[0m, \u001b[38;5;34m128\u001b[0m)         │             \u001b[38;5;34m0\u001b[0m │\n",
       "├─────────────────────────────────┼────────────────────────┼───────────────┤\n",
       "│ bidirectional_5 (\u001b[38;5;33mBidirectional\u001b[0m) │ (\u001b[38;5;34m32\u001b[0m, \u001b[38;5;34m256\u001b[0m)              │       \u001b[38;5;34m263,168\u001b[0m │\n",
       "├─────────────────────────────────┼────────────────────────┼───────────────┤\n",
       "│ dropout_16 (\u001b[38;5;33mDropout\u001b[0m)            │ (\u001b[38;5;34m32\u001b[0m, \u001b[38;5;34m256\u001b[0m)              │             \u001b[38;5;34m0\u001b[0m │\n",
       "├─────────────────────────────────┼────────────────────────┼───────────────┤\n",
       "│ dense_10 (\u001b[38;5;33mDense\u001b[0m)                │ (\u001b[38;5;34m32\u001b[0m, \u001b[38;5;34m128\u001b[0m)              │        \u001b[38;5;34m32,896\u001b[0m │\n",
       "├─────────────────────────────────┼────────────────────────┼───────────────┤\n",
       "│ dropout_17 (\u001b[38;5;33mDropout\u001b[0m)            │ (\u001b[38;5;34m32\u001b[0m, \u001b[38;5;34m128\u001b[0m)              │             \u001b[38;5;34m0\u001b[0m │\n",
       "├─────────────────────────────────┼────────────────────────┼───────────────┤\n",
       "│ dense_11 (\u001b[38;5;33mDense\u001b[0m)                │ (\u001b[38;5;34m32\u001b[0m, \u001b[38;5;34m4\u001b[0m)                │           \u001b[38;5;34m516\u001b[0m │\n",
       "└─────────────────────────────────┴────────────────────────┴───────────────┘\n"
      ]
     },
     "metadata": {},
     "output_type": "display_data"
    },
    {
     "data": {
      "text/html": [
       "<pre style=\"white-space:pre;overflow-x:auto;line-height:normal;font-family:Menlo,'DejaVu Sans Mono',consolas,'Courier New',monospace\"><span style=\"font-weight: bold\"> Total params: </span><span style=\"color: #00af00; text-decoration-color: #00af00\">17,466,637</span> (66.63 MB)\n",
       "</pre>\n"
      ],
      "text/plain": [
       "\u001b[1m Total params: \u001b[0m\u001b[38;5;34m17,466,637\u001b[0m (66.63 MB)\n"
      ]
     },
     "metadata": {},
     "output_type": "display_data"
    },
    {
     "data": {
      "text/html": [
       "<pre style=\"white-space:pre;overflow-x:auto;line-height:normal;font-family:Menlo,'DejaVu Sans Mono',consolas,'Courier New',monospace\"><span style=\"font-weight: bold\"> Trainable params: </span><span style=\"color: #00af00; text-decoration-color: #00af00\">5,822,212</span> (22.21 MB)\n",
       "</pre>\n"
      ],
      "text/plain": [
       "\u001b[1m Trainable params: \u001b[0m\u001b[38;5;34m5,822,212\u001b[0m (22.21 MB)\n"
      ]
     },
     "metadata": {},
     "output_type": "display_data"
    },
    {
     "data": {
      "text/html": [
       "<pre style=\"white-space:pre;overflow-x:auto;line-height:normal;font-family:Menlo,'DejaVu Sans Mono',consolas,'Courier New',monospace\"><span style=\"font-weight: bold\"> Non-trainable params: </span><span style=\"color: #00af00; text-decoration-color: #00af00\">0</span> (0.00 B)\n",
       "</pre>\n"
      ],
      "text/plain": [
       "\u001b[1m Non-trainable params: \u001b[0m\u001b[38;5;34m0\u001b[0m (0.00 B)\n"
      ]
     },
     "metadata": {},
     "output_type": "display_data"
    },
    {
     "data": {
      "text/html": [
       "<pre style=\"white-space:pre;overflow-x:auto;line-height:normal;font-family:Menlo,'DejaVu Sans Mono',consolas,'Courier New',monospace\"><span style=\"font-weight: bold\"> Optimizer params: </span><span style=\"color: #00af00; text-decoration-color: #00af00\">11,644,425</span> (44.42 MB)\n",
       "</pre>\n"
      ],
      "text/plain": [
       "\u001b[1m Optimizer params: \u001b[0m\u001b[38;5;34m11,644,425\u001b[0m (44.42 MB)\n"
      ]
     },
     "metadata": {},
     "output_type": "display_data"
    },
    {
     "data": {
      "image/png": "[encoded data removed]",
      "text/plain": [
       "<Figure size 1200x500 with 2 Axes>"
      ]
     },
     "metadata": {},
     "output_type": "display_data"
    }
   ],
   "source": [
    "# crear modelo de LSTM\n",
    "\n",
    "# Crear el modelo\n",
    "model_lstm = Sequential()\n",
    "model_lstm.add(Embedding(input_dim=len(tokenizer.word_index)+1, \n",
    "                    output_dim=embedding_dim, \n",
    "                    input_length=pad_sequences.shape[1]))\n",
    "model_lstm.add(LSTM(128, return_sequences=True))\n",
    "model_lstm.add(Dropout(0.4))\n",
    "model_lstm.add(Bidirectional(LSTM(128)))\n",
    "model_lstm.add(Dropout(0.4))\n",
    "# model_lstm.add(LSTM(128))\n",
    "# model_lstm.add(Dropout(0.4))\n",
    "model_lstm.add(Dense(128, activation='relu', kernel_regularizer=tf.keras.regularizers.l2(0.1)))\n",
    "model_lstm.add(Dropout(0.4))\n",
    "model_lstm.add(Dense(4, activation='softmax'))\n",
    "\n",
    "# configurar early stopping\n",
    "early_stopping = tf.keras.callbacks.EarlyStopping(monitor='val_loss', \n",
    "                                                  patience=5, \n",
    "                                                  restore_best_weights=True,\n",
    "                                                  verbose=1,\n",
    "                                                  min_delta=0.01)\n",
    "\n",
    "# Compilar el modelo\n",
    "\n",
    "# Decaimiento exponencial\n",
    "lr_schedule = tf.keras.optimizers.schedules.ExponentialDecay(\n",
    "    initial_learning_rate=0.0001,\n",
    "    decay_steps=70,\n",
    "    decay_rate=0.9\n",
    ")\n",
    "\n",
    "optimizer = tf.keras.optimizers.Adam(learning_rate=lr_schedule)\n",
    "loss = tf.keras.losses.SparseCategoricalCrossentropy(from_logits=False)\n",
    "\n",
    "# Compilar el modelo\n",
    "model_lstm.compile(optimizer=optimizer, \n",
    "              loss=loss, \n",
    "              metrics=['accuracy'])\n",
    "\n",
    "# Entrenar el modelo\n",
    "history_lstm = model_lstm.fit(X_train, y_train, \n",
    "                    epochs=50, \n",
    "                    batch_size=32, \n",
    "                    validation_data=(X_val, y_val),\n",
    "                    callbacks=[early_stopping])\n",
    "\n",
    "# Resumen del modelo\n",
    "model_lstm.summary()\n",
    "\n",
    "# Visualizar la pérdida y la precisión del modelo\n",
    "plt.figure(figsize=(12, 5))\n",
    "\n",
    "plt.subplot(1, 2, 1)\n",
    "plt.plot(history_lstm.history['loss'], label='Loss')\n",
    "plt.plot(history_lstm.history['val_loss'], label='Val Loss')\n",
    "plt.title('Loss')\n",
    "plt.legend()\n",
    "\n",
    "plt.subplot(1, 2, 2)\n",
    "plt.plot(history_lstm.history['accuracy'], label='Accuracy')\n",
    "plt.plot(history_lstm.history['val_accuracy'], label='Val Accuracy')\n",
    "plt.title('Accuracy')\n",
    "plt.legend()\n",
    "\n",
    "plt.show()"
   ]
  },
  {
   "cell_type": "code",
   "execution_count": 73,
   "metadata": {},
   "outputs": [
    {
     "name": "stdout",
     "output_type": "stream",
     "text": [
      "Best epoch: 44\n",
      "Best val_acc: 0.6507353186607361\n",
      "Best val_loss: 4.3101959228515625\n"
     ]
    }
   ],
   "source": [
    "# obtener los mejores parámetros del entrenamiento\n",
    "\n",
    "best_epoch = np.argmax(history_lstm.history['val_accuracy']) + 1\n",
    "best_val_acc = np.max(history_lstm.history['val_accuracy'])\n",
    "best_val_loss = np.min(history_lstm.history['val_loss'])\n",
    "\n",
    "print(f'Best epoch: {best_epoch}')\n",
    "print(f'Best val_acc: {best_val_acc}')\n",
    "print(f'Best val_loss: {best_val_loss}')"
   ]
  },
  {
   "cell_type": "code",
   "execution_count": 74,
   "metadata": {},
   "outputs": [
    {
     "name": "stdout",
     "output_type": "stream",
     "text": [
      "Best hyperparameters: {'name': 'sequential_5', 'trainable': True, 'dtype': {'module': 'keras', 'class_name': 'DTypePolicy', 'config': {'name': 'float32'}, 'registered_name': None}, 'layers': [{'module': 'keras.layers', 'class_name': 'InputLayer', 'config': {'batch_shape': (32, 413), 'dtype': 'float32', 'sparse': False, 'name': 'input_layer_5'}, 'registered_name': None}, {'module': 'keras.layers', 'class_name': 'Embedding', 'config': {'name': 'embedding_5', 'trainable': True, 'dtype': {'module': 'keras', 'class_name': 'DTypePolicy', 'config': {'name': 'float32'}, 'registered_name': None}, 'input_dim': 42141, 'output_dim': 128, 'embeddings_initializer': {'module': 'keras.initializers', 'class_name': 'RandomUniform', 'config': {'seed': None, 'minval': -0.05, 'maxval': 0.05}, 'registered_name': None}, 'embeddings_regularizer': None, 'activity_regularizer': None, 'embeddings_constraint': None, 'mask_zero': False}, 'registered_name': None, 'build_config': {'input_shape': (32, 413)}}, {'module': 'keras.layers', 'class_name': 'LSTM', 'config': {'name': 'lstm_4', 'trainable': True, 'dtype': {'module': 'keras', 'class_name': 'DTypePolicy', 'config': {'name': 'float32'}, 'registered_name': None}, 'return_sequences': True, 'return_state': False, 'go_backwards': False, 'stateful': False, 'unroll': False, 'zero_output_for_mask': False, 'units': 128, 'activation': 'tanh', 'recurrent_activation': 'sigmoid', 'use_bias': True, 'kernel_initializer': {'module': 'keras.initializers', 'class_name': 'GlorotUniform', 'config': {'seed': None}, 'registered_name': None}, 'recurrent_initializer': {'module': 'keras.initializers', 'class_name': 'Orthogonal', 'config': {'seed': None, 'gain': 1.0}, 'registered_name': None}, 'bias_initializer': {'module': 'keras.initializers', 'class_name': 'Zeros', 'config': {}, 'registered_name': None}, 'unit_forget_bias': True, 'kernel_regularizer': None, 'recurrent_regularizer': None, 'bias_regularizer': None, 'activity_regularizer': None, 'kernel_constraint': None, 'recurrent_constraint': None, 'bias_constraint': None, 'dropout': 0.0, 'recurrent_dropout': 0.0, 'seed': None}, 'registered_name': None, 'build_config': {'input_shape': (32, 413, 128)}}, {'module': 'keras.layers', 'class_name': 'Dropout', 'config': {'name': 'dropout_15', 'trainable': True, 'dtype': {'module': 'keras', 'class_name': 'DTypePolicy', 'config': {'name': 'float32'}, 'registered_name': None}, 'rate': 0.4, 'seed': None, 'noise_shape': None}, 'registered_name': None}, {'module': 'keras.layers', 'class_name': 'Bidirectional', 'config': {'name': 'bidirectional_5', 'trainable': True, 'dtype': {'module': 'keras', 'class_name': 'DTypePolicy', 'config': {'name': 'float32'}, 'registered_name': None}, 'merge_mode': 'concat', 'layer': {'module': 'keras.layers', 'class_name': 'LSTM', 'config': {'name': 'forward_lstm_5', 'trainable': True, 'dtype': {'module': 'keras', 'class_name': 'DTypePolicy', 'config': {'name': 'float32'}, 'registered_name': None}, 'return_sequences': False, 'return_state': False, 'go_backwards': False, 'stateful': False, 'unroll': False, 'zero_output_for_mask': False, 'units': 128, 'activation': 'tanh', 'recurrent_activation': 'sigmoid', 'use_bias': True, 'kernel_initializer': {'module': 'keras.initializers', 'class_name': 'GlorotUniform', 'config': {'seed': None}, 'registered_name': None}, 'recurrent_initializer': {'module': 'keras.initializers', 'class_name': 'Orthogonal', 'config': {'seed': None, 'gain': 1.0}, 'registered_name': None}, 'bias_initializer': {'module': 'keras.initializers', 'class_name': 'Zeros', 'config': {}, 'registered_name': None}, 'unit_forget_bias': True, 'kernel_regularizer': None, 'recurrent_regularizer': None, 'bias_regularizer': None, 'activity_regularizer': None, 'kernel_constraint': None, 'recurrent_constraint': None, 'bias_constraint': None, 'dropout': 0.0, 'recurrent_dropout': 0.0, 'seed': None}, 'registered_name': None, 'build_config': {'input_shape': (32, 413, 128)}}, 'backward_layer': {'module': 'keras.layers', 'class_name': 'LSTM', 'config': {'name': 'backward_lstm_5', 'trainable': True, 'dtype': {'module': 'keras', 'class_name': 'DTypePolicy', 'config': {'name': 'float32'}, 'registered_name': None}, 'return_sequences': False, 'return_state': False, 'go_backwards': True, 'stateful': False, 'unroll': False, 'zero_output_for_mask': False, 'units': 128, 'activation': 'tanh', 'recurrent_activation': 'sigmoid', 'use_bias': True, 'kernel_initializer': {'module': 'keras.initializers', 'class_name': 'GlorotUniform', 'config': {'seed': None}, 'registered_name': None}, 'recurrent_initializer': {'module': 'keras.initializers', 'class_name': 'Orthogonal', 'config': {'seed': None, 'gain': 1.0}, 'registered_name': None}, 'bias_initializer': {'module': 'keras.initializers', 'class_name': 'Zeros', 'config': {}, 'registered_name': None}, 'unit_forget_bias': True, 'kernel_regularizer': None, 'recurrent_regularizer': None, 'bias_regularizer': None, 'activity_regularizer': None, 'kernel_constraint': None, 'recurrent_constraint': None, 'bias_constraint': None, 'dropout': 0.0, 'recurrent_dropout': 0.0, 'seed': None}, 'registered_name': None, 'build_config': {'input_shape': (32, 413, 128)}}}, 'registered_name': None, 'build_config': {'input_shape': (32, 413, 128)}}, {'module': 'keras.layers', 'class_name': 'Dropout', 'config': {'name': 'dropout_16', 'trainable': True, 'dtype': {'module': 'keras', 'class_name': 'DTypePolicy', 'config': {'name': 'float32'}, 'registered_name': None}, 'rate': 0.4, 'seed': None, 'noise_shape': None}, 'registered_name': None}, {'module': 'keras.layers', 'class_name': 'Dense', 'config': {'name': 'dense_10', 'trainable': True, 'dtype': {'module': 'keras', 'class_name': 'DTypePolicy', 'config': {'name': 'float32'}, 'registered_name': None}, 'units': 128, 'activation': 'relu', 'use_bias': True, 'kernel_initializer': {'module': 'keras.initializers', 'class_name': 'GlorotUniform', 'config': {'seed': None}, 'registered_name': None}, 'bias_initializer': {'module': 'keras.initializers', 'class_name': 'Zeros', 'config': {}, 'registered_name': None}, 'kernel_regularizer': {'module': 'keras.regularizers', 'class_name': 'L2', 'config': {'l2': 0.1}, 'registered_name': None}, 'bias_regularizer': None, 'kernel_constraint': None, 'bias_constraint': None}, 'registered_name': None, 'build_config': {'input_shape': (32, 256)}}, {'module': 'keras.layers', 'class_name': 'Dropout', 'config': {'name': 'dropout_17', 'trainable': True, 'dtype': {'module': 'keras', 'class_name': 'DTypePolicy', 'config': {'name': 'float32'}, 'registered_name': None}, 'rate': 0.4, 'seed': None, 'noise_shape': None}, 'registered_name': None}, {'module': 'keras.layers', 'class_name': 'Dense', 'config': {'name': 'dense_11', 'trainable': True, 'dtype': {'module': 'keras', 'class_name': 'DTypePolicy', 'config': {'name': 'float32'}, 'registered_name': None}, 'units': 4, 'activation': 'softmax', 'use_bias': True, 'kernel_initializer': {'module': 'keras.initializers', 'class_name': 'GlorotUniform', 'config': {'seed': None}, 'registered_name': None}, 'bias_initializer': {'module': 'keras.initializers', 'class_name': 'Zeros', 'config': {}, 'registered_name': None}, 'kernel_regularizer': None, 'bias_regularizer': None, 'kernel_constraint': None, 'bias_constraint': None}, 'registered_name': None, 'build_config': {'input_shape': (32, 128)}}], 'build_input_shape': (32, 413)}\n"
     ]
    }
   ],
   "source": [
    "# obtener los mejore hipérparametros\n",
    "\n",
    "best_params = model_lstm.get_config()\n",
    "print(f'Best hyperparameters: {best_params}')"
   ]
  },
  {
   "cell_type": "code",
   "execution_count": 75,
   "metadata": {},
   "outputs": [],
   "source": [
    "# guardar el modelo\n",
    "\n",
    "# model_lstm.save('./models/lstm_model.keras')"
   ]
  },
  {
   "cell_type": "code",
   "execution_count": 76,
   "metadata": {},
   "outputs": [
    {
     "name": "stdout",
     "output_type": "stream",
     "text": [
      "\u001b[1m1/1\u001b[0m \u001b[32m━━━━━━━━━━━━━━━━━━━━\u001b[0m\u001b[37m\u001b[0m \u001b[1m1s\u001b[0m 943ms/step\n",
      "                                             Noticia Categoría\n",
      "0  el dolar, la economía y la inflación afectan l...  deportes\n"
     ]
    }
   ],
   "source": [
    "# predecir noticias nuevas\n",
    "\n",
    "noticias_nuevas = ['el dolar, la economía y la inflación afectan los bolsillos de los ciudadanos, mientras que el gobierno busca soluciones',]\n",
    "\n",
    "# limpiar y tokenizar las noticias\n",
    "\n",
    "noticias_nuevas_limpio = [clean_text(noticia) for noticia in noticias_nuevas]\n",
    "noticias_nuevas_limpio = [remove_stopwords(noticia) for noticia in noticias_nuevas_limpio]\n",
    "noticias_nuevas_tokens = [word_tokenize(noticia) for noticia in noticias_nuevas_limpio]\n",
    "\n",
    "# convertir las noticias a secuencias\n",
    "noticias_nuevas_sequences = tokenizer.texts_to_sequences(noticias_nuevas_limpio)\n",
    "noticias_nuevas_pad_sequences = tf.keras.preprocessing.sequence.pad_sequences(noticias_nuevas_sequences, maxlen=max_len)\n",
    "\n",
    "# predecir\n",
    "y_pred_nuevas = model_lstm.predict(noticias_nuevas_pad_sequences)\n",
    "y_pred_labels_nuevas = np.argmax(y_pred_nuevas, axis=1)\n",
    "\n",
    "# convertir las etiquetas a categorías\n",
    "categorias = label_encoder.inverse_transform(y_pred_labels_nuevas)\n",
    "\n",
    "# mostrar resultados\n",
    "resultados = pd.DataFrame({'Noticia': noticias_nuevas, 'Categoría': categorias})\n",
    "print(resultados)\n",
    "\n"
   ]
  },
  {
   "cell_type": "code",
   "execution_count": 77,
   "metadata": {},
   "outputs": [
    {
     "name": "stdout",
     "output_type": "stream",
     "text": [
      "Test Loss: 4.3102\n",
      "Test Accuracy: 0.6324\n"
     ]
    }
   ],
   "source": [
    "# Validemos el modelo con la base de testeo\n",
    "\n",
    "loss, accuracy = model_lstm.evaluate(X_val, y_val, verbose=0)\n",
    "print(f\"Test Loss: {loss:.4f}\")\n",
    "print(f\"Test Accuracy: {accuracy:.4f}\")"
   ]
  },
  {
   "cell_type": "code",
   "execution_count": 78,
   "metadata": {},
   "outputs": [
    {
     "data": {
      "image/png": "[encoded data removed]",
      "text/plain": [
       "<Figure size 1200x500 with 2 Axes>"
      ]
     },
     "metadata": {},
     "output_type": "display_data"
    }
   ],
   "source": [
    "# grafico comparativo de los resultados de los modelos RNN y LSTM\n",
    "\n",
    "plt.figure(figsize=(12, 5))\n",
    "\n",
    "plt.subplot(1, 2, 1)\n",
    "plt.plot(history.history['accuracy'], label='RNN')\n",
    "plt.plot(history_lstm.history['accuracy'], label='LSTM')\n",
    "plt.title('Accuracy')\n",
    "plt.legend()\n",
    "\n",
    "plt.subplot(1, 2, 2)\n",
    "plt.plot(history.history['val_accuracy'], label='RNN')\n",
    "plt.plot(history_lstm.history['val_accuracy'], label='LSTM')\n",
    "plt.title('Val Accuracy')\n",
    "plt.legend()\n",
    "\n",
    "plt.show()"
   ]
  }
 ],
 "metadata": {
  "kernelspec": {
   "display_name": "nlp_env",
   "language": "python",
   "name": "python3"
  },
  "language_info": {
   "codemirror_mode": {
    "name": "ipython",
    "version": 3
   },
   "file_extension": ".py",
   "mimetype": "text/x-python",
   "name": "python",
   "nbconvert_exporter": "python",
   "pygments_lexer": "ipython3",
   "version": "3.10.0"
  }
 },
 "nbformat": 4,
 "nbformat_minor": 2
}
