{
 "cells": [
  {
   "cell_type": "markdown",
   "metadata": {},
   "source": [
    "## Clasificación de noticias\n",
    "\n",
    "En el presente cuaderno realizaremos el proceso completo de clasificación de noticias con modelos RNN y LSTM, abordando desde la exploración de datos y preprocesamiento hasta la implementación de modelos e informe de conclusiones.\n",
    "\n",
    "**Asignatura:** Procesamiento del lenguaje natural\n",
    "\n",
    "**Equipo:**\n",
    "\n",
    "* Germán Alonso Rodríguez Díaz \n",
    "* Cristian Baez\n",
    "* Santiago Simmonds\n",
    "* David Mariño\n"
   ]
  },
  {
   "cell_type": "code",
   "execution_count": 1,
   "metadata": {},
   "outputs": [
    {
     "name": "stderr",
     "output_type": "stream",
     "text": [
      "[nltk_data] Downloading package punkt to\n",
      "[nltk_data]     C:\\Users\\ingen\\AppData\\Roaming\\nltk_data...\n",
      "[nltk_data]   Package punkt is already up-to-date!\n",
      "[nltk_data] Downloading package stopwords to\n",
      "[nltk_data]     C:\\Users\\ingen\\AppData\\Roaming\\nltk_data...\n",
      "[nltk_data]   Package stopwords is already up-to-date!\n"
     ]
    },
    {
     "data": {
      "text/html": [
       "<div>\n",
       "<style scoped>\n",
       "    .dataframe tbody tr th:only-of-type {\n",
       "        vertical-align: middle;\n",
       "    }\n",
       "\n",
       "    .dataframe tbody tr th {\n",
       "        vertical-align: top;\n",
       "    }\n",
       "\n",
       "    .dataframe thead th {\n",
       "        text-align: right;\n",
       "    }\n",
       "</style>\n",
       "<table border=\"1\" class=\"dataframe\">\n",
       "  <thead>\n",
       "    <tr style=\"text-align: right;\">\n",
       "      <th></th>\n",
       "      <th>Columna1</th>\n",
       "      <th>Enlaces</th>\n",
       "      <th>Título</th>\n",
       "      <th>info</th>\n",
       "      <th>contenido</th>\n",
       "      <th>Etiqueta</th>\n",
       "    </tr>\n",
       "  </thead>\n",
       "  <tbody>\n",
       "    <tr>\n",
       "      <th>0</th>\n",
       "      <td>0</td>\n",
       "      <td>https://www.eltiempo.com/agresion-contra-un-op...</td>\n",
       "      <td>Operador de grúa quedó inconsciente tras agres...</td>\n",
       "      <td>El conductor de una moto le lanzó el casco y p...</td>\n",
       "      <td>Las autoridades están buscando al conductor de...</td>\n",
       "      <td>colombia</td>\n",
       "    </tr>\n",
       "    <tr>\n",
       "      <th>1</th>\n",
       "      <td>1</td>\n",
       "      <td>https://www.eltiempo.com/archivo/documento/CMS...</td>\n",
       "      <td>Usaquén, primera en infracciones por mal parqueo</td>\n",
       "      <td>La localidad ocupa el primer lugar en comparen...</td>\n",
       "      <td>\"Los andenes son para los peatones\", reclama e...</td>\n",
       "      <td>archivo</td>\n",
       "    </tr>\n",
       "    <tr>\n",
       "      <th>2</th>\n",
       "      <td>2</td>\n",
       "      <td>https://www.eltiempo.com/archivo/documento/CMS...</td>\n",
       "      <td>'Me atracaron y vi un arma que me heló la sang...</td>\n",
       "      <td>Un ciudadano relata cómo cuatro hombres lo rob...</td>\n",
       "      <td>A las 7 de la noche me había quedado de encont...</td>\n",
       "      <td>archivo</td>\n",
       "    </tr>\n",
       "    <tr>\n",
       "      <th>3</th>\n",
       "      <td>3</td>\n",
       "      <td>https://www.eltiempo.com/archivo/documento/CMS...</td>\n",
       "      <td>Escoltas mal estacionados, dolor de cabeza de ...</td>\n",
       "      <td>Las zonas de restaurantes se convierten en par...</td>\n",
       "      <td>Atravesados. Eso es lo que se les pasa por la ...</td>\n",
       "      <td>archivo</td>\n",
       "    </tr>\n",
       "    <tr>\n",
       "      <th>4</th>\n",
       "      <td>4</td>\n",
       "      <td>https://www.eltiempo.com/archivo/documento/CMS...</td>\n",
       "      <td>Radicado primer proyecto que autorizaría union...</td>\n",
       "      <td>El representante de 'la U', Miguel Gómez, dijo...</td>\n",
       "      <td>“Estamos proponiendo la figura de un contrato ...</td>\n",
       "      <td>archivo</td>\n",
       "    </tr>\n",
       "  </tbody>\n",
       "</table>\n",
       "</div>"
      ],
      "text/plain": [
       "   Columna1                                            Enlaces  \\\n",
       "0         0  https://www.eltiempo.com/agresion-contra-un-op...   \n",
       "1         1  https://www.eltiempo.com/archivo/documento/CMS...   \n",
       "2         2  https://www.eltiempo.com/archivo/documento/CMS...   \n",
       "3         3  https://www.eltiempo.com/archivo/documento/CMS...   \n",
       "4         4  https://www.eltiempo.com/archivo/documento/CMS...   \n",
       "\n",
       "                                              Título  \\\n",
       "0  Operador de grúa quedó inconsciente tras agres...   \n",
       "1   Usaquén, primera en infracciones por mal parqueo   \n",
       "2  'Me atracaron y vi un arma que me heló la sang...   \n",
       "3  Escoltas mal estacionados, dolor de cabeza de ...   \n",
       "4  Radicado primer proyecto que autorizaría union...   \n",
       "\n",
       "                                                info  \\\n",
       "0  El conductor de una moto le lanzó el casco y p...   \n",
       "1  La localidad ocupa el primer lugar en comparen...   \n",
       "2  Un ciudadano relata cómo cuatro hombres lo rob...   \n",
       "3  Las zonas de restaurantes se convierten en par...   \n",
       "4  El representante de 'la U', Miguel Gómez, dijo...   \n",
       "\n",
       "                                           contenido  Etiqueta  \n",
       "0  Las autoridades están buscando al conductor de...  colombia  \n",
       "1  \"Los andenes son para los peatones\", reclama e...   archivo  \n",
       "2  A las 7 de la noche me había quedado de encont...   archivo  \n",
       "3  Atravesados. Eso es lo que se les pasa por la ...   archivo  \n",
       "4  “Estamos proponiendo la figura de un contrato ...   archivo  "
      ]
     },
     "execution_count": 1,
     "metadata": {},
     "output_type": "execute_result"
    }
   ],
   "source": [
    "# importar las librerías necesarias\n",
    "\n",
    "import numpy as np\n",
    "import matplotlib.pyplot as plt\n",
    "import pandas as pd\n",
    "import nltk\n",
    "from nltk.tokenize import word_tokenize\n",
    "import string\n",
    "import re\n",
    "from sklearn.feature_extraction.text import TfidfVectorizer\n",
    "from gensim.models import Word2Vec\n",
    "\n",
    "\n",
    "# Descargar recursos de NLTK\n",
    "nltk.download('punkt')\n",
    "nltk.download('stopwords')\n",
    "from nltk.corpus import stopwords\n",
    "\n",
    "# Cargar el archivo de datos\n",
    "file_path = '../data_raw/Noticias.xlsx'\n",
    "df_news = pd.read_excel(file_path)\n",
    "\n",
    "# Mostrar una vista previa de los datos\n",
    "df_news.head()"
   ]
  },
  {
   "cell_type": "code",
   "execution_count": 2,
   "metadata": {},
   "outputs": [
    {
     "name": "stdout",
     "output_type": "stream",
     "text": [
      "Cantidad de etiquetas en la columna Etiqueta: \n",
      "\n",
      "Etiqueta\n",
      "archivo     9187\n",
      "colombia     934\n",
      "deportes     727\n",
      "opinion      532\n",
      "mundo        446\n",
      "cultura      430\n",
      "economia     367\n",
      "justicia     343\n",
      "bogota       311\n",
      "vida         268\n",
      "Name: count, dtype: int64\n",
      "==================================================\n",
      "Proporción de etiquetas en la columna Etiqueta: \n",
      "\n",
      "Etiqueta\n",
      "archivo     0.638163\n",
      "colombia    0.064879\n",
      "deportes    0.050500\n",
      "opinion     0.036955\n",
      "mundo       0.030981\n",
      "cultura     0.029869\n",
      "economia    0.025493\n",
      "justicia    0.023826\n",
      "bogota      0.021603\n",
      "vida        0.018616\n",
      "Name: proportion, dtype: float64\n"
     ]
    }
   ],
   "source": [
    "# análisis exploratorio de la columna Etiqueta\n",
    "\n",
    "print(f'Cantidad de etiquetas en la columna Etiqueta: \\n')\n",
    "print(df_news['Etiqueta'].value_counts().head(10))\n",
    "\n",
    "print('='*50)\n",
    "\n",
    "print(f'Proporción de etiquetas en la columna Etiqueta: \\n')\n",
    "print(df_news['Etiqueta'].value_counts(normalize=True).head(10))"
   ]
  },
  {
   "cell_type": "markdown",
   "metadata": {},
   "source": [
    "**Análisis de la columna `Etiqueta`:**\n",
    "Encontramos que la columna `Etiqueta` tiene un 63% de etiquetas `archivo` del total de noticias y un 6.5% de etiquetas `colombia`.\n",
    "\n",
    "Las etiquetas de interés para esta actividad: `deportes`, `cultura`, `economia` y `justicia`, suman un 13% del total de noticias."
   ]
  },
  {
   "cell_type": "code",
   "execution_count": 3,
   "metadata": {},
   "outputs": [
    {
     "data": {
      "text/plain": [
       "Etiqueta\n",
       "deportes    727\n",
       "cultura     430\n",
       "economia    367\n",
       "justicia    343\n",
       "Name: count, dtype: int64"
      ]
     },
     "execution_count": 3,
     "metadata": {},
     "output_type": "execute_result"
    }
   ],
   "source": [
    "# filtrar por las categorías de interés\n",
    "\n",
    "categorias = ['deportes', 'cultura', 'economia', 'justicia']\n",
    "\n",
    "df_news = df_news[df_news['Etiqueta'].isin(categorias)]\n",
    "\n",
    "# revisar distribución de las categorías\n",
    "df_news['Etiqueta'].value_counts()"
   ]
  },
  {
   "cell_type": "code",
   "execution_count": 4,
   "metadata": {},
   "outputs": [
    {
     "name": "stderr",
     "output_type": "stream",
     "text": [
      "C:\\Users\\ingen\\AppData\\Local\\Temp\\ipykernel_11764\\2163802621.py:3: DeprecationWarning: DataFrameGroupBy.apply operated on the grouping columns. This behavior is deprecated, and in a future version of pandas the grouping columns will be excluded from the operation. Either pass `include_groups=False` to exclude the groupings or explicitly select the grouping columns after groupby to silence this warning.\n",
      "  df_news = df_news.groupby('Etiqueta').apply(lambda x: x.sample(340, random_state=42)).reset_index(drop=True)\n"
     ]
    },
    {
     "data": {
      "text/plain": [
       "Etiqueta\n",
       "cultura     340\n",
       "deportes    340\n",
       "economia    340\n",
       "justicia    340\n",
       "Name: count, dtype: int64"
      ]
     },
     "execution_count": 4,
     "metadata": {},
     "output_type": "execute_result"
    }
   ],
   "source": [
    "# equilibrar las categorías\n",
    "\n",
    "df_news = df_news.groupby('Etiqueta').apply(lambda x: x.sample(340, random_state=42)).reset_index(drop=True)\n",
    "\n",
    "# revisar distribución de las categorías\n",
    "df_news['Etiqueta'].value_counts()"
   ]
  },
  {
   "cell_type": "code",
   "execution_count": 5,
   "metadata": {},
   "outputs": [
    {
     "data": {
      "text/html": [
       "<div>\n",
       "<style scoped>\n",
       "    .dataframe tbody tr th:only-of-type {\n",
       "        vertical-align: middle;\n",
       "    }\n",
       "\n",
       "    .dataframe tbody tr th {\n",
       "        vertical-align: top;\n",
       "    }\n",
       "\n",
       "    .dataframe thead th {\n",
       "        text-align: right;\n",
       "    }\n",
       "</style>\n",
       "<table border=\"1\" class=\"dataframe\">\n",
       "  <thead>\n",
       "    <tr style=\"text-align: right;\">\n",
       "      <th></th>\n",
       "      <th>Columna1</th>\n",
       "      <th>Enlaces</th>\n",
       "      <th>Título</th>\n",
       "      <th>info</th>\n",
       "      <th>contenido</th>\n",
       "      <th>Etiqueta</th>\n",
       "    </tr>\n",
       "  </thead>\n",
       "  <tbody>\n",
       "    <tr>\n",
       "      <th>0</th>\n",
       "      <td>10909</td>\n",
       "      <td>https://www.eltiempo.com/cultura/musica-y-libr...</td>\n",
       "      <td>Luis Miguel, 50 años de un sol sin ocaso</td>\n",
       "      <td>'El Sol de México' cumple 50 años. Su historia...</td>\n",
       "      <td>Siendo un niño, ‘El Sol de México’ se convirti...</td>\n",
       "      <td>cultura</td>\n",
       "    </tr>\n",
       "    <tr>\n",
       "      <th>1</th>\n",
       "      <td>10562</td>\n",
       "      <td>https://www.eltiempo.com/cultura/cine-y-tv/cri...</td>\n",
       "      <td>Críticamente: Aquí y ahora</td>\n",
       "      <td>Las películas de Víctor Gaviria constituyen un...</td>\n",
       "      <td>Las películas de Víctor Gaviria constituyen un...</td>\n",
       "      <td>cultura</td>\n",
       "    </tr>\n",
       "    <tr>\n",
       "      <th>2</th>\n",
       "      <td>10664</td>\n",
       "      <td>https://www.eltiempo.com/cultura/gastronomia/c...</td>\n",
       "      <td>Mejor con chimichurri / El Caldero</td>\n",
       "      <td>¿Dónde encontrar esa buena salsa para aderezar...</td>\n",
       "      <td>Del inagotable repertorio de las salsas, no cr...</td>\n",
       "      <td>cultura</td>\n",
       "    </tr>\n",
       "    <tr>\n",
       "      <th>3</th>\n",
       "      <td>10517</td>\n",
       "      <td>https://www.eltiempo.com/cultura/arte-y-teatro...</td>\n",
       "      <td>Secretos coloniales de la Casa 1537 de Cartagena</td>\n",
       "      <td>Este sitio, que fue catedral, colegio y hospit...</td>\n",
       "      <td>La Casa 1537, ubicada en la calle del Colegio ...</td>\n",
       "      <td>cultura</td>\n",
       "    </tr>\n",
       "    <tr>\n",
       "      <th>4</th>\n",
       "      <td>10848</td>\n",
       "      <td>https://www.eltiempo.com/cultura/musica-y-libr...</td>\n",
       "      <td>Judas Priest, Helloween y Kreator estarán en e...</td>\n",
       "      <td>El festival será el 26 de octubre en el Hipódr...</td>\n",
       "      <td>Judas Priest, la banda británica fundamental e...</td>\n",
       "      <td>cultura</td>\n",
       "    </tr>\n",
       "  </tbody>\n",
       "</table>\n",
       "</div>"
      ],
      "text/plain": [
       "   Columna1                                            Enlaces  \\\n",
       "0     10909  https://www.eltiempo.com/cultura/musica-y-libr...   \n",
       "1     10562  https://www.eltiempo.com/cultura/cine-y-tv/cri...   \n",
       "2     10664  https://www.eltiempo.com/cultura/gastronomia/c...   \n",
       "3     10517  https://www.eltiempo.com/cultura/arte-y-teatro...   \n",
       "4     10848  https://www.eltiempo.com/cultura/musica-y-libr...   \n",
       "\n",
       "                                              Título  \\\n",
       "0           Luis Miguel, 50 años de un sol sin ocaso   \n",
       "1                         Críticamente: Aquí y ahora   \n",
       "2                 Mejor con chimichurri / El Caldero   \n",
       "3   Secretos coloniales de la Casa 1537 de Cartagena   \n",
       "4  Judas Priest, Helloween y Kreator estarán en e...   \n",
       "\n",
       "                                                info  \\\n",
       "0  'El Sol de México' cumple 50 años. Su historia...   \n",
       "1  Las películas de Víctor Gaviria constituyen un...   \n",
       "2  ¿Dónde encontrar esa buena salsa para aderezar...   \n",
       "3  Este sitio, que fue catedral, colegio y hospit...   \n",
       "4  El festival será el 26 de octubre en el Hipódr...   \n",
       "\n",
       "                                           contenido Etiqueta  \n",
       "0  Siendo un niño, ‘El Sol de México’ se convirti...  cultura  \n",
       "1  Las películas de Víctor Gaviria constituyen un...  cultura  \n",
       "2  Del inagotable repertorio de las salsas, no cr...  cultura  \n",
       "3  La Casa 1537, ubicada en la calle del Colegio ...  cultura  \n",
       "4  Judas Priest, la banda británica fundamental e...  cultura  "
      ]
     },
     "execution_count": 5,
     "metadata": {},
     "output_type": "execute_result"
    }
   ],
   "source": [
    "df_news.head()"
   ]
  },
  {
   "cell_type": "code",
   "execution_count": 6,
   "metadata": {},
   "outputs": [
    {
     "data": {
      "text/html": [
       "<div>\n",
       "<style scoped>\n",
       "    .dataframe tbody tr th:only-of-type {\n",
       "        vertical-align: middle;\n",
       "    }\n",
       "\n",
       "    .dataframe tbody tr th {\n",
       "        vertical-align: top;\n",
       "    }\n",
       "\n",
       "    .dataframe thead th {\n",
       "        text-align: right;\n",
       "    }\n",
       "</style>\n",
       "<table border=\"1\" class=\"dataframe\">\n",
       "  <thead>\n",
       "    <tr style=\"text-align: right;\">\n",
       "      <th></th>\n",
       "      <th>Columna1</th>\n",
       "      <th>Enlaces</th>\n",
       "      <th>Título</th>\n",
       "      <th>info</th>\n",
       "      <th>contenido</th>\n",
       "      <th>Etiqueta</th>\n",
       "      <th>contenido_limpio</th>\n",
       "    </tr>\n",
       "  </thead>\n",
       "  <tbody>\n",
       "    <tr>\n",
       "      <th>0</th>\n",
       "      <td>10909</td>\n",
       "      <td>https://www.eltiempo.com/cultura/musica-y-libr...</td>\n",
       "      <td>Luis Miguel, 50 años de un sol sin ocaso</td>\n",
       "      <td>'El Sol de México' cumple 50 años. Su historia...</td>\n",
       "      <td>Siendo un niño, ‘El Sol de México’ se convirti...</td>\n",
       "      <td>cultura</td>\n",
       "      <td>siendo un niño el sol de méxico se convirtió e...</td>\n",
       "    </tr>\n",
       "    <tr>\n",
       "      <th>1</th>\n",
       "      <td>10562</td>\n",
       "      <td>https://www.eltiempo.com/cultura/cine-y-tv/cri...</td>\n",
       "      <td>Críticamente: Aquí y ahora</td>\n",
       "      <td>Las películas de Víctor Gaviria constituyen un...</td>\n",
       "      <td>Las películas de Víctor Gaviria constituyen un...</td>\n",
       "      <td>cultura</td>\n",
       "      <td>las películas de víctor gaviria constituyen un...</td>\n",
       "    </tr>\n",
       "    <tr>\n",
       "      <th>2</th>\n",
       "      <td>10664</td>\n",
       "      <td>https://www.eltiempo.com/cultura/gastronomia/c...</td>\n",
       "      <td>Mejor con chimichurri / El Caldero</td>\n",
       "      <td>¿Dónde encontrar esa buena salsa para aderezar...</td>\n",
       "      <td>Del inagotable repertorio de las salsas, no cr...</td>\n",
       "      <td>cultura</td>\n",
       "      <td>del inagotable repertorio de las salsas no cre...</td>\n",
       "    </tr>\n",
       "    <tr>\n",
       "      <th>3</th>\n",
       "      <td>10517</td>\n",
       "      <td>https://www.eltiempo.com/cultura/arte-y-teatro...</td>\n",
       "      <td>Secretos coloniales de la Casa 1537 de Cartagena</td>\n",
       "      <td>Este sitio, que fue catedral, colegio y hospit...</td>\n",
       "      <td>La Casa 1537, ubicada en la calle del Colegio ...</td>\n",
       "      <td>cultura</td>\n",
       "      <td>la casa  ubicada en la calle del colegio del c...</td>\n",
       "    </tr>\n",
       "    <tr>\n",
       "      <th>4</th>\n",
       "      <td>10848</td>\n",
       "      <td>https://www.eltiempo.com/cultura/musica-y-libr...</td>\n",
       "      <td>Judas Priest, Helloween y Kreator estarán en e...</td>\n",
       "      <td>El festival será el 26 de octubre en el Hipódr...</td>\n",
       "      <td>Judas Priest, la banda británica fundamental e...</td>\n",
       "      <td>cultura</td>\n",
       "      <td>judas priest la banda británica fundamental en...</td>\n",
       "    </tr>\n",
       "  </tbody>\n",
       "</table>\n",
       "</div>"
      ],
      "text/plain": [
       "   Columna1                                            Enlaces  \\\n",
       "0     10909  https://www.eltiempo.com/cultura/musica-y-libr...   \n",
       "1     10562  https://www.eltiempo.com/cultura/cine-y-tv/cri...   \n",
       "2     10664  https://www.eltiempo.com/cultura/gastronomia/c...   \n",
       "3     10517  https://www.eltiempo.com/cultura/arte-y-teatro...   \n",
       "4     10848  https://www.eltiempo.com/cultura/musica-y-libr...   \n",
       "\n",
       "                                              Título  \\\n",
       "0           Luis Miguel, 50 años de un sol sin ocaso   \n",
       "1                         Críticamente: Aquí y ahora   \n",
       "2                 Mejor con chimichurri / El Caldero   \n",
       "3   Secretos coloniales de la Casa 1537 de Cartagena   \n",
       "4  Judas Priest, Helloween y Kreator estarán en e...   \n",
       "\n",
       "                                                info  \\\n",
       "0  'El Sol de México' cumple 50 años. Su historia...   \n",
       "1  Las películas de Víctor Gaviria constituyen un...   \n",
       "2  ¿Dónde encontrar esa buena salsa para aderezar...   \n",
       "3  Este sitio, que fue catedral, colegio y hospit...   \n",
       "4  El festival será el 26 de octubre en el Hipódr...   \n",
       "\n",
       "                                           contenido Etiqueta  \\\n",
       "0  Siendo un niño, ‘El Sol de México’ se convirti...  cultura   \n",
       "1  Las películas de Víctor Gaviria constituyen un...  cultura   \n",
       "2  Del inagotable repertorio de las salsas, no cr...  cultura   \n",
       "3  La Casa 1537, ubicada en la calle del Colegio ...  cultura   \n",
       "4  Judas Priest, la banda británica fundamental e...  cultura   \n",
       "\n",
       "                                    contenido_limpio  \n",
       "0  siendo un niño el sol de méxico se convirtió e...  \n",
       "1  las películas de víctor gaviria constituyen un...  \n",
       "2  del inagotable repertorio de las salsas no cre...  \n",
       "3  la casa  ubicada en la calle del colegio del c...  \n",
       "4  judas priest la banda británica fundamental en...  "
      ]
     },
     "execution_count": 6,
     "metadata": {},
     "output_type": "execute_result"
    }
   ],
   "source": [
    "# Preprocesamiento de texto\n",
    "\n",
    "def clean_text(text):\n",
    "    # Eliminar caracteres especiales\n",
    "    text = re.sub(r'\\W', ' ', text)\n",
    "    # Eliminar caracteres de un solo espacio\n",
    "    text = re.sub(r'\\s+', ' ', text)\n",
    "    # eliminar números\n",
    "    text = re.sub(r'\\d+', '', text)\n",
    "    # eliminar puntuaación\n",
    "    text = text.translate(str.maketrans('', '', string.punctuation))\n",
    "    # Convertir texto a minúsculas\n",
    "    text = text.lower()\n",
    "    return text\n",
    "\n",
    "# Rellenar valores nulos en la columna 'contenido' con una cadena vacía\n",
    "df_news['contenido'] = df_news['contenido'].fillna('')\n",
    "\n",
    "# Aplicar la función de limpieza de texto\n",
    "df_news['contenido_limpio'] = df_news['contenido'].apply(clean_text)\n",
    "\n",
    "# revisar los datos\n",
    "df_news.head()"
   ]
  },
  {
   "cell_type": "code",
   "execution_count": 7,
   "metadata": {},
   "outputs": [
    {
     "data": {
      "text/html": [
       "<div>\n",
       "<style scoped>\n",
       "    .dataframe tbody tr th:only-of-type {\n",
       "        vertical-align: middle;\n",
       "    }\n",
       "\n",
       "    .dataframe tbody tr th {\n",
       "        vertical-align: top;\n",
       "    }\n",
       "\n",
       "    .dataframe thead th {\n",
       "        text-align: right;\n",
       "    }\n",
       "</style>\n",
       "<table border=\"1\" class=\"dataframe\">\n",
       "  <thead>\n",
       "    <tr style=\"text-align: right;\">\n",
       "      <th></th>\n",
       "      <th>Columna1</th>\n",
       "      <th>Enlaces</th>\n",
       "      <th>Título</th>\n",
       "      <th>info</th>\n",
       "      <th>contenido</th>\n",
       "      <th>Etiqueta</th>\n",
       "      <th>contenido_limpio</th>\n",
       "    </tr>\n",
       "  </thead>\n",
       "  <tbody>\n",
       "    <tr>\n",
       "      <th>0</th>\n",
       "      <td>10909</td>\n",
       "      <td>https://www.eltiempo.com/cultura/musica-y-libr...</td>\n",
       "      <td>Luis Miguel, 50 años de un sol sin ocaso</td>\n",
       "      <td>'El Sol de México' cumple 50 años. Su historia...</td>\n",
       "      <td>Siendo un niño, ‘El Sol de México’ se convirti...</td>\n",
       "      <td>cultura</td>\n",
       "      <td>siendo niño sol méxico convirtió auténtico fen...</td>\n",
       "    </tr>\n",
       "    <tr>\n",
       "      <th>1</th>\n",
       "      <td>10562</td>\n",
       "      <td>https://www.eltiempo.com/cultura/cine-y-tv/cri...</td>\n",
       "      <td>Críticamente: Aquí y ahora</td>\n",
       "      <td>Las películas de Víctor Gaviria constituyen un...</td>\n",
       "      <td>Las películas de Víctor Gaviria constituyen un...</td>\n",
       "      <td>cultura</td>\n",
       "      <td>películas víctor gaviria constituyen capítulo ...</td>\n",
       "    </tr>\n",
       "    <tr>\n",
       "      <th>2</th>\n",
       "      <td>10664</td>\n",
       "      <td>https://www.eltiempo.com/cultura/gastronomia/c...</td>\n",
       "      <td>Mejor con chimichurri / El Caldero</td>\n",
       "      <td>¿Dónde encontrar esa buena salsa para aderezar...</td>\n",
       "      <td>Del inagotable repertorio de las salsas, no cr...</td>\n",
       "      <td>cultura</td>\n",
       "      <td>inagotable repertorio salsas creo recordar sup...</td>\n",
       "    </tr>\n",
       "    <tr>\n",
       "      <th>3</th>\n",
       "      <td>10517</td>\n",
       "      <td>https://www.eltiempo.com/cultura/arte-y-teatro...</td>\n",
       "      <td>Secretos coloniales de la Casa 1537 de Cartagena</td>\n",
       "      <td>Este sitio, que fue catedral, colegio y hospit...</td>\n",
       "      <td>La Casa 1537, ubicada en la calle del Colegio ...</td>\n",
       "      <td>cultura</td>\n",
       "      <td>casa ubicada calle colegio centro histórico ca...</td>\n",
       "    </tr>\n",
       "    <tr>\n",
       "      <th>4</th>\n",
       "      <td>10848</td>\n",
       "      <td>https://www.eltiempo.com/cultura/musica-y-libr...</td>\n",
       "      <td>Judas Priest, Helloween y Kreator estarán en e...</td>\n",
       "      <td>El festival será el 26 de octubre en el Hipódr...</td>\n",
       "      <td>Judas Priest, la banda británica fundamental e...</td>\n",
       "      <td>cultura</td>\n",
       "      <td>judas priest banda británica fundamental escen...</td>\n",
       "    </tr>\n",
       "  </tbody>\n",
       "</table>\n",
       "</div>"
      ],
      "text/plain": [
       "   Columna1                                            Enlaces  \\\n",
       "0     10909  https://www.eltiempo.com/cultura/musica-y-libr...   \n",
       "1     10562  https://www.eltiempo.com/cultura/cine-y-tv/cri...   \n",
       "2     10664  https://www.eltiempo.com/cultura/gastronomia/c...   \n",
       "3     10517  https://www.eltiempo.com/cultura/arte-y-teatro...   \n",
       "4     10848  https://www.eltiempo.com/cultura/musica-y-libr...   \n",
       "\n",
       "                                              Título  \\\n",
       "0           Luis Miguel, 50 años de un sol sin ocaso   \n",
       "1                         Críticamente: Aquí y ahora   \n",
       "2                 Mejor con chimichurri / El Caldero   \n",
       "3   Secretos coloniales de la Casa 1537 de Cartagena   \n",
       "4  Judas Priest, Helloween y Kreator estarán en e...   \n",
       "\n",
       "                                                info  \\\n",
       "0  'El Sol de México' cumple 50 años. Su historia...   \n",
       "1  Las películas de Víctor Gaviria constituyen un...   \n",
       "2  ¿Dónde encontrar esa buena salsa para aderezar...   \n",
       "3  Este sitio, que fue catedral, colegio y hospit...   \n",
       "4  El festival será el 26 de octubre en el Hipódr...   \n",
       "\n",
       "                                           contenido Etiqueta  \\\n",
       "0  Siendo un niño, ‘El Sol de México’ se convirti...  cultura   \n",
       "1  Las películas de Víctor Gaviria constituyen un...  cultura   \n",
       "2  Del inagotable repertorio de las salsas, no cr...  cultura   \n",
       "3  La Casa 1537, ubicada en la calle del Colegio ...  cultura   \n",
       "4  Judas Priest, la banda británica fundamental e...  cultura   \n",
       "\n",
       "                                    contenido_limpio  \n",
       "0  siendo niño sol méxico convirtió auténtico fen...  \n",
       "1  películas víctor gaviria constituyen capítulo ...  \n",
       "2  inagotable repertorio salsas creo recordar sup...  \n",
       "3  casa ubicada calle colegio centro histórico ca...  \n",
       "4  judas priest banda británica fundamental escen...  "
      ]
     },
     "execution_count": 7,
     "metadata": {},
     "output_type": "execute_result"
    }
   ],
   "source": [
    "# eliminar stopwords\n",
    "stop_words = set(stopwords.words('spanish'))\n",
    "\n",
    "def remove_stopwords(text):\n",
    "    tokens = word_tokenize(text)\n",
    "    tokens = [word for word in tokens if word not in stop_words]\n",
    "    return ' '.join(tokens)\n",
    "\n",
    "# Aplicar la función para eliminar stopwords\n",
    "df_news['contenido_limpio'] = df_news['contenido_limpio'].apply(remove_stopwords)\n",
    "\n",
    "# revisar los datos\n",
    "df_news.head()"
   ]
  },
  {
   "cell_type": "code",
   "execution_count": 8,
   "metadata": {},
   "outputs": [
    {
     "data": {
      "text/html": [
       "<div>\n",
       "<style scoped>\n",
       "    .dataframe tbody tr th:only-of-type {\n",
       "        vertical-align: middle;\n",
       "    }\n",
       "\n",
       "    .dataframe tbody tr th {\n",
       "        vertical-align: top;\n",
       "    }\n",
       "\n",
       "    .dataframe thead th {\n",
       "        text-align: right;\n",
       "    }\n",
       "</style>\n",
       "<table border=\"1\" class=\"dataframe\">\n",
       "  <thead>\n",
       "    <tr style=\"text-align: right;\">\n",
       "      <th></th>\n",
       "      <th>Columna1</th>\n",
       "      <th>Enlaces</th>\n",
       "      <th>Título</th>\n",
       "      <th>info</th>\n",
       "      <th>contenido</th>\n",
       "      <th>Etiqueta</th>\n",
       "      <th>contenido_limpio</th>\n",
       "      <th>tokens</th>\n",
       "    </tr>\n",
       "  </thead>\n",
       "  <tbody>\n",
       "    <tr>\n",
       "      <th>0</th>\n",
       "      <td>10909</td>\n",
       "      <td>https://www.eltiempo.com/cultura/musica-y-libr...</td>\n",
       "      <td>Luis Miguel, 50 años de un sol sin ocaso</td>\n",
       "      <td>'El Sol de México' cumple 50 años. Su historia...</td>\n",
       "      <td>Siendo un niño, ‘El Sol de México’ se convirti...</td>\n",
       "      <td>cultura</td>\n",
       "      <td>siendo niño sol méxico convirtió auténtico fen...</td>\n",
       "      <td>[siendo, niño, sol, méxico, convirtió, auténti...</td>\n",
       "    </tr>\n",
       "    <tr>\n",
       "      <th>1</th>\n",
       "      <td>10562</td>\n",
       "      <td>https://www.eltiempo.com/cultura/cine-y-tv/cri...</td>\n",
       "      <td>Críticamente: Aquí y ahora</td>\n",
       "      <td>Las películas de Víctor Gaviria constituyen un...</td>\n",
       "      <td>Las películas de Víctor Gaviria constituyen un...</td>\n",
       "      <td>cultura</td>\n",
       "      <td>películas víctor gaviria constituyen capítulo ...</td>\n",
       "      <td>[películas, víctor, gaviria, constituyen, capí...</td>\n",
       "    </tr>\n",
       "    <tr>\n",
       "      <th>2</th>\n",
       "      <td>10664</td>\n",
       "      <td>https://www.eltiempo.com/cultura/gastronomia/c...</td>\n",
       "      <td>Mejor con chimichurri / El Caldero</td>\n",
       "      <td>¿Dónde encontrar esa buena salsa para aderezar...</td>\n",
       "      <td>Del inagotable repertorio de las salsas, no cr...</td>\n",
       "      <td>cultura</td>\n",
       "      <td>inagotable repertorio salsas creo recordar sup...</td>\n",
       "      <td>[inagotable, repertorio, salsas, creo, recorda...</td>\n",
       "    </tr>\n",
       "    <tr>\n",
       "      <th>3</th>\n",
       "      <td>10517</td>\n",
       "      <td>https://www.eltiempo.com/cultura/arte-y-teatro...</td>\n",
       "      <td>Secretos coloniales de la Casa 1537 de Cartagena</td>\n",
       "      <td>Este sitio, que fue catedral, colegio y hospit...</td>\n",
       "      <td>La Casa 1537, ubicada en la calle del Colegio ...</td>\n",
       "      <td>cultura</td>\n",
       "      <td>casa ubicada calle colegio centro histórico ca...</td>\n",
       "      <td>[casa, ubicada, calle, colegio, centro, histór...</td>\n",
       "    </tr>\n",
       "    <tr>\n",
       "      <th>4</th>\n",
       "      <td>10848</td>\n",
       "      <td>https://www.eltiempo.com/cultura/musica-y-libr...</td>\n",
       "      <td>Judas Priest, Helloween y Kreator estarán en e...</td>\n",
       "      <td>El festival será el 26 de octubre en el Hipódr...</td>\n",
       "      <td>Judas Priest, la banda británica fundamental e...</td>\n",
       "      <td>cultura</td>\n",
       "      <td>judas priest banda británica fundamental escen...</td>\n",
       "      <td>[judas, priest, banda, británica, fundamental,...</td>\n",
       "    </tr>\n",
       "  </tbody>\n",
       "</table>\n",
       "</div>"
      ],
      "text/plain": [
       "   Columna1                                            Enlaces  \\\n",
       "0     10909  https://www.eltiempo.com/cultura/musica-y-libr...   \n",
       "1     10562  https://www.eltiempo.com/cultura/cine-y-tv/cri...   \n",
       "2     10664  https://www.eltiempo.com/cultura/gastronomia/c...   \n",
       "3     10517  https://www.eltiempo.com/cultura/arte-y-teatro...   \n",
       "4     10848  https://www.eltiempo.com/cultura/musica-y-libr...   \n",
       "\n",
       "                                              Título  \\\n",
       "0           Luis Miguel, 50 años de un sol sin ocaso   \n",
       "1                         Críticamente: Aquí y ahora   \n",
       "2                 Mejor con chimichurri / El Caldero   \n",
       "3   Secretos coloniales de la Casa 1537 de Cartagena   \n",
       "4  Judas Priest, Helloween y Kreator estarán en e...   \n",
       "\n",
       "                                                info  \\\n",
       "0  'El Sol de México' cumple 50 años. Su historia...   \n",
       "1  Las películas de Víctor Gaviria constituyen un...   \n",
       "2  ¿Dónde encontrar esa buena salsa para aderezar...   \n",
       "3  Este sitio, que fue catedral, colegio y hospit...   \n",
       "4  El festival será el 26 de octubre en el Hipódr...   \n",
       "\n",
       "                                           contenido Etiqueta  \\\n",
       "0  Siendo un niño, ‘El Sol de México’ se convirti...  cultura   \n",
       "1  Las películas de Víctor Gaviria constituyen un...  cultura   \n",
       "2  Del inagotable repertorio de las salsas, no cr...  cultura   \n",
       "3  La Casa 1537, ubicada en la calle del Colegio ...  cultura   \n",
       "4  Judas Priest, la banda británica fundamental e...  cultura   \n",
       "\n",
       "                                    contenido_limpio  \\\n",
       "0  siendo niño sol méxico convirtió auténtico fen...   \n",
       "1  películas víctor gaviria constituyen capítulo ...   \n",
       "2  inagotable repertorio salsas creo recordar sup...   \n",
       "3  casa ubicada calle colegio centro histórico ca...   \n",
       "4  judas priest banda británica fundamental escen...   \n",
       "\n",
       "                                              tokens  \n",
       "0  [siendo, niño, sol, méxico, convirtió, auténti...  \n",
       "1  [películas, víctor, gaviria, constituyen, capí...  \n",
       "2  [inagotable, repertorio, salsas, creo, recorda...  \n",
       "3  [casa, ubicada, calle, colegio, centro, histór...  \n",
       "4  [judas, priest, banda, británica, fundamental,...  "
      ]
     },
     "execution_count": 8,
     "metadata": {},
     "output_type": "execute_result"
    }
   ],
   "source": [
    "# tokenización\n",
    "df_news['tokens'] = df_news['contenido_limpio'].apply(word_tokenize)\n",
    "\n",
    "# revisar los datos\n",
    "df_news.head()\n"
   ]
  },
  {
   "cell_type": "code",
   "execution_count": 9,
   "metadata": {},
   "outputs": [
    {
     "name": "stdout",
     "output_type": "stream",
     "text": [
      "Contenido original: \n",
      "siendo niño sol méxico convirtió auténtico fenómeno méxico pronto arrasó toda latinoamérica marcando generaciones enteras estrella luego años bache carrera regresó popularidad gracias serie basada vida empezó cantar apenas diez años pronto convirtió fenómeno méxico grandes voces canción romántica así aún cumplido quince años recibió primer grammy canción gustas tal interpretó dúo escocesa sheena easton hoy tras cuatro décadas carrera sigue siendo grandes representantes música mexicana latina mundo temprano luis miguel deja ser niño ser trabajador sometido disciplina tenaz claro marcado vida completamente aspectos positivos desarrollar carrera sólida negativos haberse visto privado momentos haberse fracturado carrera asegura periodista javier león herrera personas quizás conozca vida artista escrito varias biografías puede interesar rené cara íntima residente luis miguel nació veracruz hizo creer padre inicio carrera sino san juan puerto rico impedimento rápidamente convirtiera sol méxico protagonista vida servido inspiración serie productora netflix pasado mes enero anunció segunda entrega luis miguel serie si primera temporada narra infancia juventud artista segunda entrega serie centrará etapa adulta luis miguel nueva entrega actor mexicano diego boneta continuará interpretando cantante luis miguel cumple años hoy protagonizado intensa vida periodista javier león herrera recogió biografías luis rey luis miguel historia oro rey luis miguel años sol primera basa serie netflix serie llegó momento delicado carrera plan rescate trazó poderlo levantar nuevo jugó papel fundamental éxito principalmente méxico argentina chile positivo permitido artista captar generaciones nuevas vio reflejado impactos plataformas spotify luis miguel coincidiendo serie disparó expone león herrera propósito impacto serie latinoamérica ficción repaso biografía perspectiva propio luis miguel deja buen lugar papel jugó padre artista español luisito rey intenta zanjar misterio l desaparición madre italiana marcela basteri suceso marcado profundamente vida artista después aparición televisiva acompañó padre guitarra luis miguel actuó gran éxito boda hija presidente mexicano josé lópez portillo apenas años ayudó conseguir primer contrato discográfico compañía emi años debutó disco sol mismo año lanzó directo corazón publicó tercer álbum decídete aunque éxito definitivo llegó palabra honor incluye balada da título álbum disco año tarde lanzaría versión italiano joven luis miguel pasó éxito prestigiosos festivales canción viña mar san remo además protagonizó dos películas nunca fiebre amor correspondientes bandas sonoras ganó primer premio grammy largo carrera recibido decenas reconocimientos media docena grammy latino tres ocasiones world music award artista latino mayor número ventas producción netflix basada vida ayudó artista mexicano situarse nuevo cúspide popularidad tras superar mayor crisis carrera rodeada cancelaciones giras escándalos judiciales vida sumida hermetismo pese finales luego siete años silencio discográfico lanzó ahora último álbum estudio méxico siempre segundo rancheras dentro trayectoria musical tras méxico piel león herrera hecho seguimiento carrera cantante diversas etapas vida cree sol momento resurgimiento si ocaso años previos tres años ahí delicados momentos años sido renacer ahora mismo momento bueno si sabe administrar grandísimo poder convocatoria puede tener todavía años carrera exitosa dice si hecho célebre luis miguel grandes representantes canción romántica español boleros baladas aunque largo carrera triunfado tipo géneros mariachi pop tango jazz sol méxico desembarcó warner music llegaron mayores éxitos carrera gracias colaboración compositor juan carlos calderón álbumes quiero ser busca mujer años incondicional canción disco quiero ser tema emblemático trayectoria luis miguel lanzó primer disco boleros romance siguieron segundo romance romances romances colaboración cantantes armando manzanero romance auténtico éxito discográfico solamente méxico tercer disco vendido sino sigue siendo álbumes español vendidos nivel global mérito sumado múltiples discos platino grabaciones duda contribuyó revista billboard designará mejor artista latino últimos años artista padre tres hijos michelle nacida relación stephanie salas miguel daniel nacidos relación actriz aracely arámbula protagonizado romances cantante estadounidense mariah carey lanzamiento amarte placer publicaciones discográficas sido cada vez escasas punto última década solo editado álbum méxico siempre últimos trabajos destacan álbum directo r emixes canciones navidad vida luis miguel grabada palabra fundamental león herrera considera reconocimiento deuda artista resiliencia capacidad sobreponerse tantos acontecimientos negativos vida personal cualquier ser humano probablemente derrumbado apunta último año medio gira presentación último disco llevó luis miguel mundo serie conciertos multitudinarios lugares emblemáticos volvió llenar varias noches consecutivas auditorio nacional méxico mostrando pese sol sigue plena forma tras casi cuatro décadas carrera musical efe reportajes miedo p m ejercite mente cuarentena test lógica matemática ponga prueba clases matemáticas colegio vida par manizales p m venden medicamentos cannabis fórmula médica farmacias especializadas colombia posible acceder medicamen manizales p m guía salud mental pueblo casos bipolaridad coronavirus colombia p m cabina desinfección manual barranquilla valle cauca p m recogido cerca mil mercados donatón valle solidario\n",
      "Sequence: \n",
      "[381, 861, 1077, 308, 926, 9845, 1112, 308, 913, 11363, 182, 1447, 11364, 2490, 9846, 1261, 95, 19, 8733, 175, 3090, 4930, 452, 267, 4168, 6, 536, 2269, 507, 914, 19, 913, 926, 1112, 308, 138, 2870, 659, 3989, 61, 224, 2970, 13561, 19, 738, 111, 2576, 659, 23375, 348, 4649, 3990, 9847, 16991, 16992, 97, 88, 152, 997, 175, 300, 381, 138, 1808, 169, 2491, 843, 76, 3198, 109, 453, 779, 55, 861, 55, 3660, 4931, 2871, 11365, 422, 2971, 6, 1809, 1611, 1642, 1470, 175, 7809, 5578, 3497, 648, 1041, 673, 3497, 16993, 175, 443, 1096, 1183, 1406, 1377, 64, 2074, 6503, 6, 434, 2577, 237, 8734, 63, 460, 5210, 1133, 11366, 5579, 109, 453, 1028, 13562, 129, 2972, 791, 1448, 175, 127, 389, 113, 1501, 2075, 11367, 1906, 11368, 1077, 308, 1165, 6, 5580, 3991, 267, 5993, 1907, 72, 275, 253, 537, 199, 621, 109, 453, 267, 50, 87, 332, 5994, 3661, 2578, 434, 199, 621, 267, 23376, 374, 11369, 109, 453, 122, 621, 699, 1769, 426, 5995, 4650, 7085, 721, 109, 453, 2579, 19, 97, 7086, 7087, 6, 1096, 1183, 1406, 1377, 9848, 8734, 109, 1681, 109, 453, 155, 508, 1681, 109, 453, 19, 1077, 87, 4651, 267, 1907, 267, 225, 91, 6504, 175, 325, 7088, 9849, 23377, 4932, 119, 1502, 509, 988, 681, 1969, 308, 294, 520, 1306, 2134, 434, 8735, 2490, 521, 1166, 6505, 5211, 2346, 16994, 109, 453, 11370, 267, 5996, 4652, 1406, 1377, 1612, 496, 267, 1447, 2270, 23378, 5212, 2347, 780, 109, 453, 779, 276, 141, 509, 1502, 791, 434, 649, 16995, 1681, 5581, 16996, 3498, 1350, 4653, 674, 2492, 4654, 23379, 7810, 2971, 7089, 6, 434, 75, 3346, 11371, 5997, 791, 2668, 109, 453, 3347, 84, 681, 5998, 1262, 108, 1769, 172, 372, 16997, 507, 19, 3091, 1535, 111, 309, 4395, 200, 23380, 19, 3348, 1134, 1077, 99, 53, 1860, 2419, 1351, 1135, 942, 1042, 23381, 101, 681, 3805, 225, 1263, 3092, 1029, 7811, 273, 390, 1042, 1134, 53, 622, 23382, 640, 1407, 444, 109, 453, 410, 681, 13563, 5213, 659, 16998, 1471, 389, 9850, 60, 5214, 51, 904, 203, 7090, 631, 3992, 1861, 9851, 485, 111, 623, 2576, 445, 175, 969, 3349, 9852, 693, 13564, 2576, 3806, 70, 1057, 3199, 2135, 9853, 434, 3806, 100, 204, 830, 220, 1907, 4168, 6, 3091, 434, 1769, 13565, 119, 23383, 4930, 88, 1240, 100, 384, 175, 13566, 23384, 11372, 7091, 1503, 6, 16999, 17000, 538, 522, 95, 411, 19, 2669, 4395, 1860, 79, 227, 1042, 446, 308, 106, 144, 17001, 241, 2024, 700, 88, 308, 2670, 1406, 1377, 89, 2194, 175, 721, 3807, 2076, 6, 1113, 1077, 91, 17002, 50, 23385, 19, 4396, 70, 19, 306, 23386, 673, 19, 103, 11373, 79, 99, 91, 513, 50, 545, 7812, 23387, 213, 2136, 63, 93, 594, 19, 175, 3662, 81, 50, 89, 4933, 109, 453, 138, 1808, 659, 3989, 649, 11374, 8736, 101, 445, 175, 17003, 205, 2580, 17004, 1723, 4655, 2271, 1077, 308, 23388, 23389, 2135, 1043, 385, 2671, 175, 452, 1408, 2872, 113, 123, 2973, 4934, 853, 55, 497, 307, 19, 17005, 659, 1134, 853, 55, 188, 6506, 2024, 109, 453, 1860, 111, 1134, 11374, 6507, 5215, 144, 6507, 9854, 9854, 1408, 3663, 2772, 23390, 6507, 9845, 681, 4395, 1472, 308, 942, 1134, 4656, 127, 300, 381, 4934, 649, 9855, 195, 1058, 7092, 3808, 1908, 3664, 13567, 4397, 876, 9856, 1059, 8737, 17006, 94, 434, 3806, 233, 19, 434, 791, 70, 359, 9857, 4657, 412, 11375, 1810, 453, 470, 9858, 412, 862, 23391, 23392, 7086, 9854, 721, 578, 23393, 11376, 2272, 23394, 4935, 5216, 13568, 103, 69, 73, 11377, 214, 345, 998, 58, 13569, 1042, 308, 106, 233, 1504, 4398, 1042, 2419, 2873, 23395, 772, 5217, 6, 109, 453, 5999, 1263, 988, 1406, 1377, 1279, 1211, 970, 434, 8738, 579, 13570, 1352, 9859, 5578, 6, 397, 264, 55, 1613, 2137, 17007, 2420, 227, 53, 131, 1280, 927, 227, 1134, 419, 109, 453, 76, 267, 2348, 23396, 804, 7093, 928, 5218, 237, 3200, 8739, 5582, 71, 308, 4936, 538, 1077, 300, 1473, 117, 88, 193, 152, 997, 175, 700, 566, 7094, 21, 2, 1, 47, 27, 13, 42, 35, 44, 36, 16, 28, 39, 22, 6, 20, 5, 2, 1, 30, 29, 37, 24, 25, 43, 40, 3, 10, 23, 48, 5, 2, 1, 31, 8, 26, 18, 7, 45, 11, 3, 2, 1, 32, 38, 33, 12, 4, 17, 2, 1, 41, 9, 14, 15, 46, 4, 34]\n",
      "Sequence con padding: \n",
      "[ 7811   273   390  1042  1134    53   622 23382   640  1407   444   109\n",
      "   453   410   681 13563  5213   659 16998  1471   389  9850    60  5214\n",
      "    51   904   203  7090   631  3992  1861  9851   485   111   623  2576\n",
      "   445   175   969  3349  9852   693 13564  2576  3806    70  1057  3199\n",
      "  2135  9853   434  3806   100   204   830   220  1907  4168     6  3091\n",
      "   434  1769 13565   119 23383  4930    88  1240   100   384   175 13566\n",
      " 23384 11372  7091  1503     6 16999 17000   538   522    95   411    19\n",
      "  2669  4395  1860    79   227  1042   446   308   106   144 17001   241\n",
      "  2024   700    88   308  2670  1406  1377    89  2194   175   721  3807\n",
      "  2076     6  1113  1077    91 17002    50 23385    19  4396    70    19\n",
      "   306 23386   673    19   103 11373    79    99    91   513    50   545\n",
      "  7812 23387   213  2136    63    93   594    19   175  3662    81    50\n",
      "    89  4933   109   453   138  1808   659  3989   649 11374  8736   101\n",
      "   445   175 17003   205  2580 17004  1723  4655  2271  1077   308 23388\n",
      " 23389  2135  1043   385  2671   175   452  1408  2872   113   123  2973\n",
      "  4934   853    55   497   307    19 17005   659  1134   853    55   188\n",
      "  6506  2024   109   453  1860   111  1134 11374  6507  5215   144  6507\n",
      "  9854  9854  1408  3663  2772 23390  6507  9845   681  4395  1472   308\n",
      "   942  1134  4656   127   300   381  4934   649  9855   195  1058  7092\n",
      "  3808  1908  3664 13567  4397   876  9856  1059  8737 17006    94   434\n",
      "  3806   233    19   434   791    70   359  9857  4657   412 11375  1810\n",
      "   453   470  9858   412   862 23391 23392  7086  9854   721   578 23393\n",
      " 11376  2272 23394  4935  5216 13568   103    69    73 11377   214   345\n",
      "   998    58 13569  1042   308   106   233  1504  4398  1042  2419  2873\n",
      " 23395   772  5217     6   109   453  5999  1263   988  1406  1377  1279\n",
      "  1211   970   434  8738   579 13570  1352  9859  5578     6   397   264\n",
      "    55  1613  2137 17007  2420   227    53   131  1280   927   227  1134\n",
      "   419   109   453    76   267  2348 23396   804  7093   928  5218   237\n",
      "  3200  8739  5582    71   308  4936   538  1077   300  1473   117    88\n",
      "   193   152   997   175   700   566  7094    21     2     1    47    27\n",
      "    13    42    35    44    36    16    28    39    22     6    20     5\n",
      "     2     1    30    29    37    24    25    43    40     3    10    23\n",
      "    48     5     2     1    31     8    26    18     7    45    11     3\n",
      "     2     1    32    38    33    12     4    17     2     1    41     9\n",
      "    14    15    46     4    34]\n"
     ]
    }
   ],
   "source": [
    "# tokenización y padding con tensorflow\n",
    "\n",
    "from tensorflow.keras.preprocessing.text import Tokenizer\n",
    "from tensorflow.keras.preprocessing.sequence import pad_sequences\n",
    "\n",
    "\n",
    "# Crear un tokenizador\n",
    "tokenizer = Tokenizer()\n",
    "tokenizer.fit_on_texts(df_news['contenido_limpio'])\n",
    "\n",
    "sequences = tokenizer.texts_to_sequences(df_news['contenido_limpio'])\n",
    "max_len = round(np.quantile([len(i) for i in sequences], 0.75))\n",
    "pad_sequences = pad_sequences(sequences, maxlen=max_len)\n",
    "\n",
    "# revisar los datos\n",
    "print(f'Contenido original: \\n{df_news[\"contenido_limpio\"].iloc[0]}')\n",
    "print(f'Sequence: \\n{sequences[0]}')\n",
    "print(f'Sequence con padding: \\n{pad_sequences[0]}')"
   ]
  },
  {
   "cell_type": "code",
   "execution_count": 10,
   "metadata": {},
   "outputs": [
    {
     "name": "stdout",
     "output_type": "stream",
     "text": [
      "Dimensiones de los datos de entrenamiento: \n",
      "\n",
      "X_train: (1088, 413)\n",
      "y_train: (1088,)\n",
      "X_val: (272, 413)\n",
      "y_val: (272,)\n"
     ]
    }
   ],
   "source": [
    "import tensorflow as tf\n",
    "from sklearn.model_selection import train_test_split\n",
    "\n",
    "# codificar las etiquetas con label encoding\n",
    "from sklearn.preprocessing import LabelEncoder\n",
    "\n",
    "label_encoder = LabelEncoder()\n",
    "df_news['target'] = label_encoder.fit_transform(df_news['Etiqueta'])\n",
    "df_news['target'] = df_news['target'].astype('float32')\n",
    "\n",
    "\n",
    "\n",
    "# dividir los datos en entrenamiento y validación\n",
    "X_train, X_val, y_train, y_val = train_test_split(pad_sequences, \n",
    "                                                  df_news['target'], \n",
    "                                                  test_size=0.2, \n",
    "                                                  random_state=42)\n",
    "\n",
    "# revisar las dimensiones de los datos\n",
    "print(f'Dimensiones de los datos de entrenamiento: \\n')\n",
    "print(f'X_train: {X_train.shape}')\n",
    "print(f'y_train: {y_train.shape}')\n",
    "print(f'X_val: {X_val.shape}')\n",
    "print(f'y_val: {y_val.shape}')\n"
   ]
  },
  {
   "cell_type": "code",
   "execution_count": 11,
   "metadata": {},
   "outputs": [
    {
     "data": {
      "text/plain": [
       "target\n",
       "0.0    340\n",
       "1.0    340\n",
       "2.0    340\n",
       "3.0    340\n",
       "Name: count, dtype: int64"
      ]
     },
     "execution_count": 11,
     "metadata": {},
     "output_type": "execute_result"
    }
   ],
   "source": [
    "df_news['target'].value_counts()"
   ]
  },
  {
   "cell_type": "code",
   "execution_count": 12,
   "metadata": {},
   "outputs": [
    {
     "name": "stdout",
     "output_type": "stream",
     "text": [
      "<class 'pandas.core.frame.DataFrame'>\n",
      "RangeIndex: 1360 entries, 0 to 1359\n",
      "Data columns (total 9 columns):\n",
      " #   Column            Non-Null Count  Dtype  \n",
      "---  ------            --------------  -----  \n",
      " 0   Columna1          1360 non-null   int64  \n",
      " 1   Enlaces           1360 non-null   object \n",
      " 2   Título            1360 non-null   object \n",
      " 3   info              1325 non-null   object \n",
      " 4   contenido         1360 non-null   object \n",
      " 5   Etiqueta          1360 non-null   object \n",
      " 6   contenido_limpio  1360 non-null   object \n",
      " 7   tokens            1360 non-null   object \n",
      " 8   target            1360 non-null   float32\n",
      "dtypes: float32(1), int64(1), object(7)\n",
      "memory usage: 90.4+ KB\n"
     ]
    }
   ],
   "source": [
    "df_news.info()"
   ]
  },
  {
   "cell_type": "code",
   "execution_count": 76,
   "metadata": {},
   "outputs": [],
   "source": [
    "# crear modelo de RNN simple\n",
    "import tensorflow as tf\n",
    "from tensorflow.keras.models import Sequential\n",
    "from tensorflow.keras.layers import Embedding, LSTM, Dense, SimpleRNN, Dropout, Bidirectional"
   ]
  },
  {
   "cell_type": "code",
   "execution_count": 88,
   "metadata": {},
   "outputs": [
    {
     "name": "stdout",
     "output_type": "stream",
     "text": [
      "Epoch 1/250\n"
     ]
    },
    {
     "name": "stderr",
     "output_type": "stream",
     "text": [
      "c:\\Users\\ingen\\Documents\\estudio\\especializacion_ml\\ml\\nlp\\nlp_env\\lib\\site-packages\\keras\\src\\layers\\core\\embedding.py:90: UserWarning: Argument `input_length` is deprecated. Just remove it.\n",
      "  warnings.warn(\n"
     ]
    },
    {
     "name": "stdout",
     "output_type": "stream",
     "text": [
      "\u001b[1m34/34\u001b[0m \u001b[32m━━━━━━━━━━━━━━━━━━━━\u001b[0m\u001b[37m\u001b[0m \u001b[1m12s\u001b[0m 229ms/step - accuracy: 0.2611 - loss: 3.1296 - val_accuracy: 0.2684 - val_loss: 3.0432\n",
      "Epoch 2/250\n",
      "\u001b[1m34/34\u001b[0m \u001b[32m━━━━━━━━━━━━━━━━━━━━\u001b[0m\u001b[37m\u001b[0m \u001b[1m8s\u001b[0m 228ms/step - accuracy: 0.2690 - loss: 3.0664 - val_accuracy: 0.3493 - val_loss: 2.9479\n",
      "Epoch 3/250\n",
      "\u001b[1m34/34\u001b[0m \u001b[32m━━━━━━━━━━━━━━━━━━━━\u001b[0m\u001b[37m\u001b[0m \u001b[1m8s\u001b[0m 225ms/step - accuracy: 0.3634 - loss: 2.8985 - val_accuracy: 0.4706 - val_loss: 2.7214\n",
      "Epoch 4/250\n",
      "\u001b[1m34/34\u001b[0m \u001b[32m━━━━━━━━━━━━━━━━━━━━\u001b[0m\u001b[37m\u001b[0m \u001b[1m8s\u001b[0m 232ms/step - accuracy: 0.4615 - loss: 2.7109 - val_accuracy: 0.5037 - val_loss: 2.6160\n",
      "Epoch 5/250\n",
      "\u001b[1m34/34\u001b[0m \u001b[32m━━━━━━━━━━━━━━━━━━━━\u001b[0m\u001b[37m\u001b[0m \u001b[1m8s\u001b[0m 237ms/step - accuracy: 0.5508 - loss: 2.5144 - val_accuracy: 0.4890 - val_loss: 2.5906\n",
      "Epoch 6/250\n",
      "\u001b[1m34/34\u001b[0m \u001b[32m━━━━━━━━━━━━━━━━━━━━\u001b[0m\u001b[37m\u001b[0m \u001b[1m8s\u001b[0m 234ms/step - accuracy: 0.5791 - loss: 2.3609 - val_accuracy: 0.5625 - val_loss: 2.3183\n",
      "Epoch 7/250\n",
      "\u001b[1m34/34\u001b[0m \u001b[32m━━━━━━━━━━━━━━━━━━━━\u001b[0m\u001b[37m\u001b[0m \u001b[1m8s\u001b[0m 236ms/step - accuracy: 0.6674 - loss: 2.1960 - val_accuracy: 0.5919 - val_loss: 2.3462\n",
      "Epoch 8/250\n",
      "\u001b[1m34/34\u001b[0m \u001b[32m━━━━━━━━━━━━━━━━━━━━\u001b[0m\u001b[37m\u001b[0m \u001b[1m9s\u001b[0m 255ms/step - accuracy: 0.7469 - loss: 2.0683 - val_accuracy: 0.6801 - val_loss: 2.1746\n",
      "Epoch 9/250\n",
      "\u001b[1m34/34\u001b[0m \u001b[32m━━━━━━━━━━━━━━━━━━━━\u001b[0m\u001b[37m\u001b[0m \u001b[1m8s\u001b[0m 238ms/step - accuracy: 0.8340 - loss: 1.8987 - val_accuracy: 0.6838 - val_loss: 2.1106\n",
      "Epoch 10/250\n",
      "\u001b[1m34/34\u001b[0m \u001b[32m━━━━━━━━━━━━━━━━━━━━\u001b[0m\u001b[37m\u001b[0m \u001b[1m8s\u001b[0m 242ms/step - accuracy: 0.8943 - loss: 1.7437 - val_accuracy: 0.6985 - val_loss: 2.0482\n",
      "Epoch 11/250\n",
      "\u001b[1m34/34\u001b[0m \u001b[32m━━━━━━━━━━━━━━━━━━━━\u001b[0m\u001b[37m\u001b[0m \u001b[1m8s\u001b[0m 237ms/step - accuracy: 0.9506 - loss: 1.5691 - val_accuracy: 0.6838 - val_loss: 2.0203\n",
      "Epoch 12/250\n",
      "\u001b[1m34/34\u001b[0m \u001b[32m━━━━━━━━━━━━━━━━━━━━\u001b[0m\u001b[37m\u001b[0m \u001b[1m8s\u001b[0m 238ms/step - accuracy: 0.9776 - loss: 1.4569 - val_accuracy: 0.6838 - val_loss: 1.9971\n",
      "Epoch 13/250\n",
      "\u001b[1m34/34\u001b[0m \u001b[32m━━━━━━━━━━━━━━━━━━━━\u001b[0m\u001b[37m\u001b[0m \u001b[1m8s\u001b[0m 235ms/step - accuracy: 0.9799 - loss: 1.3580 - val_accuracy: 0.6581 - val_loss: 2.0944\n",
      "Epoch 14/250\n",
      "\u001b[1m34/34\u001b[0m \u001b[32m━━━━━━━━━━━━━━━━━━━━\u001b[0m\u001b[37m\u001b[0m \u001b[1m8s\u001b[0m 240ms/step - accuracy: 0.9941 - loss: 1.2780 - val_accuracy: 0.6912 - val_loss: 2.0209\n",
      "Epoch 15/250\n",
      "\u001b[1m34/34\u001b[0m \u001b[32m━━━━━━━━━━━━━━━━━━━━\u001b[0m\u001b[37m\u001b[0m \u001b[1m9s\u001b[0m 269ms/step - accuracy: 0.9740 - loss: 1.3050 - val_accuracy: 0.6581 - val_loss: 2.0890\n",
      "Epoch 16/250\n",
      "\u001b[1m34/34\u001b[0m \u001b[32m━━━━━━━━━━━━━━━━━━━━\u001b[0m\u001b[37m\u001b[0m \u001b[1m8s\u001b[0m 243ms/step - accuracy: 0.9872 - loss: 1.2169 - val_accuracy: 0.6765 - val_loss: 1.9993\n",
      "Epoch 17/250\n",
      "\u001b[1m34/34\u001b[0m \u001b[32m━━━━━━━━━━━━━━━━━━━━\u001b[0m\u001b[37m\u001b[0m \u001b[1m8s\u001b[0m 239ms/step - accuracy: 0.9845 - loss: 1.1580 - val_accuracy: 0.6875 - val_loss: 2.0200\n",
      "Epoch 17: early stopping\n",
      "Restoring model weights from the end of the best epoch: 12.\n"
     ]
    },
    {
     "data": {
      "text/html": [
       "<pre style=\"white-space:pre;overflow-x:auto;line-height:normal;font-family:Menlo,'DejaVu Sans Mono',consolas,'Courier New',monospace\"><span style=\"font-weight: bold\">Model: \"sequential_54\"</span>\n",
       "</pre>\n"
      ],
      "text/plain": [
       "\u001b[1mModel: \"sequential_54\"\u001b[0m\n"
      ]
     },
     "metadata": {},
     "output_type": "display_data"
    },
    {
     "data": {
      "text/html": [
       "<pre style=\"white-space:pre;overflow-x:auto;line-height:normal;font-family:Menlo,'DejaVu Sans Mono',consolas,'Courier New',monospace\">┏━━━━━━━━━━━━━━━━━━━━━━━━━━━━━━━━━┳━━━━━━━━━━━━━━━━━━━━━━━━┳━━━━━━━━━━━━━━━┓\n",
       "┃<span style=\"font-weight: bold\"> Layer (type)                    </span>┃<span style=\"font-weight: bold\"> Output Shape           </span>┃<span style=\"font-weight: bold\">       Param # </span>┃\n",
       "┡━━━━━━━━━━━━━━━━━━━━━━━━━━━━━━━━━╇━━━━━━━━━━━━━━━━━━━━━━━━╇━━━━━━━━━━━━━━━┩\n",
       "│ embedding_54 (<span style=\"color: #0087ff; text-decoration-color: #0087ff\">Embedding</span>)        │ (<span style=\"color: #00af00; text-decoration-color: #00af00\">32</span>, <span style=\"color: #00af00; text-decoration-color: #00af00\">413</span>, <span style=\"color: #00af00; text-decoration-color: #00af00\">128</span>)         │     <span style=\"color: #00af00; text-decoration-color: #00af00\">5,393,664</span> │\n",
       "├─────────────────────────────────┼────────────────────────┼───────────────┤\n",
       "│ simple_rnn_58 (<span style=\"color: #0087ff; text-decoration-color: #0087ff\">SimpleRNN</span>)       │ (<span style=\"color: #00af00; text-decoration-color: #00af00\">32</span>, <span style=\"color: #00af00; text-decoration-color: #00af00\">413</span>, <span style=\"color: #00af00; text-decoration-color: #00af00\">128</span>)         │        <span style=\"color: #00af00; text-decoration-color: #00af00\">32,896</span> │\n",
       "├─────────────────────────────────┼────────────────────────┼───────────────┤\n",
       "│ dropout_87 (<span style=\"color: #0087ff; text-decoration-color: #0087ff\">Dropout</span>)            │ (<span style=\"color: #00af00; text-decoration-color: #00af00\">32</span>, <span style=\"color: #00af00; text-decoration-color: #00af00\">413</span>, <span style=\"color: #00af00; text-decoration-color: #00af00\">128</span>)         │             <span style=\"color: #00af00; text-decoration-color: #00af00\">0</span> │\n",
       "├─────────────────────────────────┼────────────────────────┼───────────────┤\n",
       "│ bidirectional_7 (<span style=\"color: #0087ff; text-decoration-color: #0087ff\">Bidirectional</span>) │ (<span style=\"color: #00af00; text-decoration-color: #00af00\">32</span>, <span style=\"color: #00af00; text-decoration-color: #00af00\">256</span>)              │        <span style=\"color: #00af00; text-decoration-color: #00af00\">65,792</span> │\n",
       "├─────────────────────────────────┼────────────────────────┼───────────────┤\n",
       "│ dropout_88 (<span style=\"color: #0087ff; text-decoration-color: #0087ff\">Dropout</span>)            │ (<span style=\"color: #00af00; text-decoration-color: #00af00\">32</span>, <span style=\"color: #00af00; text-decoration-color: #00af00\">256</span>)              │             <span style=\"color: #00af00; text-decoration-color: #00af00\">0</span> │\n",
       "├─────────────────────────────────┼────────────────────────┼───────────────┤\n",
       "│ dense_102 (<span style=\"color: #0087ff; text-decoration-color: #0087ff\">Dense</span>)               │ (<span style=\"color: #00af00; text-decoration-color: #00af00\">32</span>, <span style=\"color: #00af00; text-decoration-color: #00af00\">128</span>)              │        <span style=\"color: #00af00; text-decoration-color: #00af00\">32,896</span> │\n",
       "├─────────────────────────────────┼────────────────────────┼───────────────┤\n",
       "│ dropout_89 (<span style=\"color: #0087ff; text-decoration-color: #0087ff\">Dropout</span>)            │ (<span style=\"color: #00af00; text-decoration-color: #00af00\">32</span>, <span style=\"color: #00af00; text-decoration-color: #00af00\">128</span>)              │             <span style=\"color: #00af00; text-decoration-color: #00af00\">0</span> │\n",
       "├─────────────────────────────────┼────────────────────────┼───────────────┤\n",
       "│ dense_103 (<span style=\"color: #0087ff; text-decoration-color: #0087ff\">Dense</span>)               │ (<span style=\"color: #00af00; text-decoration-color: #00af00\">32</span>, <span style=\"color: #00af00; text-decoration-color: #00af00\">4</span>)                │           <span style=\"color: #00af00; text-decoration-color: #00af00\">516</span> │\n",
       "└─────────────────────────────────┴────────────────────────┴───────────────┘\n",
       "</pre>\n"
      ],
      "text/plain": [
       "┏━━━━━━━━━━━━━━━━━━━━━━━━━━━━━━━━━┳━━━━━━━━━━━━━━━━━━━━━━━━┳━━━━━━━━━━━━━━━┓\n",
       "┃\u001b[1m \u001b[0m\u001b[1mLayer (type)                   \u001b[0m\u001b[1m \u001b[0m┃\u001b[1m \u001b[0m\u001b[1mOutput Shape          \u001b[0m\u001b[1m \u001b[0m┃\u001b[1m \u001b[0m\u001b[1m      Param #\u001b[0m\u001b[1m \u001b[0m┃\n",
       "┡━━━━━━━━━━━━━━━━━━━━━━━━━━━━━━━━━╇━━━━━━━━━━━━━━━━━━━━━━━━╇━━━━━━━━━━━━━━━┩\n",
       "│ embedding_54 (\u001b[38;5;33mEmbedding\u001b[0m)        │ (\u001b[38;5;34m32\u001b[0m, \u001b[38;5;34m413\u001b[0m, \u001b[38;5;34m128\u001b[0m)         │     \u001b[38;5;34m5,393,664\u001b[0m │\n",
       "├─────────────────────────────────┼────────────────────────┼───────────────┤\n",
       "│ simple_rnn_58 (\u001b[38;5;33mSimpleRNN\u001b[0m)       │ (\u001b[38;5;34m32\u001b[0m, \u001b[38;5;34m413\u001b[0m, \u001b[38;5;34m128\u001b[0m)         │        \u001b[38;5;34m32,896\u001b[0m │\n",
       "├─────────────────────────────────┼────────────────────────┼───────────────┤\n",
       "│ dropout_87 (\u001b[38;5;33mDropout\u001b[0m)            │ (\u001b[38;5;34m32\u001b[0m, \u001b[38;5;34m413\u001b[0m, \u001b[38;5;34m128\u001b[0m)         │             \u001b[38;5;34m0\u001b[0m │\n",
       "├─────────────────────────────────┼────────────────────────┼───────────────┤\n",
       "│ bidirectional_7 (\u001b[38;5;33mBidirectional\u001b[0m) │ (\u001b[38;5;34m32\u001b[0m, \u001b[38;5;34m256\u001b[0m)              │        \u001b[38;5;34m65,792\u001b[0m │\n",
       "├─────────────────────────────────┼────────────────────────┼───────────────┤\n",
       "│ dropout_88 (\u001b[38;5;33mDropout\u001b[0m)            │ (\u001b[38;5;34m32\u001b[0m, \u001b[38;5;34m256\u001b[0m)              │             \u001b[38;5;34m0\u001b[0m │\n",
       "├─────────────────────────────────┼────────────────────────┼───────────────┤\n",
       "│ dense_102 (\u001b[38;5;33mDense\u001b[0m)               │ (\u001b[38;5;34m32\u001b[0m, \u001b[38;5;34m128\u001b[0m)              │        \u001b[38;5;34m32,896\u001b[0m │\n",
       "├─────────────────────────────────┼────────────────────────┼───────────────┤\n",
       "│ dropout_89 (\u001b[38;5;33mDropout\u001b[0m)            │ (\u001b[38;5;34m32\u001b[0m, \u001b[38;5;34m128\u001b[0m)              │             \u001b[38;5;34m0\u001b[0m │\n",
       "├─────────────────────────────────┼────────────────────────┼───────────────┤\n",
       "│ dense_103 (\u001b[38;5;33mDense\u001b[0m)               │ (\u001b[38;5;34m32\u001b[0m, \u001b[38;5;34m4\u001b[0m)                │           \u001b[38;5;34m516\u001b[0m │\n",
       "└─────────────────────────────────┴────────────────────────┴───────────────┘\n"
      ]
     },
     "metadata": {},
     "output_type": "display_data"
    },
    {
     "data": {
      "text/html": [
       "<pre style=\"white-space:pre;overflow-x:auto;line-height:normal;font-family:Menlo,'DejaVu Sans Mono',consolas,'Courier New',monospace\"><span style=\"font-weight: bold\"> Total params: </span><span style=\"color: #00af00; text-decoration-color: #00af00\">16,577,293</span> (63.24 MB)\n",
       "</pre>\n"
      ],
      "text/plain": [
       "\u001b[1m Total params: \u001b[0m\u001b[38;5;34m16,577,293\u001b[0m (63.24 MB)\n"
      ]
     },
     "metadata": {},
     "output_type": "display_data"
    },
    {
     "data": {
      "text/html": [
       "<pre style=\"white-space:pre;overflow-x:auto;line-height:normal;font-family:Menlo,'DejaVu Sans Mono',consolas,'Courier New',monospace\"><span style=\"font-weight: bold\"> Trainable params: </span><span style=\"color: #00af00; text-decoration-color: #00af00\">5,525,764</span> (21.08 MB)\n",
       "</pre>\n"
      ],
      "text/plain": [
       "\u001b[1m Trainable params: \u001b[0m\u001b[38;5;34m5,525,764\u001b[0m (21.08 MB)\n"
      ]
     },
     "metadata": {},
     "output_type": "display_data"
    },
    {
     "data": {
      "text/html": [
       "<pre style=\"white-space:pre;overflow-x:auto;line-height:normal;font-family:Menlo,'DejaVu Sans Mono',consolas,'Courier New',monospace\"><span style=\"font-weight: bold\"> Non-trainable params: </span><span style=\"color: #00af00; text-decoration-color: #00af00\">0</span> (0.00 B)\n",
       "</pre>\n"
      ],
      "text/plain": [
       "\u001b[1m Non-trainable params: \u001b[0m\u001b[38;5;34m0\u001b[0m (0.00 B)\n"
      ]
     },
     "metadata": {},
     "output_type": "display_data"
    },
    {
     "data": {
      "text/html": [
       "<pre style=\"white-space:pre;overflow-x:auto;line-height:normal;font-family:Menlo,'DejaVu Sans Mono',consolas,'Courier New',monospace\"><span style=\"font-weight: bold\"> Optimizer params: </span><span style=\"color: #00af00; text-decoration-color: #00af00\">11,051,529</span> (42.16 MB)\n",
       "</pre>\n"
      ],
      "text/plain": [
       "\u001b[1m Optimizer params: \u001b[0m\u001b[38;5;34m11,051,529\u001b[0m (42.16 MB)\n"
      ]
     },
     "metadata": {},
     "output_type": "display_data"
    },
    {
     "data": {
      "image/png": "[encoded data removed]",
      "text/plain": [
       "<Figure size 1200x500 with 2 Axes>"
      ]
     },
     "metadata": {},
     "output_type": "display_data"
    }
   ],
   "source": [
    "# Definir la dimensión de los embeddings\n",
    "embedding_dim = 128\n",
    "\n",
    "# Crear el modelo\n",
    "model = Sequential()\n",
    "model.add(Embedding(input_dim=len(tokenizer.word_index)+1, \n",
    "                    output_dim=embedding_dim, \n",
    "                    input_length=pad_sequences.shape[1]))\n",
    "model.add(SimpleRNN(128, return_sequences=True))\n",
    "model.add(Dropout(0.4))\n",
    "model.add(Bidirectional(SimpleRNN(128)))\n",
    "model.add(Dropout(0.4))\n",
    "model.add(Dense(128, activation='relu', kernel_regularizer=tf.keras.regularizers.l2(0.01)))\n",
    "model.add(Dropout(0.4))\n",
    "model.add(Dense(4, activation='softmax'))\n",
    "\n",
    "# configurar early stopping\n",
    "early_stopping = tf.keras.callbacks.EarlyStopping(monitor='val_loss', \n",
    "                                                  patience=5, \n",
    "                                                  restore_best_weights=True,\n",
    "                                                  verbose=1,\n",
    "                                                  min_delta=0.01)\n",
    "\n",
    "# Compilar el modelo\n",
    "\n",
    "# Decaimiento exponencial\n",
    "lr_schedule = tf.keras.optimizers.schedules.ExponentialDecay(\n",
    "    initial_learning_rate=0.0001,\n",
    "    decay_steps=10000,\n",
    "    decay_rate=0.8\n",
    ")\n",
    "\n",
    "optimizer = tf.keras.optimizers.Adam(learning_rate=lr_schedule)\n",
    "loss = tf.keras.losses.SparseCategoricalCrossentropy(from_logits=False)\n",
    "model.compile(optimizer=optimizer, \n",
    "              loss=loss, \n",
    "              metrics=['accuracy'])\n",
    "\n",
    "\n",
    "# Entrenar el modelo\n",
    "history = model.fit(X_train, y_train, \n",
    "                    epochs=250, \n",
    "                    batch_size=32, \n",
    "                    validation_data=(X_val, y_val),\n",
    "                    callbacks=[early_stopping])\n",
    "\n",
    "# Resumen del modelo\n",
    "model.summary()\n",
    "\n",
    "# Visualizar la pérdida y la precisión del modelo\n",
    "plt.figure(figsize=(12, 5))\n",
    "\n",
    "plt.subplot(1, 2, 1)\n",
    "plt.plot(history.history['loss'], label='Loss')\n",
    "plt.plot(history.history['val_loss'], label='Val Loss')\n",
    "plt.title('Loss')\n",
    "plt.legend()\n",
    "\n",
    "plt.subplot(1, 2, 2)\n",
    "plt.plot(history.history['accuracy'], label='Accuracy')\n",
    "plt.plot(history.history['val_accuracy'], label='Val Accuracy')\n",
    "plt.title('Accuracy')\n",
    "plt.legend()\n",
    "\n",
    "plt.show()"
   ]
  },
  {
   "cell_type": "code",
   "execution_count": null,
   "metadata": {},
   "outputs": [],
   "source": [
    "# guardar el modelo\n",
    "\n",
    "# model.save('./models/rnn_model.keras')"
   ]
  },
  {
   "cell_type": "code",
   "execution_count": 93,
   "metadata": {},
   "outputs": [
    {
     "name": "stdout",
     "output_type": "stream",
     "text": [
      "\u001b[1m9/9\u001b[0m \u001b[32m━━━━━━━━━━━━━━━━━━━━\u001b[0m\u001b[37m\u001b[0m \u001b[1m0s\u001b[0m 54ms/step\n",
      "              precision    recall  f1-score   support\n",
      "\n",
      "         0.0       0.56      0.75      0.64        65\n",
      "         1.0       0.72      0.70      0.71        73\n",
      "         2.0       0.73      0.61      0.67        62\n",
      "         3.0       0.77      0.67      0.72        72\n",
      "\n",
      "    accuracy                           0.68       272\n",
      "   macro avg       0.70      0.68      0.68       272\n",
      "weighted avg       0.70      0.68      0.69       272\n",
      "\n"
     ]
    }
   ],
   "source": [
    "# usar modelo para predecir\n",
    "\n",
    "# cargar el modelo\n",
    "\n",
    "# model = tf.keras.models.load_model('./models/rnn_model.keras')\n",
    "\n",
    "# predecir\n",
    "y_pred = model.predict(X_val)\n",
    "\n",
    "# convertir las predicciones a etiquetas\n",
    "y_pred_labels = np.argmax(y_pred, axis=1)\n",
    "y_val_labels = np.argmax(y_val, axis=1) if len(y_val.shape) > 1 else y_val\n",
    "\n",
    "# evaluar el modelo\n",
    "from sklearn.metrics import classification_report\n",
    "\n",
    "print(classification_report(y_val_labels, y_pred_labels))"
   ]
  },
  {
   "cell_type": "code",
   "execution_count": 94,
   "metadata": {},
   "outputs": [
    {
     "name": "stdout",
     "output_type": "stream",
     "text": [
      "\u001b[1m1/1\u001b[0m \u001b[32m━━━━━━━━━━━━━━━━━━━━\u001b[0m\u001b[37m\u001b[0m \u001b[1m0s\u001b[0m 63ms/step\n",
      "                                             Noticia Categoría\n",
      "0  el dolar, la economía y la inflación afectan l...  deportes\n"
     ]
    }
   ],
   "source": [
    "# predecir noticias nuevas\n",
    "\n",
    "noticias_nuevas = ['el dolar, la economía y la inflación afectan los bolsillos de los ciudadanos, mientras que el gobierno busca soluciones',]\n",
    "\n",
    "# limpiar y tokenizar las noticias\n",
    "\n",
    "noticias_nuevas_limpio = [clean_text(noticia) for noticia in noticias_nuevas]\n",
    "noticias_nuevas_limpio = [remove_stopwords(noticia) for noticia in noticias_nuevas_limpio]\n",
    "noticias_nuevas_tokens = [word_tokenize(noticia) for noticia in noticias_nuevas_limpio]\n",
    "\n",
    "# convertir las noticias a secuencias\n",
    "noticias_nuevas_sequences = tokenizer.texts_to_sequences(noticias_nuevas_limpio)\n",
    "noticias_nuevas_pad_sequences = tf.keras.preprocessing.sequence.pad_sequences(noticias_nuevas_sequences, maxlen=max_len)\n",
    "\n",
    "# predecir\n",
    "y_pred_nuevas = model.predict(noticias_nuevas_pad_sequences)\n",
    "y_pred_labels_nuevas = np.argmax(y_pred_nuevas, axis=1)\n",
    "\n",
    "# convertir las etiquetas a categorías\n",
    "categorias = label_encoder.inverse_transform(y_pred_labels_nuevas)\n",
    "\n",
    "# mostrar resultados\n",
    "resultados = pd.DataFrame({'Noticia': noticias_nuevas, 'Categoría': categorias})\n",
    "print(resultados)"
   ]
  },
  {
   "cell_type": "code",
   "execution_count": 95,
   "metadata": {},
   "outputs": [
    {
     "name": "stdout",
     "output_type": "stream",
     "text": [
      "Categorías: ['cultura' 'deportes' 'economia' 'justicia']\n",
      "Etiquetas: [0 1 2 3]\n"
     ]
    }
   ],
   "source": [
    "# imprimir categorias y etiquetas\n",
    "\n",
    "categorias = label_encoder.classes_\n",
    "etiquetas = label_encoder.transform(categorias)\n",
    "\n",
    "print(f'Categorías: {categorias}')\n",
    "print(f'Etiquetas: {etiquetas}')"
   ]
  },
  {
   "cell_type": "code",
   "execution_count": 127,
   "metadata": {},
   "outputs": [
    {
     "name": "stdout",
     "output_type": "stream",
     "text": [
      "Test Loss: 1.9971\n",
      "Test Accuracy: 0.6838\n"
     ]
    }
   ],
   "source": [
    "# Validemos el modelo con la base de testeo\n",
    "\n",
    "loss, accuracy = model.evaluate(X_val, y_val, verbose=0)\n",
    "print(f\"Test Loss: {loss:.4f}\")\n",
    "print(f\"Test Accuracy: {accuracy:.4f}\")"
   ]
  },
  {
   "cell_type": "code",
   "execution_count": 121,
   "metadata": {},
   "outputs": [
    {
     "name": "stdout",
     "output_type": "stream",
     "text": [
      "Epoch 1/250\n",
      "\u001b[1m34/34\u001b[0m \u001b[32m━━━━━━━━━━━━━━━━━━━━\u001b[0m\u001b[37m\u001b[0m \u001b[1m43s\u001b[0m 1s/step - accuracy: 0.2461 - loss: 18.1060 - val_accuracy: 0.3051 - val_loss: 17.0992\n",
      "Epoch 2/250\n",
      "\u001b[1m34/34\u001b[0m \u001b[32m━━━━━━━━━━━━━━━━━━━━\u001b[0m\u001b[37m\u001b[0m \u001b[1m45s\u001b[0m 1s/step - accuracy: 0.2308 - loss: 16.7812 - val_accuracy: 0.3162 - val_loss: 15.8476\n",
      "Epoch 3/250\n",
      "\u001b[1m34/34\u001b[0m \u001b[32m━━━━━━━━━━━━━━━━━━━━\u001b[0m\u001b[37m\u001b[0m \u001b[1m45s\u001b[0m 1s/step - accuracy: 0.2543 - loss: 15.5538 - val_accuracy: 0.3125 - val_loss: 14.6909\n",
      "Epoch 4/250\n",
      "\u001b[1m34/34\u001b[0m \u001b[32m━━━━━━━━━━━━━━━━━━━━\u001b[0m\u001b[37m\u001b[0m \u001b[1m46s\u001b[0m 1s/step - accuracy: 0.2402 - loss: 14.4201 - val_accuracy: 0.2868 - val_loss: 13.6214\n",
      "Epoch 5/250\n",
      "\u001b[1m34/34\u001b[0m \u001b[32m━━━━━━━━━━━━━━━━━━━━\u001b[0m\u001b[37m\u001b[0m \u001b[1m45s\u001b[0m 1s/step - accuracy: 0.3008 - loss: 13.3702 - val_accuracy: 0.2868 - val_loss: 12.6314\n",
      "Epoch 6/250\n",
      "\u001b[1m34/34\u001b[0m \u001b[32m━━━━━━━━━━━━━━━━━━━━\u001b[0m\u001b[37m\u001b[0m \u001b[1m53s\u001b[0m 2s/step - accuracy: 0.3073 - loss: 12.3975 - val_accuracy: 0.2831 - val_loss: 11.7150\n",
      "Epoch 7/250\n",
      "\u001b[1m34/34\u001b[0m \u001b[32m━━━━━━━━━━━━━━━━━━━━\u001b[0m\u001b[37m\u001b[0m \u001b[1m56s\u001b[0m 2s/step - accuracy: 0.3110 - loss: 11.5010 - val_accuracy: 0.2831 - val_loss: 10.8677\n",
      "Epoch 8/250\n",
      "\u001b[1m34/34\u001b[0m \u001b[32m━━━━━━━━━━━━━━━━━━━━\u001b[0m\u001b[37m\u001b[0m \u001b[1m58s\u001b[0m 2s/step - accuracy: 0.2976 - loss: 10.6703 - val_accuracy: 0.2831 - val_loss: 10.0842\n",
      "Epoch 9/250\n",
      "\u001b[1m34/34\u001b[0m \u001b[32m━━━━━━━━━━━━━━━━━━━━\u001b[0m\u001b[37m\u001b[0m \u001b[1m70s\u001b[0m 2s/step - accuracy: 0.3020 - loss: 9.9010 - val_accuracy: 0.2868 - val_loss: 9.3594\n",
      "Epoch 10/250\n",
      "\u001b[1m34/34\u001b[0m \u001b[32m━━━━━━━━━━━━━━━━━━━━\u001b[0m\u001b[37m\u001b[0m \u001b[1m69s\u001b[0m 2s/step - accuracy: 0.2869 - loss: 9.1897 - val_accuracy: 0.2868 - val_loss: 8.6866\n",
      "Epoch 11/250\n",
      "\u001b[1m34/34\u001b[0m \u001b[32m━━━━━━━━━━━━━━━━━━━━\u001b[0m\u001b[37m\u001b[0m \u001b[1m69s\u001b[0m 2s/step - accuracy: 0.2997 - loss: 8.5192 - val_accuracy: 0.3088 - val_loss: 8.0461\n",
      "Epoch 12/250\n",
      "\u001b[1m34/34\u001b[0m \u001b[32m━━━━━━━━━━━━━━━━━━━━\u001b[0m\u001b[37m\u001b[0m \u001b[1m68s\u001b[0m 2s/step - accuracy: 0.3837 - loss: 7.8573 - val_accuracy: 0.4743 - val_loss: 7.3218\n",
      "Epoch 13/250\n",
      "\u001b[1m34/34\u001b[0m \u001b[32m━━━━━━━━━━━━━━━━━━━━\u001b[0m\u001b[37m\u001b[0m \u001b[1m68s\u001b[0m 2s/step - accuracy: 0.4742 - loss: 7.1447 - val_accuracy: 0.4779 - val_loss: 6.6994\n",
      "Epoch 14/250\n",
      "\u001b[1m34/34\u001b[0m \u001b[32m━━━━━━━━━━━━━━━━━━━━\u001b[0m\u001b[37m\u001b[0m \u001b[1m66s\u001b[0m 2s/step - accuracy: 0.4658 - loss: 6.5876 - val_accuracy: 0.4853 - val_loss: 6.1546\n",
      "Epoch 15/250\n",
      "\u001b[1m34/34\u001b[0m \u001b[32m━━━━━━━━━━━━━━━━━━━━\u001b[0m\u001b[37m\u001b[0m \u001b[1m68s\u001b[0m 2s/step - accuracy: 0.5016 - loss: 6.0040 - val_accuracy: 0.4743 - val_loss: 5.7148\n",
      "Epoch 16/250\n",
      "\u001b[1m34/34\u001b[0m \u001b[32m━━━━━━━━━━━━━━━━━━━━\u001b[0m\u001b[37m\u001b[0m \u001b[1m69s\u001b[0m 2s/step - accuracy: 0.5148 - loss: 5.5613 - val_accuracy: 0.4963 - val_loss: 5.2690\n",
      "Epoch 17/250\n",
      "\u001b[1m34/34\u001b[0m \u001b[32m━━━━━━━━━━━━━━━━━━━━\u001b[0m\u001b[37m\u001b[0m \u001b[1m69s\u001b[0m 2s/step - accuracy: 0.5507 - loss: 5.1269 - val_accuracy: 0.5625 - val_loss: 4.8090\n",
      "Epoch 18/250\n",
      "\u001b[1m34/34\u001b[0m \u001b[32m━━━━━━━━━━━━━━━━━━━━\u001b[0m\u001b[37m\u001b[0m \u001b[1m68s\u001b[0m 2s/step - accuracy: 0.6434 - loss: 4.7047 - val_accuracy: 0.6801 - val_loss: 4.3557\n",
      "Epoch 19/250\n",
      "\u001b[1m34/34\u001b[0m \u001b[32m━━━━━━━━━━━━━━━━━━━━\u001b[0m\u001b[37m\u001b[0m \u001b[1m69s\u001b[0m 2s/step - accuracy: 0.6542 - loss: 4.3065 - val_accuracy: 0.7059 - val_loss: 3.9232\n",
      "Epoch 20/250\n",
      "\u001b[1m34/34\u001b[0m \u001b[32m━━━━━━━━━━━━━━━━━━━━\u001b[0m\u001b[37m\u001b[0m \u001b[1m69s\u001b[0m 2s/step - accuracy: 0.7552 - loss: 3.7988 - val_accuracy: 0.6324 - val_loss: 3.8446\n",
      "Epoch 21/250\n",
      "\u001b[1m34/34\u001b[0m \u001b[32m━━━━━━━━━━━━━━━━━━━━\u001b[0m\u001b[37m\u001b[0m \u001b[1m69s\u001b[0m 2s/step - accuracy: 0.7137 - loss: 3.5870 - val_accuracy: 0.6360 - val_loss: 3.5388\n",
      "Epoch 22/250\n",
      "\u001b[1m34/34\u001b[0m \u001b[32m━━━━━━━━━━━━━━━━━━━━\u001b[0m\u001b[37m\u001b[0m \u001b[1m68s\u001b[0m 2s/step - accuracy: 0.7622 - loss: 3.2257 - val_accuracy: 0.6985 - val_loss: 3.1928\n",
      "Epoch 23/250\n",
      "\u001b[1m34/34\u001b[0m \u001b[32m━━━━━━━━━━━━━━━━━━━━\u001b[0m\u001b[37m\u001b[0m \u001b[1m68s\u001b[0m 2s/step - accuracy: 0.8055 - loss: 2.9164 - val_accuracy: 0.6985 - val_loss: 2.9368\n",
      "Epoch 24/250\n",
      "\u001b[1m34/34\u001b[0m \u001b[32m━━━━━━━━━━━━━━━━━━━━\u001b[0m\u001b[37m\u001b[0m \u001b[1m62s\u001b[0m 2s/step - accuracy: 0.8256 - loss: 2.6546 - val_accuracy: 0.6985 - val_loss: 2.7870\n",
      "Epoch 25/250\n",
      "\u001b[1m34/34\u001b[0m \u001b[32m━━━━━━━━━━━━━━━━━━━━\u001b[0m\u001b[37m\u001b[0m \u001b[1m58s\u001b[0m 2s/step - accuracy: 0.8175 - loss: 2.4286 - val_accuracy: 0.6985 - val_loss: 2.6022\n",
      "Epoch 26/250\n",
      "\u001b[1m34/34\u001b[0m \u001b[32m━━━━━━━━━━━━━━━━━━━━\u001b[0m\u001b[37m\u001b[0m \u001b[1m60s\u001b[0m 2s/step - accuracy: 0.8277 - loss: 2.2143 - val_accuracy: 0.6875 - val_loss: 2.4575\n",
      "Epoch 27/250\n",
      "\u001b[1m34/34\u001b[0m \u001b[32m━━━━━━━━━━━━━━━━━━━━\u001b[0m\u001b[37m\u001b[0m \u001b[1m55s\u001b[0m 2s/step - accuracy: 0.8237 - loss: 2.0658 - val_accuracy: 0.6985 - val_loss: 2.2502\n",
      "Epoch 28/250\n",
      "\u001b[1m34/34\u001b[0m \u001b[32m━━━━━━━━━━━━━━━━━━━━\u001b[0m\u001b[37m\u001b[0m \u001b[1m53s\u001b[0m 2s/step - accuracy: 0.7957 - loss: 1.9165 - val_accuracy: 0.6985 - val_loss: 2.1130\n",
      "Epoch 29/250\n",
      "\u001b[1m34/34\u001b[0m \u001b[32m━━━━━━━━━━━━━━━━━━━━\u001b[0m\u001b[37m\u001b[0m \u001b[1m59s\u001b[0m 2s/step - accuracy: 0.8036 - loss: 1.7697 - val_accuracy: 0.6985 - val_loss: 2.0175\n",
      "Epoch 30/250\n",
      "\u001b[1m34/34\u001b[0m \u001b[32m━━━━━━━━━━━━━━━━━━━━\u001b[0m\u001b[37m\u001b[0m \u001b[1m60s\u001b[0m 2s/step - accuracy: 0.8136 - loss: 1.6153 - val_accuracy: 0.6985 - val_loss: 1.8893\n",
      "Epoch 31/250\n",
      "\u001b[1m34/34\u001b[0m \u001b[32m━━━━━━━━━━━━━━━━━━━━\u001b[0m\u001b[37m\u001b[0m \u001b[1m58s\u001b[0m 2s/step - accuracy: 0.7992 - loss: 1.5246 - val_accuracy: 0.7096 - val_loss: 1.7516\n",
      "Epoch 32/250\n",
      "\u001b[1m34/34\u001b[0m \u001b[32m━━━━━━━━━━━━━━━━━━━━\u001b[0m\u001b[37m\u001b[0m \u001b[1m57s\u001b[0m 2s/step - accuracy: 0.7947 - loss: 1.4326 - val_accuracy: 0.6985 - val_loss: 1.6702\n",
      "Epoch 33/250\n",
      "\u001b[1m34/34\u001b[0m \u001b[32m━━━━━━━━━━━━━━━━━━━━\u001b[0m\u001b[37m\u001b[0m \u001b[1m57s\u001b[0m 2s/step - accuracy: 0.8273 - loss: 1.2936 - val_accuracy: 0.6985 - val_loss: 1.6261\n",
      "Epoch 34/250\n",
      "\u001b[1m34/34\u001b[0m \u001b[32m━━━━━━━━━━━━━━━━━━━━\u001b[0m\u001b[37m\u001b[0m \u001b[1m56s\u001b[0m 2s/step - accuracy: 0.8210 - loss: 1.1974 - val_accuracy: 0.7096 - val_loss: 1.4873\n",
      "Epoch 35/250\n",
      "\u001b[1m34/34\u001b[0m \u001b[32m━━━━━━━━━━━━━━━━━━━━\u001b[0m\u001b[37m\u001b[0m \u001b[1m57s\u001b[0m 2s/step - accuracy: 0.8137 - loss: 1.1272 - val_accuracy: 0.6949 - val_loss: 1.4601\n",
      "Epoch 36/250\n",
      "\u001b[1m34/34\u001b[0m \u001b[32m━━━━━━━━━━━━━━━━━━━━\u001b[0m\u001b[37m\u001b[0m \u001b[1m57s\u001b[0m 2s/step - accuracy: 0.8285 - loss: 1.0422 - val_accuracy: 0.7096 - val_loss: 1.3575\n",
      "Epoch 37/250\n",
      "\u001b[1m34/34\u001b[0m \u001b[32m━━━━━━━━━━━━━━━━━━━━\u001b[0m\u001b[37m\u001b[0m \u001b[1m58s\u001b[0m 2s/step - accuracy: 0.8411 - loss: 0.9463 - val_accuracy: 0.7059 - val_loss: 1.3259\n",
      "Epoch 38/250\n",
      "\u001b[1m34/34\u001b[0m \u001b[32m━━━━━━━━━━━━━━━━━━━━\u001b[0m\u001b[37m\u001b[0m \u001b[1m55s\u001b[0m 2s/step - accuracy: 0.8268 - loss: 0.8952 - val_accuracy: 0.6949 - val_loss: 1.3187\n",
      "Epoch 39/250\n",
      "\u001b[1m34/34\u001b[0m \u001b[32m━━━━━━━━━━━━━━━━━━━━\u001b[0m\u001b[37m\u001b[0m \u001b[1m52s\u001b[0m 2s/step - accuracy: 0.8350 - loss: 0.8493 - val_accuracy: 0.7169 - val_loss: 1.1780\n",
      "Epoch 40/250\n",
      "\u001b[1m34/34\u001b[0m \u001b[32m━━━━━━━━━━━━━━━━━━━━\u001b[0m\u001b[37m\u001b[0m \u001b[1m52s\u001b[0m 2s/step - accuracy: 0.8049 - loss: 0.8059 - val_accuracy: 0.7169 - val_loss: 1.1246\n",
      "Epoch 41/250\n",
      "\u001b[1m34/34\u001b[0m \u001b[32m━━━━━━━━━━━━━━━━━━━━\u001b[0m\u001b[37m\u001b[0m \u001b[1m52s\u001b[0m 2s/step - accuracy: 0.8244 - loss: 0.7341 - val_accuracy: 0.7132 - val_loss: 1.0629\n",
      "Epoch 42/250\n",
      "\u001b[1m34/34\u001b[0m \u001b[32m━━━━━━━━━━━━━━━━━━━━\u001b[0m\u001b[37m\u001b[0m \u001b[1m52s\u001b[0m 2s/step - accuracy: 0.8430 - loss: 0.7109 - val_accuracy: 0.7059 - val_loss: 1.0800\n",
      "Epoch 43/250\n",
      "\u001b[1m34/34\u001b[0m \u001b[32m━━━━━━━━━━━━━━━━━━━━\u001b[0m\u001b[37m\u001b[0m \u001b[1m54s\u001b[0m 2s/step - accuracy: 0.8088 - loss: 0.6890 - val_accuracy: 0.6507 - val_loss: 1.1708\n",
      "Epoch 44/250\n",
      "\u001b[1m34/34\u001b[0m \u001b[32m━━━━━━━━━━━━━━━━━━━━\u001b[0m\u001b[37m\u001b[0m \u001b[1m52s\u001b[0m 2s/step - accuracy: 0.8234 - loss: 0.6791 - val_accuracy: 0.7206 - val_loss: 0.9656\n",
      "Epoch 45/250\n",
      "\u001b[1m34/34\u001b[0m \u001b[32m━━━━━━━━━━━━━━━━━━━━\u001b[0m\u001b[37m\u001b[0m \u001b[1m52s\u001b[0m 2s/step - accuracy: 0.8195 - loss: 0.6418 - val_accuracy: 0.7353 - val_loss: 0.9870\n",
      "Epoch 46/250\n",
      "\u001b[1m34/34\u001b[0m \u001b[32m━━━━━━━━━━━━━━━━━━━━\u001b[0m\u001b[37m\u001b[0m \u001b[1m52s\u001b[0m 2s/step - accuracy: 0.8290 - loss: 0.6034 - val_accuracy: 0.7132 - val_loss: 0.9761\n",
      "Epoch 47/250\n",
      "\u001b[1m34/34\u001b[0m \u001b[32m━━━━━━━━━━━━━━━━━━━━\u001b[0m\u001b[37m\u001b[0m \u001b[1m52s\u001b[0m 2s/step - accuracy: 0.8448 - loss: 0.5581 - val_accuracy: 0.6985 - val_loss: 0.9496\n",
      "Epoch 48/250\n",
      "\u001b[1m34/34\u001b[0m \u001b[32m━━━━━━━━━━━━━━━━━━━━\u001b[0m\u001b[37m\u001b[0m \u001b[1m53s\u001b[0m 2s/step - accuracy: 0.8256 - loss: 0.5498 - val_accuracy: 0.7169 - val_loss: 0.9721\n",
      "Epoch 49/250\n",
      "\u001b[1m34/34\u001b[0m \u001b[32m━━━━━━━━━━━━━━━━━━━━\u001b[0m\u001b[37m\u001b[0m \u001b[1m52s\u001b[0m 2s/step - accuracy: 0.8426 - loss: 0.5445 - val_accuracy: 0.7132 - val_loss: 0.8843\n",
      "Epoch 50/250\n",
      "\u001b[1m34/34\u001b[0m \u001b[32m━━━━━━━━━━━━━━━━━━━━\u001b[0m\u001b[37m\u001b[0m \u001b[1m52s\u001b[0m 2s/step - accuracy: 0.8264 - loss: 0.5450 - val_accuracy: 0.7096 - val_loss: 0.8827\n",
      "Epoch 51/250\n",
      "\u001b[1m34/34\u001b[0m \u001b[32m━━━━━━━━━━━━━━━━━━━━\u001b[0m\u001b[37m\u001b[0m \u001b[1m52s\u001b[0m 2s/step - accuracy: 0.8272 - loss: 0.5137 - val_accuracy: 0.6985 - val_loss: 0.8900\n",
      "Epoch 52/250\n",
      "\u001b[1m34/34\u001b[0m \u001b[32m━━━━━━━━━━━━━━━━━━━━\u001b[0m\u001b[37m\u001b[0m \u001b[1m52s\u001b[0m 2s/step - accuracy: 0.8383 - loss: 0.4628 - val_accuracy: 0.6949 - val_loss: 0.9215\n",
      "Epoch 53/250\n",
      "\u001b[1m34/34\u001b[0m \u001b[32m━━━━━━━━━━━━━━━━━━━━\u001b[0m\u001b[37m\u001b[0m \u001b[1m52s\u001b[0m 2s/step - accuracy: 0.8071 - loss: 0.4932 - val_accuracy: 0.6728 - val_loss: 0.9792\n",
      "Epoch 54/250\n",
      "\u001b[1m34/34\u001b[0m \u001b[32m━━━━━━━━━━━━━━━━━━━━\u001b[0m\u001b[37m\u001b[0m \u001b[1m52s\u001b[0m 2s/step - accuracy: 0.8225 - loss: 0.4974 - val_accuracy: 0.6801 - val_loss: 0.9373\n",
      "Epoch 54: early stopping\n",
      "Restoring model weights from the end of the best epoch: 49.\n"
     ]
    },
    {
     "data": {
      "text/html": [
       "<pre style=\"white-space:pre;overflow-x:auto;line-height:normal;font-family:Menlo,'DejaVu Sans Mono',consolas,'Courier New',monospace\"><span style=\"font-weight: bold\">Model: \"sequential_80\"</span>\n",
       "</pre>\n"
      ],
      "text/plain": [
       "\u001b[1mModel: \"sequential_80\"\u001b[0m\n"
      ]
     },
     "metadata": {},
     "output_type": "display_data"
    },
    {
     "data": {
      "text/html": [
       "<pre style=\"white-space:pre;overflow-x:auto;line-height:normal;font-family:Menlo,'DejaVu Sans Mono',consolas,'Courier New',monospace\">┏━━━━━━━━━━━━━━━━━━━━━━━━━━━━━━━━━┳━━━━━━━━━━━━━━━━━━━━━━━━┳━━━━━━━━━━━━━━━┓\n",
       "┃<span style=\"font-weight: bold\"> Layer (type)                    </span>┃<span style=\"font-weight: bold\"> Output Shape           </span>┃<span style=\"font-weight: bold\">       Param # </span>┃\n",
       "┡━━━━━━━━━━━━━━━━━━━━━━━━━━━━━━━━━╇━━━━━━━━━━━━━━━━━━━━━━━━╇━━━━━━━━━━━━━━━┩\n",
       "│ embedding_80 (<span style=\"color: #0087ff; text-decoration-color: #0087ff\">Embedding</span>)        │ (<span style=\"color: #00af00; text-decoration-color: #00af00\">32</span>, <span style=\"color: #00af00; text-decoration-color: #00af00\">413</span>, <span style=\"color: #00af00; text-decoration-color: #00af00\">128</span>)         │     <span style=\"color: #00af00; text-decoration-color: #00af00\">5,393,664</span> │\n",
       "├─────────────────────────────────┼────────────────────────┼───────────────┤\n",
       "│ lstm_45 (<span style=\"color: #0087ff; text-decoration-color: #0087ff\">LSTM</span>)                  │ (<span style=\"color: #00af00; text-decoration-color: #00af00\">32</span>, <span style=\"color: #00af00; text-decoration-color: #00af00\">413</span>, <span style=\"color: #00af00; text-decoration-color: #00af00\">128</span>)         │       <span style=\"color: #00af00; text-decoration-color: #00af00\">131,584</span> │\n",
       "├─────────────────────────────────┼────────────────────────┼───────────────┤\n",
       "│ dropout_128 (<span style=\"color: #0087ff; text-decoration-color: #0087ff\">Dropout</span>)           │ (<span style=\"color: #00af00; text-decoration-color: #00af00\">32</span>, <span style=\"color: #00af00; text-decoration-color: #00af00\">413</span>, <span style=\"color: #00af00; text-decoration-color: #00af00\">128</span>)         │             <span style=\"color: #00af00; text-decoration-color: #00af00\">0</span> │\n",
       "├─────────────────────────────────┼────────────────────────┼───────────────┤\n",
       "│ bidirectional_29                │ (<span style=\"color: #00af00; text-decoration-color: #00af00\">32</span>, <span style=\"color: #00af00; text-decoration-color: #00af00\">256</span>)              │       <span style=\"color: #00af00; text-decoration-color: #00af00\">263,168</span> │\n",
       "│ (<span style=\"color: #0087ff; text-decoration-color: #0087ff\">Bidirectional</span>)                 │                        │               │\n",
       "├─────────────────────────────────┼────────────────────────┼───────────────┤\n",
       "│ dropout_129 (<span style=\"color: #0087ff; text-decoration-color: #0087ff\">Dropout</span>)           │ (<span style=\"color: #00af00; text-decoration-color: #00af00\">32</span>, <span style=\"color: #00af00; text-decoration-color: #00af00\">256</span>)              │             <span style=\"color: #00af00; text-decoration-color: #00af00\">0</span> │\n",
       "├─────────────────────────────────┼────────────────────────┼───────────────┤\n",
       "│ dense_147 (<span style=\"color: #0087ff; text-decoration-color: #0087ff\">Dense</span>)               │ (<span style=\"color: #00af00; text-decoration-color: #00af00\">32</span>, <span style=\"color: #00af00; text-decoration-color: #00af00\">128</span>)              │        <span style=\"color: #00af00; text-decoration-color: #00af00\">32,896</span> │\n",
       "├─────────────────────────────────┼────────────────────────┼───────────────┤\n",
       "│ dropout_130 (<span style=\"color: #0087ff; text-decoration-color: #0087ff\">Dropout</span>)           │ (<span style=\"color: #00af00; text-decoration-color: #00af00\">32</span>, <span style=\"color: #00af00; text-decoration-color: #00af00\">128</span>)              │             <span style=\"color: #00af00; text-decoration-color: #00af00\">0</span> │\n",
       "├─────────────────────────────────┼────────────────────────┼───────────────┤\n",
       "│ dense_148 (<span style=\"color: #0087ff; text-decoration-color: #0087ff\">Dense</span>)               │ (<span style=\"color: #00af00; text-decoration-color: #00af00\">32</span>, <span style=\"color: #00af00; text-decoration-color: #00af00\">4</span>)                │           <span style=\"color: #00af00; text-decoration-color: #00af00\">516</span> │\n",
       "└─────────────────────────────────┴────────────────────────┴───────────────┘\n",
       "</pre>\n"
      ],
      "text/plain": [
       "┏━━━━━━━━━━━━━━━━━━━━━━━━━━━━━━━━━┳━━━━━━━━━━━━━━━━━━━━━━━━┳━━━━━━━━━━━━━━━┓\n",
       "┃\u001b[1m \u001b[0m\u001b[1mLayer (type)                   \u001b[0m\u001b[1m \u001b[0m┃\u001b[1m \u001b[0m\u001b[1mOutput Shape          \u001b[0m\u001b[1m \u001b[0m┃\u001b[1m \u001b[0m\u001b[1m      Param #\u001b[0m\u001b[1m \u001b[0m┃\n",
       "┡━━━━━━━━━━━━━━━━━━━━━━━━━━━━━━━━━╇━━━━━━━━━━━━━━━━━━━━━━━━╇━━━━━━━━━━━━━━━┩\n",
       "│ embedding_80 (\u001b[38;5;33mEmbedding\u001b[0m)        │ (\u001b[38;5;34m32\u001b[0m, \u001b[38;5;34m413\u001b[0m, \u001b[38;5;34m128\u001b[0m)         │     \u001b[38;5;34m5,393,664\u001b[0m │\n",
       "├─────────────────────────────────┼────────────────────────┼───────────────┤\n",
       "│ lstm_45 (\u001b[38;5;33mLSTM\u001b[0m)                  │ (\u001b[38;5;34m32\u001b[0m, \u001b[38;5;34m413\u001b[0m, \u001b[38;5;34m128\u001b[0m)         │       \u001b[38;5;34m131,584\u001b[0m │\n",
       "├─────────────────────────────────┼────────────────────────┼───────────────┤\n",
       "│ dropout_128 (\u001b[38;5;33mDropout\u001b[0m)           │ (\u001b[38;5;34m32\u001b[0m, \u001b[38;5;34m413\u001b[0m, \u001b[38;5;34m128\u001b[0m)         │             \u001b[38;5;34m0\u001b[0m │\n",
       "├─────────────────────────────────┼────────────────────────┼───────────────┤\n",
       "│ bidirectional_29                │ (\u001b[38;5;34m32\u001b[0m, \u001b[38;5;34m256\u001b[0m)              │       \u001b[38;5;34m263,168\u001b[0m │\n",
       "│ (\u001b[38;5;33mBidirectional\u001b[0m)                 │                        │               │\n",
       "├─────────────────────────────────┼────────────────────────┼───────────────┤\n",
       "│ dropout_129 (\u001b[38;5;33mDropout\u001b[0m)           │ (\u001b[38;5;34m32\u001b[0m, \u001b[38;5;34m256\u001b[0m)              │             \u001b[38;5;34m0\u001b[0m │\n",
       "├─────────────────────────────────┼────────────────────────┼───────────────┤\n",
       "│ dense_147 (\u001b[38;5;33mDense\u001b[0m)               │ (\u001b[38;5;34m32\u001b[0m, \u001b[38;5;34m128\u001b[0m)              │        \u001b[38;5;34m32,896\u001b[0m │\n",
       "├─────────────────────────────────┼────────────────────────┼───────────────┤\n",
       "│ dropout_130 (\u001b[38;5;33mDropout\u001b[0m)           │ (\u001b[38;5;34m32\u001b[0m, \u001b[38;5;34m128\u001b[0m)              │             \u001b[38;5;34m0\u001b[0m │\n",
       "├─────────────────────────────────┼────────────────────────┼───────────────┤\n",
       "│ dense_148 (\u001b[38;5;33mDense\u001b[0m)               │ (\u001b[38;5;34m32\u001b[0m, \u001b[38;5;34m4\u001b[0m)                │           \u001b[38;5;34m516\u001b[0m │\n",
       "└─────────────────────────────────┴────────────────────────┴───────────────┘\n"
      ]
     },
     "metadata": {},
     "output_type": "display_data"
    },
    {
     "data": {
      "text/html": [
       "<pre style=\"white-space:pre;overflow-x:auto;line-height:normal;font-family:Menlo,'DejaVu Sans Mono',consolas,'Courier New',monospace\"><span style=\"font-weight: bold\"> Total params: </span><span style=\"color: #00af00; text-decoration-color: #00af00\">17,465,485</span> (66.63 MB)\n",
       "</pre>\n"
      ],
      "text/plain": [
       "\u001b[1m Total params: \u001b[0m\u001b[38;5;34m17,465,485\u001b[0m (66.63 MB)\n"
      ]
     },
     "metadata": {},
     "output_type": "display_data"
    },
    {
     "data": {
      "text/html": [
       "<pre style=\"white-space:pre;overflow-x:auto;line-height:normal;font-family:Menlo,'DejaVu Sans Mono',consolas,'Courier New',monospace\"><span style=\"font-weight: bold\"> Trainable params: </span><span style=\"color: #00af00; text-decoration-color: #00af00\">5,821,828</span> (22.21 MB)\n",
       "</pre>\n"
      ],
      "text/plain": [
       "\u001b[1m Trainable params: \u001b[0m\u001b[38;5;34m5,821,828\u001b[0m (22.21 MB)\n"
      ]
     },
     "metadata": {},
     "output_type": "display_data"
    },
    {
     "data": {
      "text/html": [
       "<pre style=\"white-space:pre;overflow-x:auto;line-height:normal;font-family:Menlo,'DejaVu Sans Mono',consolas,'Courier New',monospace\"><span style=\"font-weight: bold\"> Non-trainable params: </span><span style=\"color: #00af00; text-decoration-color: #00af00\">0</span> (0.00 B)\n",
       "</pre>\n"
      ],
      "text/plain": [
       "\u001b[1m Non-trainable params: \u001b[0m\u001b[38;5;34m0\u001b[0m (0.00 B)\n"
      ]
     },
     "metadata": {},
     "output_type": "display_data"
    },
    {
     "data": {
      "text/html": [
       "<pre style=\"white-space:pre;overflow-x:auto;line-height:normal;font-family:Menlo,'DejaVu Sans Mono',consolas,'Courier New',monospace\"><span style=\"font-weight: bold\"> Optimizer params: </span><span style=\"color: #00af00; text-decoration-color: #00af00\">11,643,657</span> (44.42 MB)\n",
       "</pre>\n"
      ],
      "text/plain": [
       "\u001b[1m Optimizer params: \u001b[0m\u001b[38;5;34m11,643,657\u001b[0m (44.42 MB)\n"
      ]
     },
     "metadata": {},
     "output_type": "display_data"
    },
    {
     "data": {
      "image/png": "[encoded data removed]",
      "text/plain": [
       "<Figure size 1200x500 with 2 Axes>"
      ]
     },
     "metadata": {},
     "output_type": "display_data"
    }
   ],
   "source": [
    "# crear modelo de LSTM\n",
    "\n",
    "# Crear el modelo\n",
    "model_lstm = Sequential()\n",
    "model_lstm.add(Embedding(input_dim=len(tokenizer.word_index)+1, \n",
    "                    output_dim=embedding_dim, \n",
    "                    input_length=pad_sequences.shape[1]))\n",
    "model_lstm.add(LSTM(128, return_sequences=True))\n",
    "model_lstm.add(Dropout(0.4))\n",
    "model_lstm.add(Bidirectional(LSTM(128)))\n",
    "model_lstm.add(Dropout(0.4))\n",
    "# model_lstm.add(LSTM(128))\n",
    "# model_lstm.add(Dropout(0.4))\n",
    "model_lstm.add(Dense(128, activation='relu', kernel_regularizer=tf.keras.regularizers.l2(0.1)))\n",
    "model_lstm.add(Dropout(0.4))\n",
    "model_lstm.add(Dense(4, activation='softmax'))\n",
    "\n",
    "# configurar early stopping\n",
    "early_stopping = tf.keras.callbacks.EarlyStopping(monitor='val_loss', \n",
    "                                                  patience=5, \n",
    "                                                  restore_best_weights=True,\n",
    "                                                  verbose=1,\n",
    "                                                  min_delta=0.01)\n",
    "\n",
    "# Compilar el modelo\n",
    "\n",
    "# Decaimiento exponencial\n",
    "lr_schedule = tf.keras.optimizers.schedules.ExponentialDecay(\n",
    "    initial_learning_rate=0.0001,\n",
    "    decay_steps=10000,\n",
    "    decay_rate=0.9\n",
    ")\n",
    "\n",
    "optimizer = tf.keras.optimizers.Adam(learning_rate=lr_schedule)\n",
    "loss = tf.keras.losses.SparseCategoricalCrossentropy(from_logits=False)\n",
    "\n",
    "# Compilar el modelo\n",
    "model_lstm.compile(optimizer=optimizer, \n",
    "              loss=loss, \n",
    "              metrics=['accuracy'])\n",
    "\n",
    "# Entrenar el modelo\n",
    "history_lstm = model_lstm.fit(X_train, y_train, \n",
    "                    epochs=250, \n",
    "                    batch_size=32, \n",
    "                    validation_data=(X_val, y_val),\n",
    "                    callbacks=[early_stopping])\n",
    "\n",
    "# Resumen del modelo\n",
    "model_lstm.summary()\n",
    "\n",
    "# Visualizar la pérdida y la precisión del modelo\n",
    "plt.figure(figsize=(12, 5))\n",
    "\n",
    "plt.subplot(1, 2, 1)\n",
    "plt.plot(history_lstm.history['loss'], label='Loss')\n",
    "plt.plot(history_lstm.history['val_loss'], label='Val Loss')\n",
    "plt.title('Loss')\n",
    "plt.legend()\n",
    "\n",
    "plt.subplot(1, 2, 2)\n",
    "plt.plot(history_lstm.history['accuracy'], label='Accuracy')\n",
    "plt.plot(history_lstm.history['val_accuracy'], label='Val Accuracy')\n",
    "plt.title('Accuracy')\n",
    "plt.legend()\n",
    "\n",
    "plt.show()"
   ]
  },
  {
   "cell_type": "code",
   "execution_count": 122,
   "metadata": {},
   "outputs": [
    {
     "name": "stdout",
     "output_type": "stream",
     "text": [
      "Best epoch: 45\n",
      "Best val_acc: 0.7352941036224365\n",
      "Best val_loss: 0.882672905921936\n"
     ]
    }
   ],
   "source": [
    "# obtener los mejores parámetros del entrenamiento\n",
    "\n",
    "best_epoch = np.argmax(history_lstm.history['val_accuracy']) + 1\n",
    "best_val_acc = np.max(history_lstm.history['val_accuracy'])\n",
    "best_val_loss = np.min(history_lstm.history['val_loss'])\n",
    "\n",
    "print(f'Best epoch: {best_epoch}')\n",
    "print(f'Best val_acc: {best_val_acc}')\n",
    "print(f'Best val_loss: {best_val_loss}')"
   ]
  },
  {
   "cell_type": "code",
   "execution_count": 123,
   "metadata": {},
   "outputs": [
    {
     "name": "stdout",
     "output_type": "stream",
     "text": [
      "Best hyperparameters: {'name': 'sequential_80', 'trainable': True, 'dtype': {'module': 'keras', 'class_name': 'DTypePolicy', 'config': {'name': 'float32'}, 'registered_name': None}, 'layers': [{'module': 'keras.layers', 'class_name': 'InputLayer', 'config': {'batch_shape': (32, 413), 'dtype': 'float32', 'sparse': False, 'name': 'input_layer_78'}, 'registered_name': None}, {'module': 'keras.layers', 'class_name': 'Embedding', 'config': {'name': 'embedding_80', 'trainable': True, 'dtype': {'module': 'keras', 'class_name': 'DTypePolicy', 'config': {'name': 'float32'}, 'registered_name': None}, 'input_dim': 42138, 'output_dim': 128, 'embeddings_initializer': {'module': 'keras.initializers', 'class_name': 'RandomUniform', 'config': {'seed': None, 'minval': -0.05, 'maxval': 0.05}, 'registered_name': None}, 'embeddings_regularizer': None, 'activity_regularizer': None, 'embeddings_constraint': None, 'mask_zero': False}, 'registered_name': None, 'build_config': {'input_shape': (32, 413)}}, {'module': 'keras.layers', 'class_name': 'LSTM', 'config': {'name': 'lstm_45', 'trainable': True, 'dtype': {'module': 'keras', 'class_name': 'DTypePolicy', 'config': {'name': 'float32'}, 'registered_name': None}, 'return_sequences': True, 'return_state': False, 'go_backwards': False, 'stateful': False, 'unroll': False, 'zero_output_for_mask': False, 'units': 128, 'activation': 'tanh', 'recurrent_activation': 'sigmoid', 'use_bias': True, 'kernel_initializer': {'module': 'keras.initializers', 'class_name': 'GlorotUniform', 'config': {'seed': None}, 'registered_name': None}, 'recurrent_initializer': {'module': 'keras.initializers', 'class_name': 'Orthogonal', 'config': {'seed': None, 'gain': 1.0}, 'registered_name': None}, 'bias_initializer': {'module': 'keras.initializers', 'class_name': 'Zeros', 'config': {}, 'registered_name': None}, 'unit_forget_bias': True, 'kernel_regularizer': None, 'recurrent_regularizer': None, 'bias_regularizer': None, 'activity_regularizer': None, 'kernel_constraint': None, 'recurrent_constraint': None, 'bias_constraint': None, 'dropout': 0.0, 'recurrent_dropout': 0.0, 'seed': None}, 'registered_name': None, 'build_config': {'input_shape': (32, 413, 128)}}, {'module': 'keras.layers', 'class_name': 'Dropout', 'config': {'name': 'dropout_128', 'trainable': True, 'dtype': {'module': 'keras', 'class_name': 'DTypePolicy', 'config': {'name': 'float32'}, 'registered_name': None}, 'rate': 0.4, 'seed': None, 'noise_shape': None}, 'registered_name': None}, {'module': 'keras.layers', 'class_name': 'Bidirectional', 'config': {'name': 'bidirectional_29', 'trainable': True, 'dtype': {'module': 'keras', 'class_name': 'DTypePolicy', 'config': {'name': 'float32'}, 'registered_name': None}, 'merge_mode': 'concat', 'layer': {'module': 'keras.layers', 'class_name': 'LSTM', 'config': {'name': 'forward_lstm_46', 'trainable': True, 'dtype': {'module': 'keras', 'class_name': 'DTypePolicy', 'config': {'name': 'float32'}, 'registered_name': None}, 'return_sequences': False, 'return_state': False, 'go_backwards': False, 'stateful': False, 'unroll': False, 'zero_output_for_mask': False, 'units': 128, 'activation': 'tanh', 'recurrent_activation': 'sigmoid', 'use_bias': True, 'kernel_initializer': {'module': 'keras.initializers', 'class_name': 'GlorotUniform', 'config': {'seed': None}, 'registered_name': None}, 'recurrent_initializer': {'module': 'keras.initializers', 'class_name': 'Orthogonal', 'config': {'seed': None, 'gain': 1.0}, 'registered_name': None}, 'bias_initializer': {'module': 'keras.initializers', 'class_name': 'Zeros', 'config': {}, 'registered_name': None}, 'unit_forget_bias': True, 'kernel_regularizer': None, 'recurrent_regularizer': None, 'bias_regularizer': None, 'activity_regularizer': None, 'kernel_constraint': None, 'recurrent_constraint': None, 'bias_constraint': None, 'dropout': 0.0, 'recurrent_dropout': 0.0, 'seed': None}, 'registered_name': None, 'build_config': {'input_shape': (32, 413, 128)}}, 'backward_layer': {'module': 'keras.layers', 'class_name': 'LSTM', 'config': {'name': 'backward_lstm_46', 'trainable': True, 'dtype': {'module': 'keras', 'class_name': 'DTypePolicy', 'config': {'name': 'float32'}, 'registered_name': None}, 'return_sequences': False, 'return_state': False, 'go_backwards': True, 'stateful': False, 'unroll': False, 'zero_output_for_mask': False, 'units': 128, 'activation': 'tanh', 'recurrent_activation': 'sigmoid', 'use_bias': True, 'kernel_initializer': {'module': 'keras.initializers', 'class_name': 'GlorotUniform', 'config': {'seed': None}, 'registered_name': None}, 'recurrent_initializer': {'module': 'keras.initializers', 'class_name': 'Orthogonal', 'config': {'seed': None, 'gain': 1.0}, 'registered_name': None}, 'bias_initializer': {'module': 'keras.initializers', 'class_name': 'Zeros', 'config': {}, 'registered_name': None}, 'unit_forget_bias': True, 'kernel_regularizer': None, 'recurrent_regularizer': None, 'bias_regularizer': None, 'activity_regularizer': None, 'kernel_constraint': None, 'recurrent_constraint': None, 'bias_constraint': None, 'dropout': 0.0, 'recurrent_dropout': 0.0, 'seed': None}, 'registered_name': None, 'build_config': {'input_shape': (32, 413, 128)}}}, 'registered_name': None, 'build_config': {'input_shape': (32, 413, 128)}}, {'module': 'keras.layers', 'class_name': 'Dropout', 'config': {'name': 'dropout_129', 'trainable': True, 'dtype': {'module': 'keras', 'class_name': 'DTypePolicy', 'config': {'name': 'float32'}, 'registered_name': None}, 'rate': 0.4, 'seed': None, 'noise_shape': None}, 'registered_name': None}, {'module': 'keras.layers', 'class_name': 'Dense', 'config': {'name': 'dense_147', 'trainable': True, 'dtype': {'module': 'keras', 'class_name': 'DTypePolicy', 'config': {'name': 'float32'}, 'registered_name': None}, 'units': 128, 'activation': 'relu', 'use_bias': True, 'kernel_initializer': {'module': 'keras.initializers', 'class_name': 'GlorotUniform', 'config': {'seed': None}, 'registered_name': None}, 'bias_initializer': {'module': 'keras.initializers', 'class_name': 'Zeros', 'config': {}, 'registered_name': None}, 'kernel_regularizer': {'module': 'keras.regularizers', 'class_name': 'L2', 'config': {'l2': 0.1}, 'registered_name': None}, 'bias_regularizer': None, 'kernel_constraint': None, 'bias_constraint': None}, 'registered_name': None, 'build_config': {'input_shape': (32, 256)}}, {'module': 'keras.layers', 'class_name': 'Dropout', 'config': {'name': 'dropout_130', 'trainable': True, 'dtype': {'module': 'keras', 'class_name': 'DTypePolicy', 'config': {'name': 'float32'}, 'registered_name': None}, 'rate': 0.4, 'seed': None, 'noise_shape': None}, 'registered_name': None}, {'module': 'keras.layers', 'class_name': 'Dense', 'config': {'name': 'dense_148', 'trainable': True, 'dtype': {'module': 'keras', 'class_name': 'DTypePolicy', 'config': {'name': 'float32'}, 'registered_name': None}, 'units': 4, 'activation': 'softmax', 'use_bias': True, 'kernel_initializer': {'module': 'keras.initializers', 'class_name': 'GlorotUniform', 'config': {'seed': None}, 'registered_name': None}, 'bias_initializer': {'module': 'keras.initializers', 'class_name': 'Zeros', 'config': {}, 'registered_name': None}, 'kernel_regularizer': None, 'bias_regularizer': None, 'kernel_constraint': None, 'bias_constraint': None}, 'registered_name': None, 'build_config': {'input_shape': (32, 128)}}], 'build_input_shape': (32, 413)}\n"
     ]
    }
   ],
   "source": [
    "# obtener los mejore hipérparametros\n",
    "\n",
    "best_params = model_lstm.get_config()\n",
    "print(f'Best hyperparameters: {best_params}')"
   ]
  },
  {
   "cell_type": "code",
   "execution_count": null,
   "metadata": {},
   "outputs": [],
   "source": [
    "# guardar el modelo\n",
    "\n",
    "# model_lstm.save('./models/lstm_model.keras')"
   ]
  },
  {
   "cell_type": "code",
   "execution_count": 125,
   "metadata": {},
   "outputs": [
    {
     "name": "stdout",
     "output_type": "stream",
     "text": [
      "\u001b[1m1/1\u001b[0m \u001b[32m━━━━━━━━━━━━━━━━━━━━\u001b[0m\u001b[37m\u001b[0m \u001b[1m1s\u001b[0m 908ms/step\n",
      "                                             Noticia Categoría\n",
      "0  el dolar, la economía y la inflación afectan l...  deportes\n"
     ]
    }
   ],
   "source": [
    "# predecir noticias nuevas\n",
    "\n",
    "noticias_nuevas = ['el dolar, la economía y la inflación afectan los bolsillos de los ciudadanos, mientras que el gobierno busca soluciones',]\n",
    "\n",
    "# limpiar y tokenizar las noticias\n",
    "\n",
    "noticias_nuevas_limpio = [clean_text(noticia) for noticia in noticias_nuevas]\n",
    "noticias_nuevas_limpio = [remove_stopwords(noticia) for noticia in noticias_nuevas_limpio]\n",
    "noticias_nuevas_tokens = [word_tokenize(noticia) for noticia in noticias_nuevas_limpio]\n",
    "\n",
    "# convertir las noticias a secuencias\n",
    "noticias_nuevas_sequences = tokenizer.texts_to_sequences(noticias_nuevas_limpio)\n",
    "noticias_nuevas_pad_sequences = tf.keras.preprocessing.sequence.pad_sequences(noticias_nuevas_sequences, maxlen=max_len)\n",
    "\n",
    "# predecir\n",
    "y_pred_nuevas = model_lstm.predict(noticias_nuevas_pad_sequences)\n",
    "y_pred_labels_nuevas = np.argmax(y_pred_nuevas, axis=1)\n",
    "\n",
    "# convertir las etiquetas a categorías\n",
    "categorias = label_encoder.inverse_transform(y_pred_labels_nuevas)\n",
    "\n",
    "# mostrar resultados\n",
    "resultados = pd.DataFrame({'Noticia': noticias_nuevas, 'Categoría': categorias})\n",
    "print(resultados)\n",
    "\n"
   ]
  },
  {
   "cell_type": "code",
   "execution_count": 126,
   "metadata": {},
   "outputs": [
    {
     "name": "stdout",
     "output_type": "stream",
     "text": [
      "Test Loss: 0.8843\n",
      "Test Accuracy: 0.7132\n"
     ]
    }
   ],
   "source": [
    "# Validemos el modelo con la base de testeo\n",
    "\n",
    "loss, accuracy = model_lstm.evaluate(X_val, y_val, verbose=0)\n",
    "print(f\"Test Loss: {loss:.4f}\")\n",
    "print(f\"Test Accuracy: {accuracy:.4f}\")"
   ]
  },
  {
   "cell_type": "code",
   "execution_count": 128,
   "metadata": {},
   "outputs": [
    {
     "data": {
      "image/png": "[encoded data removed]",
      "text/plain": [
       "<Figure size 1200x500 with 2 Axes>"
      ]
     },
     "metadata": {},
     "output_type": "display_data"
    }
   ],
   "source": [
    "# grafico comparativo de los resultados de los modelos RNN y LSTM\n",
    "\n",
    "plt.figure(figsize=(12, 5))\n",
    "\n",
    "plt.subplot(1, 2, 1)\n",
    "plt.plot(history.history['accuracy'], label='RNN')\n",
    "plt.plot(history_lstm.history['accuracy'], label='LSTM')\n",
    "plt.title('Accuracy')\n",
    "plt.legend()\n",
    "\n",
    "plt.subplot(1, 2, 2)\n",
    "plt.plot(history.history['val_accuracy'], label='RNN')\n",
    "plt.plot(history_lstm.history['val_accuracy'], label='LSTM')\n",
    "plt.title('Val Accuracy')\n",
    "plt.legend()\n",
    "\n",
    "plt.show()"
   ]
  }
 ],
 "metadata": {
  "kernelspec": {
   "display_name": "nlp_env",
   "language": "python",
   "name": "python3"
  },
  "language_info": {
   "codemirror_mode": {
    "name": "ipython",
    "version": 3
   },
   "file_extension": ".py",
   "mimetype": "text/x-python",
   "name": "python",
   "nbconvert_exporter": "python",
   "pygments_lexer": "ipython3",
   "version": "3.10.0"
  }
 },
 "nbformat": 4,
 "nbformat_minor": 2
}
