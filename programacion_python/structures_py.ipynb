{
 "cells": [
  {
   "cell_type": "markdown",
   "metadata": {},
   "source": [
    "### Uso de loops y métodos de Pandas para limpieza de datos"
   ]
  },
  {
   "cell_type": "markdown",
   "metadata": {},
   "source": [
    "Usaremos los loops para iterar las veces que se requiera sobre listas o series de datos (columnas) con el fin de automatizar un proceso repetitivo.\n",
    "Los métodos de reemplazo, recorte, división, mayúsculas, minúsculas, entre otras, que encontramos en `Pandas`, ayudan a realizar limpieza masiva sobre los elementos no deseados dentro del set de datos que estemos trabajando. "
   ]
  },
  {
   "cell_type": "code",
   "execution_count": 10,
   "metadata": {},
   "outputs": [],
   "source": [
    "# importar las librerias necesarias\n",
    "\n",
    "import pandas as pd"
   ]
  },
  {
   "cell_type": "code",
   "execution_count": 11,
   "metadata": {},
   "outputs": [],
   "source": [
    "# leer el archivo de datos y almacenarlo en un dataframe\n",
    "\n",
    "df = pd.read_csv('./data_raw/diez_mil_emp.csv')"
   ]
  },
  {
   "cell_type": "code",
   "execution_count": 12,
   "metadata": {},
   "outputs": [
    {
     "data": {
      "text/html": [
       "<div>\n",
       "<style scoped>\n",
       "    .dataframe tbody tr th:only-of-type {\n",
       "        vertical-align: middle;\n",
       "    }\n",
       "\n",
       "    .dataframe tbody tr th {\n",
       "        vertical-align: top;\n",
       "    }\n",
       "\n",
       "    .dataframe thead th {\n",
       "        text-align: right;\n",
       "    }\n",
       "</style>\n",
       "<table border=\"1\" class=\"dataframe\">\n",
       "  <thead>\n",
       "    <tr style=\"text-align: right;\">\n",
       "      <th></th>\n",
       "      <th>NIT</th>\n",
       "      <th>RAZÓN SOCIAL</th>\n",
       "      <th>SUPERVISOR</th>\n",
       "      <th>REGIÓN</th>\n",
       "      <th>DEPARTAMENTO DOMICILIO</th>\n",
       "      <th>CIUDAD DOMICILIO</th>\n",
       "      <th>CIIU</th>\n",
       "      <th>MACROSECTOR</th>\n",
       "      <th>INGRESOS OPERACIONALES</th>\n",
       "      <th>GANANCIA (PÉRDIDA)</th>\n",
       "      <th>TOTAL ACTIVOS</th>\n",
       "      <th>TOTAL PASIVOS</th>\n",
       "      <th>TOTAL PATRIMONIO</th>\n",
       "      <th>Año de Corte</th>\n",
       "    </tr>\n",
       "  </thead>\n",
       "  <tbody>\n",
       "    <tr>\n",
       "      <th>0</th>\n",
       "      <td>899999068</td>\n",
       "      <td>ECOPETROL S.A</td>\n",
       "      <td>SUPERFINANCIERA</td>\n",
       "      <td>Bogotá - Cundinamarca</td>\n",
       "      <td>BOGOTA D.C.</td>\n",
       "      <td>BOGOTA D.C.-BOGOTA D.C.</td>\n",
       "      <td>610</td>\n",
       "      <td>MINERO</td>\n",
       "      <td>$144.82</td>\n",
       "      <td>$33.41</td>\n",
       "      <td>$216.85</td>\n",
       "      <td>$125.81</td>\n",
       "      <td>$91.03</td>\n",
       "      <td>2022</td>\n",
       "    </tr>\n",
       "    <tr>\n",
       "      <th>1</th>\n",
       "      <td>900112515</td>\n",
       "      <td>REFINERIA DE CARTAGENA S.A.S</td>\n",
       "      <td>SUPERSOCIEDADES</td>\n",
       "      <td>Costa Atlántica</td>\n",
       "      <td>BOLIVAR</td>\n",
       "      <td>CARTAGENA-BOLIVAR</td>\n",
       "      <td>1921</td>\n",
       "      <td>MANUFACTURA</td>\n",
       "      <td>$27.86</td>\n",
       "      <td>$2.19</td>\n",
       "      <td>$42.84</td>\n",
       "      <td>$16.48</td>\n",
       "      <td>$26.36</td>\n",
       "      <td>2022</td>\n",
       "    </tr>\n",
       "    <tr>\n",
       "      <th>2</th>\n",
       "      <td>830095213</td>\n",
       "      <td>ORGANIZACIÓN TERPEL S.A.</td>\n",
       "      <td>SUPERFINANCIERA</td>\n",
       "      <td>Bogotá - Cundinamarca</td>\n",
       "      <td>BOGOTA D.C.</td>\n",
       "      <td>BOGOTA D.C.-BOGOTA D.C.</td>\n",
       "      <td>4661</td>\n",
       "      <td>COMERCIO</td>\n",
       "      <td>$23.60</td>\n",
       "      <td>$0.33</td>\n",
       "      <td>$7.48</td>\n",
       "      <td>$4.47</td>\n",
       "      <td>$3.01</td>\n",
       "      <td>2022</td>\n",
       "    </tr>\n",
       "    <tr>\n",
       "      <th>3</th>\n",
       "      <td>860069804</td>\n",
       "      <td>CARBONES DEL CERREJON LIMITED</td>\n",
       "      <td>SUPERSOCIEDADES</td>\n",
       "      <td>Bogotá - Cundinamarca</td>\n",
       "      <td>BOGOTA D.C.</td>\n",
       "      <td>BOGOTA D.C.-BOGOTA D.C.</td>\n",
       "      <td>510</td>\n",
       "      <td>MINERO</td>\n",
       "      <td>$16.39</td>\n",
       "      <td>$6.05</td>\n",
       "      <td>$10.45</td>\n",
       "      <td>$9.00</td>\n",
       "      <td>$1.45</td>\n",
       "      <td>2022</td>\n",
       "    </tr>\n",
       "    <tr>\n",
       "      <th>4</th>\n",
       "      <td>800021308</td>\n",
       "      <td>DRUMMOND LTD</td>\n",
       "      <td>SUPERSOCIEDADES</td>\n",
       "      <td>Bogotá - Cundinamarca</td>\n",
       "      <td>BOGOTA D.C.</td>\n",
       "      <td>BOGOTA D.C.-BOGOTA D.C.</td>\n",
       "      <td>510</td>\n",
       "      <td>MINERO</td>\n",
       "      <td>$15.27</td>\n",
       "      <td>$2.16</td>\n",
       "      <td>$14.27</td>\n",
       "      <td>$6.34</td>\n",
       "      <td>$7.93</td>\n",
       "      <td>2022</td>\n",
       "    </tr>\n",
       "  </tbody>\n",
       "</table>\n",
       "</div>"
      ],
      "text/plain": [
       "         NIT                   RAZÓN SOCIAL       SUPERVISOR  \\\n",
       "0  899999068                  ECOPETROL S.A  SUPERFINANCIERA   \n",
       "1  900112515   REFINERIA DE CARTAGENA S.A.S  SUPERSOCIEDADES   \n",
       "2  830095213       ORGANIZACIÓN TERPEL S.A.  SUPERFINANCIERA   \n",
       "3  860069804  CARBONES DEL CERREJON LIMITED  SUPERSOCIEDADES   \n",
       "4  800021308                   DRUMMOND LTD  SUPERSOCIEDADES   \n",
       "\n",
       "                  REGIÓN DEPARTAMENTO DOMICILIO         CIUDAD DOMICILIO  \\\n",
       "0  Bogotá - Cundinamarca            BOGOTA D.C.  BOGOTA D.C.-BOGOTA D.C.   \n",
       "1        Costa Atlántica                BOLIVAR        CARTAGENA-BOLIVAR   \n",
       "2  Bogotá - Cundinamarca            BOGOTA D.C.  BOGOTA D.C.-BOGOTA D.C.   \n",
       "3  Bogotá - Cundinamarca            BOGOTA D.C.  BOGOTA D.C.-BOGOTA D.C.   \n",
       "4  Bogotá - Cundinamarca            BOGOTA D.C.  BOGOTA D.C.-BOGOTA D.C.   \n",
       "\n",
       "   CIIU  MACROSECTOR INGRESOS OPERACIONALES GANANCIA (PÉRDIDA) TOTAL ACTIVOS  \\\n",
       "0   610       MINERO                $144.82             $33.41       $216.85   \n",
       "1  1921  MANUFACTURA                 $27.86              $2.19        $42.84   \n",
       "2  4661     COMERCIO                 $23.60              $0.33         $7.48   \n",
       "3   510       MINERO                 $16.39              $6.05        $10.45   \n",
       "4   510       MINERO                 $15.27              $2.16        $14.27   \n",
       "\n",
       "  TOTAL PASIVOS TOTAL PATRIMONIO  Año de Corte  \n",
       "0       $125.81           $91.03          2022  \n",
       "1        $16.48           $26.36          2022  \n",
       "2         $4.47            $3.01          2022  \n",
       "3         $9.00            $1.45          2022  \n",
       "4         $6.34            $7.93          2022  "
      ]
     },
     "execution_count": 12,
     "metadata": {},
     "output_type": "execute_result"
    }
   ],
   "source": [
    "# mostrar las primeras 5 filas del dataframe\n",
    "\n",
    "df.head()"
   ]
  },
  {
   "cell_type": "code",
   "execution_count": 13,
   "metadata": {},
   "outputs": [
    {
     "name": "stdout",
     "output_type": "stream",
     "text": [
      "<class 'pandas.core.frame.DataFrame'>\n",
      "RangeIndex: 20000 entries, 0 to 19999\n",
      "Data columns (total 14 columns):\n",
      " #   Column                  Non-Null Count  Dtype \n",
      "---  ------                  --------------  ----- \n",
      " 0   NIT                     20000 non-null  int64 \n",
      " 1   RAZÓN SOCIAL            19998 non-null  object\n",
      " 2   SUPERVISOR              20000 non-null  object\n",
      " 3   REGIÓN                  20000 non-null  object\n",
      " 4   DEPARTAMENTO DOMICILIO  20000 non-null  object\n",
      " 5   CIUDAD DOMICILIO        20000 non-null  object\n",
      " 6   CIIU                    20000 non-null  int64 \n",
      " 7   MACROSECTOR             20000 non-null  object\n",
      " 8   INGRESOS OPERACIONALES  20000 non-null  object\n",
      " 9   GANANCIA (PÉRDIDA)      20000 non-null  object\n",
      " 10  TOTAL ACTIVOS           20000 non-null  object\n",
      " 11  TOTAL PASIVOS           20000 non-null  object\n",
      " 12  TOTAL PATRIMONIO        20000 non-null  object\n",
      " 13  Año de Corte            20000 non-null  int64 \n",
      "dtypes: int64(3), object(11)\n",
      "memory usage: 2.1+ MB\n"
     ]
    }
   ],
   "source": [
    "# explorar los datos en tamaño del dataframe y tipos de datos\n",
    "\n",
    "df.info()"
   ]
  },
  {
   "cell_type": "markdown",
   "metadata": {},
   "source": [
    "### Análisis inicial\n",
    "\n",
    "* Encontramos tíldes y espacios en los nombres de las columnas\n",
    "* Encontramos dos valores null en la columna `RAZÓN SOCIAL`\n",
    "* Encontramos dos variables `int64` con las que no se realizaría cálculos numéricos y 5 variables `object` con las que se podrían hacer cálculos numéricos\n",
    "* Encontramos en las 5 variables con las que se pueden hacer cálculos numéricos un caractér especial ($), el cual debe ser limpiado de las columnas para que sea leido como tipo `float`"
   ]
  },
  {
   "cell_type": "code",
   "execution_count": 14,
   "metadata": {},
   "outputs": [],
   "source": [
    "# cambiar los nombres de las columnas\n",
    "\n",
    "nombres_columnas = df.columns.str.lower().str.replace(' ', '_').str.replace('(', '').str.replace(')', '').str.replace('ó', 'o').str.replace('é', 'e').str.replace('ñ', 'ni')"
   ]
  },
  {
   "cell_type": "code",
   "execution_count": 15,
   "metadata": {},
   "outputs": [
    {
     "data": {
      "text/plain": [
       "Index(['nit', 'razon_social', 'supervisor', 'region', 'departamento_domicilio',\n",
       "       'ciudad_domicilio', 'ciiu', 'macrosector', 'ingresos_operacionales',\n",
       "       'ganancia_perdida', 'total_activos', 'total_pasivos',\n",
       "       'total_patrimonio', 'anio_de_corte'],\n",
       "      dtype='object')"
      ]
     },
     "execution_count": 15,
     "metadata": {},
     "output_type": "execute_result"
    }
   ],
   "source": [
    "nombres_columnas"
   ]
  },
  {
   "cell_type": "code",
   "execution_count": 16,
   "metadata": {},
   "outputs": [],
   "source": [
    "# renombrar las columnas\n",
    "df.rename(columns=dict(zip(df.columns, nombres_columnas)), inplace=True)"
   ]
  },
  {
   "cell_type": "code",
   "execution_count": 17,
   "metadata": {},
   "outputs": [
    {
     "name": "stdout",
     "output_type": "stream",
     "text": [
      "<class 'pandas.core.frame.DataFrame'>\n",
      "RangeIndex: 20000 entries, 0 to 19999\n",
      "Data columns (total 14 columns):\n",
      " #   Column                  Non-Null Count  Dtype \n",
      "---  ------                  --------------  ----- \n",
      " 0   nit                     20000 non-null  int64 \n",
      " 1   razon_social            19998 non-null  object\n",
      " 2   supervisor              20000 non-null  object\n",
      " 3   region                  20000 non-null  object\n",
      " 4   departamento_domicilio  20000 non-null  object\n",
      " 5   ciudad_domicilio        20000 non-null  object\n",
      " 6   ciiu                    20000 non-null  int64 \n",
      " 7   macrosector             20000 non-null  object\n",
      " 8   ingresos_operacionales  20000 non-null  object\n",
      " 9   ganancia_perdida        20000 non-null  object\n",
      " 10  total_activos           20000 non-null  object\n",
      " 11  total_pasivos           20000 non-null  object\n",
      " 12  total_patrimonio        20000 non-null  object\n",
      " 13  anio_de_corte           20000 non-null  int64 \n",
      "dtypes: int64(3), object(11)\n",
      "memory usage: 2.1+ MB\n"
     ]
    }
   ],
   "source": [
    "df.info()"
   ]
  },
  {
   "cell_type": "code",
   "execution_count": 18,
   "metadata": {},
   "outputs": [],
   "source": [
    "# eliminar los valores nulos\n",
    "\n",
    "df.dropna(inplace=True)"
   ]
  },
  {
   "cell_type": "code",
   "execution_count": 19,
   "metadata": {},
   "outputs": [
    {
     "name": "stdout",
     "output_type": "stream",
     "text": [
      "<class 'pandas.core.frame.DataFrame'>\n",
      "Index: 19998 entries, 0 to 19999\n",
      "Data columns (total 14 columns):\n",
      " #   Column                  Non-Null Count  Dtype \n",
      "---  ------                  --------------  ----- \n",
      " 0   nit                     19998 non-null  int64 \n",
      " 1   razon_social            19998 non-null  object\n",
      " 2   supervisor              19998 non-null  object\n",
      " 3   region                  19998 non-null  object\n",
      " 4   departamento_domicilio  19998 non-null  object\n",
      " 5   ciudad_domicilio        19998 non-null  object\n",
      " 6   ciiu                    19998 non-null  int64 \n",
      " 7   macrosector             19998 non-null  object\n",
      " 8   ingresos_operacionales  19998 non-null  object\n",
      " 9   ganancia_perdida        19998 non-null  object\n",
      " 10  total_activos           19998 non-null  object\n",
      " 11  total_pasivos           19998 non-null  object\n",
      " 12  total_patrimonio        19998 non-null  object\n",
      " 13  anio_de_corte           19998 non-null  int64 \n",
      "dtypes: int64(3), object(11)\n",
      "memory usage: 2.3+ MB\n"
     ]
    }
   ],
   "source": [
    "df.info()"
   ]
  },
  {
   "cell_type": "code",
   "execution_count": 20,
   "metadata": {},
   "outputs": [],
   "source": [
    "# reemplazar el simbolo $ por un espacio vacío en las columnas ingresos_operacionales, ganancia_perdida, \n",
    "# total_activos, total_pasivos, total_patrimonio\n",
    "\n",
    "variables_monetarias = ['ingresos_operacionales', 'ganancia_perdida', 'total_activos', 'total_pasivos', 'total_patrimonio']\n",
    "\n",
    "for variable in variables_monetarias:\n",
    "    df[variable] = df[variable].str.replace('$', '').astype(float) "
   ]
  },
  {
   "cell_type": "code",
   "execution_count": 21,
   "metadata": {},
   "outputs": [
    {
     "name": "stdout",
     "output_type": "stream",
     "text": [
      "<class 'pandas.core.frame.DataFrame'>\n",
      "Index: 19998 entries, 0 to 19999\n",
      "Data columns (total 14 columns):\n",
      " #   Column                  Non-Null Count  Dtype  \n",
      "---  ------                  --------------  -----  \n",
      " 0   nit                     19998 non-null  int64  \n",
      " 1   razon_social            19998 non-null  object \n",
      " 2   supervisor              19998 non-null  object \n",
      " 3   region                  19998 non-null  object \n",
      " 4   departamento_domicilio  19998 non-null  object \n",
      " 5   ciudad_domicilio        19998 non-null  object \n",
      " 6   ciiu                    19998 non-null  int64  \n",
      " 7   macrosector             19998 non-null  object \n",
      " 8   ingresos_operacionales  19998 non-null  float64\n",
      " 9   ganancia_perdida        19998 non-null  float64\n",
      " 10  total_activos           19998 non-null  float64\n",
      " 11  total_pasivos           19998 non-null  float64\n",
      " 12  total_patrimonio        19998 non-null  float64\n",
      " 13  anio_de_corte           19998 non-null  int64  \n",
      "dtypes: float64(5), int64(3), object(6)\n",
      "memory usage: 2.3+ MB\n"
     ]
    }
   ],
   "source": [
    "df.info()"
   ]
  },
  {
   "cell_type": "code",
   "execution_count": 24,
   "metadata": {},
   "outputs": [],
   "source": [
    "# Quitar el último número de la columna nit a las filas que tengan un número de nit mayor a 9 dígitos\n",
    "\n",
    "df['nit'] = df['nit'].astype(str)\n",
    "\n",
    "df['nit'] = df['nit'].apply(lambda x: x[:-1] if len(x) > 9 else x)"
   ]
  },
  {
   "cell_type": "code",
   "execution_count": 29,
   "metadata": {},
   "outputs": [],
   "source": [
    "# Cambiar el tipo de dato de las columnas ciiu y anio_de_corte a string\n",
    "\n",
    "df['ciiu'] = df['ciiu'].astype(str)\n",
    "df['anio_de_corte'] = df['anio_de_corte'].astype(str)"
   ]
  },
  {
   "cell_type": "code",
   "execution_count": 30,
   "metadata": {},
   "outputs": [
    {
     "data": {
      "text/html": [
       "<div>\n",
       "<style scoped>\n",
       "    .dataframe tbody tr th:only-of-type {\n",
       "        vertical-align: middle;\n",
       "    }\n",
       "\n",
       "    .dataframe tbody tr th {\n",
       "        vertical-align: top;\n",
       "    }\n",
       "\n",
       "    .dataframe thead th {\n",
       "        text-align: right;\n",
       "    }\n",
       "</style>\n",
       "<table border=\"1\" class=\"dataframe\">\n",
       "  <thead>\n",
       "    <tr style=\"text-align: right;\">\n",
       "      <th></th>\n",
       "      <th>ingresos_operacionales</th>\n",
       "      <th>ganancia_perdida</th>\n",
       "      <th>total_activos</th>\n",
       "      <th>total_pasivos</th>\n",
       "      <th>total_patrimonio</th>\n",
       "    </tr>\n",
       "  </thead>\n",
       "  <tbody>\n",
       "    <tr>\n",
       "      <th>count</th>\n",
       "      <td>19998.000000</td>\n",
       "      <td>19998.000000</td>\n",
       "      <td>19998.000000</td>\n",
       "      <td>19998.000000</td>\n",
       "      <td>19998.000000</td>\n",
       "    </tr>\n",
       "    <tr>\n",
       "      <th>mean</th>\n",
       "      <td>0.151706</td>\n",
       "      <td>0.014232</td>\n",
       "      <td>0.198055</td>\n",
       "      <td>0.098076</td>\n",
       "      <td>0.099619</td>\n",
       "    </tr>\n",
       "    <tr>\n",
       "      <th>std</th>\n",
       "      <td>1.341852</td>\n",
       "      <td>0.291488</td>\n",
       "      <td>2.286939</td>\n",
       "      <td>1.264216</td>\n",
       "      <td>1.107717</td>\n",
       "    </tr>\n",
       "    <tr>\n",
       "      <th>min</th>\n",
       "      <td>0.010000</td>\n",
       "      <td>-2.100000</td>\n",
       "      <td>0.000000</td>\n",
       "      <td>0.000000</td>\n",
       "      <td>-3.690000</td>\n",
       "    </tr>\n",
       "    <tr>\n",
       "      <th>25%</th>\n",
       "      <td>0.020000</td>\n",
       "      <td>0.000000</td>\n",
       "      <td>0.010000</td>\n",
       "      <td>0.010000</td>\n",
       "      <td>0.010000</td>\n",
       "    </tr>\n",
       "    <tr>\n",
       "      <th>50%</th>\n",
       "      <td>0.040000</td>\n",
       "      <td>0.000000</td>\n",
       "      <td>0.030000</td>\n",
       "      <td>0.020000</td>\n",
       "      <td>0.010000</td>\n",
       "    </tr>\n",
       "    <tr>\n",
       "      <th>75%</th>\n",
       "      <td>0.080000</td>\n",
       "      <td>0.000000</td>\n",
       "      <td>0.080000</td>\n",
       "      <td>0.040000</td>\n",
       "      <td>0.030000</td>\n",
       "    </tr>\n",
       "    <tr>\n",
       "      <th>max</th>\n",
       "      <td>144.820000</td>\n",
       "      <td>33.410000</td>\n",
       "      <td>216.850000</td>\n",
       "      <td>125.810000</td>\n",
       "      <td>91.030000</td>\n",
       "    </tr>\n",
       "  </tbody>\n",
       "</table>\n",
       "</div>"
      ],
      "text/plain": [
       "       ingresos_operacionales  ganancia_perdida  total_activos  total_pasivos  \\\n",
       "count            19998.000000      19998.000000   19998.000000   19998.000000   \n",
       "mean                 0.151706          0.014232       0.198055       0.098076   \n",
       "std                  1.341852          0.291488       2.286939       1.264216   \n",
       "min                  0.010000         -2.100000       0.000000       0.000000   \n",
       "25%                  0.020000          0.000000       0.010000       0.010000   \n",
       "50%                  0.040000          0.000000       0.030000       0.020000   \n",
       "75%                  0.080000          0.000000       0.080000       0.040000   \n",
       "max                144.820000         33.410000     216.850000     125.810000   \n",
       "\n",
       "       total_patrimonio  \n",
       "count      19998.000000  \n",
       "mean           0.099619  \n",
       "std            1.107717  \n",
       "min           -3.690000  \n",
       "25%            0.010000  \n",
       "50%            0.010000  \n",
       "75%            0.030000  \n",
       "max           91.030000  "
      ]
     },
     "execution_count": 30,
     "metadata": {},
     "output_type": "execute_result"
    }
   ],
   "source": [
    "# realizar un análisis descriptivo de las variables numéricas\n",
    "\n",
    "df.describe()"
   ]
  },
  {
   "cell_type": "code",
   "execution_count": 31,
   "metadata": {},
   "outputs": [
    {
     "data": {
      "text/html": [
       "<div>\n",
       "<style scoped>\n",
       "    .dataframe tbody tr th:only-of-type {\n",
       "        vertical-align: middle;\n",
       "    }\n",
       "\n",
       "    .dataframe tbody tr th {\n",
       "        vertical-align: top;\n",
       "    }\n",
       "\n",
       "    .dataframe thead th {\n",
       "        text-align: right;\n",
       "    }\n",
       "</style>\n",
       "<table border=\"1\" class=\"dataframe\">\n",
       "  <thead>\n",
       "    <tr style=\"text-align: right;\">\n",
       "      <th></th>\n",
       "      <th>nit</th>\n",
       "      <th>razon_social</th>\n",
       "      <th>supervisor</th>\n",
       "      <th>region</th>\n",
       "      <th>departamento_domicilio</th>\n",
       "      <th>ciudad_domicilio</th>\n",
       "      <th>ciiu</th>\n",
       "      <th>macrosector</th>\n",
       "      <th>anio_de_corte</th>\n",
       "    </tr>\n",
       "  </thead>\n",
       "  <tbody>\n",
       "    <tr>\n",
       "      <th>count</th>\n",
       "      <td>19998</td>\n",
       "      <td>19998</td>\n",
       "      <td>19998</td>\n",
       "      <td>19998</td>\n",
       "      <td>19998</td>\n",
       "      <td>19998</td>\n",
       "      <td>19998</td>\n",
       "      <td>19998</td>\n",
       "      <td>19998</td>\n",
       "    </tr>\n",
       "    <tr>\n",
       "      <th>unique</th>\n",
       "      <td>11440</td>\n",
       "      <td>11436</td>\n",
       "      <td>6</td>\n",
       "      <td>7</td>\n",
       "      <td>33</td>\n",
       "      <td>348</td>\n",
       "      <td>389</td>\n",
       "      <td>6</td>\n",
       "      <td>2</td>\n",
       "    </tr>\n",
       "    <tr>\n",
       "      <th>top</th>\n",
       "      <td>900107634</td>\n",
       "      <td>CONVIAS SAS</td>\n",
       "      <td>SUPERSOCIEDADES</td>\n",
       "      <td>Bogotá - Cundinamarca</td>\n",
       "      <td>BOGOTA D.C.</td>\n",
       "      <td>BOGOTA D.C.-BOGOTA D.C.</td>\n",
       "      <td>8610</td>\n",
       "      <td>COMERCIO</td>\n",
       "      <td>2022</td>\n",
       "    </tr>\n",
       "    <tr>\n",
       "      <th>freq</th>\n",
       "      <td>2</td>\n",
       "      <td>4</td>\n",
       "      <td>17776</td>\n",
       "      <td>9288</td>\n",
       "      <td>7864</td>\n",
       "      <td>7325</td>\n",
       "      <td>831</td>\n",
       "      <td>6756</td>\n",
       "      <td>9999</td>\n",
       "    </tr>\n",
       "  </tbody>\n",
       "</table>\n",
       "</div>"
      ],
      "text/plain": [
       "              nit razon_social       supervisor                 region  \\\n",
       "count       19998        19998            19998                  19998   \n",
       "unique      11440        11436                6                      7   \n",
       "top     900107634  CONVIAS SAS  SUPERSOCIEDADES  Bogotá - Cundinamarca   \n",
       "freq            2            4            17776                   9288   \n",
       "\n",
       "       departamento_domicilio         ciudad_domicilio   ciiu macrosector  \\\n",
       "count                   19998                    19998  19998       19998   \n",
       "unique                     33                      348    389           6   \n",
       "top               BOGOTA D.C.  BOGOTA D.C.-BOGOTA D.C.   8610    COMERCIO   \n",
       "freq                     7864                     7325    831        6756   \n",
       "\n",
       "       anio_de_corte  \n",
       "count          19998  \n",
       "unique             2  \n",
       "top             2022  \n",
       "freq            9999  "
      ]
     },
     "execution_count": 31,
     "metadata": {},
     "output_type": "execute_result"
    }
   ],
   "source": [
    "# realizar un análisis descriptivo de las variables categóricas\n",
    "\n",
    "df.describe(include='object')"
   ]
  },
  {
   "cell_type": "markdown",
   "metadata": {},
   "source": [
    "### Informe final\n",
    "\n",
    "* Encontramos que las variables de estado de resultados operativos de las 10.000 empresas más grandes del país (cifras en Billones de pesos) presentan:"
   ]
  },
  {
   "cell_type": "code",
   "execution_count": 32,
   "metadata": {},
   "outputs": [],
   "source": [
    "# Presentar estadísticos de las variables numéricas\n",
    "\n",
    "def estadisticos_numericas(df):\n",
    "    estadisticos = df.describe().T\n",
    "    for var in df.select_dtypes(include='float64').columns:\n",
    "        print(f'Variable: {var}, Media: {estadisticos.loc[var, \"mean\"]}, Mediana: {estadisticos.loc[var, \"50%\"]}, Desviación Estándar: {estadisticos.loc[var, \"std\"]}')\n",
    "    "
   ]
  },
  {
   "cell_type": "code",
   "execution_count": 33,
   "metadata": {},
   "outputs": [
    {
     "name": "stdout",
     "output_type": "stream",
     "text": [
      "Variable: ingresos_operacionales, Media: 0.1517061706170617, Mediana: 0.04, Desviación Estándar: 1.3418518041171903\n",
      "Variable: ganancia_perdida, Media: 0.014231923192319232, Mediana: 0.0, Desviación Estándar: 0.2914881514202155\n",
      "Variable: total_activos, Media: 0.19805480548054807, Mediana: 0.03, Desviación Estándar: 2.286938787976113\n",
      "Variable: total_pasivos, Media: 0.09807580758075807, Mediana: 0.02, Desviación Estándar: 1.2642160156294142\n",
      "Variable: total_patrimonio, Media: 0.09961896189618963, Mediana: 0.01, Desviación Estándar: 1.1077168276730427\n"
     ]
    }
   ],
   "source": [
    "estadisticos_numericas(df)"
   ]
  },
  {
   "cell_type": "markdown",
   "metadata": {},
   "source": [
    "* Encontramos que las variables categoricas tienen las siguientes descripciones:"
   ]
  },
  {
   "cell_type": "code",
   "execution_count": 34,
   "metadata": {},
   "outputs": [],
   "source": [
    "# Presentar los estadísticos de las variables categóricas\n",
    "\n",
    "def estadisticos_categoricas(df):\n",
    "    for var in df.select_dtypes(include='object').columns:\n",
    "        print(f'Variable: {var}, Valores Únicos: {df[var].nunique()}, Moda: {df[var].mode()[0]}')"
   ]
  },
  {
   "cell_type": "code",
   "execution_count": 35,
   "metadata": {},
   "outputs": [
    {
     "name": "stdout",
     "output_type": "stream",
     "text": [
      "Variable: nit, Valores Únicos: 11440, Moda: 800000118\n",
      "Variable: razon_social, Valores Únicos: 11436, Moda: AGENCIA DE ADUANAS DHL GLOBAL FORWARDING COLOMBIA S.A NIVEL 1\n",
      "Variable: supervisor, Valores Únicos: 6, Moda: SUPERSOCIEDADES\n",
      "Variable: region, Valores Únicos: 7, Moda: Bogotá - Cundinamarca\n",
      "Variable: departamento_domicilio, Valores Únicos: 33, Moda: BOGOTA D.C.\n",
      "Variable: ciudad_domicilio, Valores Únicos: 348, Moda: BOGOTA D.C.-BOGOTA D.C.\n",
      "Variable: ciiu, Valores Únicos: 389, Moda: 8610\n",
      "Variable: macrosector, Valores Únicos: 6, Moda: COMERCIO\n",
      "Variable: anio_de_corte, Valores Únicos: 2, Moda: 2021\n"
     ]
    }
   ],
   "source": [
    "estadisticos_categoricas(df)"
   ]
  },
  {
   "cell_type": "code",
   "execution_count": 36,
   "metadata": {},
   "outputs": [],
   "source": [
    "# Guardar el dataframe procesado en un archivo csv\n",
    "\n",
    "df.to_csv('./data_processed/diez_mil_empresas_procesado.csv', index=False)"
   ]
  }
 ],
 "metadata": {
  "kernelspec": {
   "display_name": "esp_ml_env",
   "language": "python",
   "name": "python3"
  },
  "language_info": {
   "codemirror_mode": {
    "name": "ipython",
    "version": 3
   },
   "file_extension": ".py",
   "mimetype": "text/x-python",
   "name": "python",
   "nbconvert_exporter": "python",
   "pygments_lexer": "ipython3",
   "version": "3.11.6"
  }
 },
 "nbformat": 4,
 "nbformat_minor": 2
}
