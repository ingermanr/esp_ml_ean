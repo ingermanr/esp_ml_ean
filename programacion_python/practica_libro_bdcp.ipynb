{
 "cells": [
  {
   "cell_type": "markdown",
   "metadata": {},
   "source": [
    "### Lectura de ficheros"
   ]
  },
  {
   "cell_type": "markdown",
   "metadata": {},
   "source": [
    "Hay diferentes formas de cargar los set de datos en python: por medio de librerías o por medio de las funciones que trae Python por defecto. Para cargar datos y aplicar transformaciones iniciales, reconocimiento de variables, limpieza, etc, se puede usar, por ejemplo `Pandas`. Para leer un dataset con las funciones que trae Python por defecto, lo veremos a continuación"
   ]
  },
  {
   "cell_type": "code",
   "execution_count": 1,
   "metadata": {},
   "outputs": [],
   "source": [
    "# importar la librería csv para trabajar con archivos csv\n",
    "\n",
    "import csv"
   ]
  },
  {
   "cell_type": "code",
   "execution_count": 2,
   "metadata": {},
   "outputs": [
    {
     "name": "stdout",
     "output_type": "stream",
     "text": [
      "La suma de edad es: 1192746061\n"
     ]
    }
   ],
   "source": [
    "# abrir el archivo csv con open y crear un lector con reader\n",
    "\n",
    "with open('./data_raw/census_income-1.csv', encoding='UTF8') as csvfile:\n",
    "    reader = csv.reader(csvfile)\n",
    "    next(reader, None)  # saltar la primera fila\n",
    "    # leer las primeras 5 filas\n",
    "    sum_age = 0\n",
    "    count_ages = 0\n",
    "    for linea in reader:\n",
    "        count_ages += 1\n",
    "        age_str = linea[0]\n",
    "        age = int(age_str)\n",
    "        sum_age += age\n",
    "    # avg_age = sum_age/count_ages\n",
    "    print('La suma de edad es:', sum_age)\n",
    "    csvfile.close()"
   ]
  },
  {
   "cell_type": "markdown",
   "metadata": {},
   "source": [
    "En este caso obtuvimos la suma de todas las edades en el dataset, sin embargo esta forma de leer y realizar cálculos con datos es extensa y poco intuitiva. Podemos experimentar otras formas más compactas y optimas para realizar cualquier manipulación."
   ]
  },
  {
   "cell_type": "code",
   "execution_count": 3,
   "metadata": {},
   "outputs": [
    {
     "name": "stdout",
     "output_type": "stream",
     "text": [
      "La suma de edades es: {39: 1206, 50: 866, 38: 1264, 53: 711, 28: 1280, 37: 1280, 49: 847, 52: 738, 31: 1325, 42: 1165, 30: 1278, 23: 1329, 32: 1253, 40: 1187, 34: 1303, 25: 1195, 43: 1104, 54: 613, 35: 1337, 59: 523, 56: 564, 19: 1053, 20: 1113, 45: 1096, 22: 1178, 48: 845, 21: 1096, 24: 1206, 57: 551, 44: 1067, 41: 1235, 29: 1223, 18: 862, 47: 1081, 46: 1097, 36: 1348, 79: 30, 27: 1232, 67: 238, 33: 1335, 76: 69, 17: 595, 55: 621, 61: 450, 70: 133, 64: 340, 71: 118, 68: 178, 66: 237, 51: 877, 58: 555, 26: 1153, 60: 449, 90: 55, 75: 72, 65: 284, 77: 54, 62: 394, 63: 335, 80: 38, 72: 120, 74: 77, 69: 149, 73: 108, 81: 37, 78: 34, 88: 6, 82: 15, 83: 11, 84: 13, 85: 5, 86: 1, 87: 3, 89: 2}\n"
     ]
    }
   ],
   "source": [
    "with open('./data_raw/census_income-1.csv', encoding='UTF8') as csvfile:\n",
    "    dict_reader = csv.DictReader(csvfile)\n",
    "    sum_age = {}\n",
    "    for linea in dict_reader:\n",
    "        age_str = linea['age']\n",
    "        age = int(age_str)\n",
    "        sum_age[age] = sum_age.get(age, 0) + 1\n",
    "    print('La suma de edades es:', sum_age)"
   ]
  },
  {
   "cell_type": "markdown",
   "metadata": {},
   "source": [
    "Con DictReader se puede indicar la lista de encabezados de las columnas con el parámetro fieldnames:"
   ]
  },
  {
   "cell_type": "code",
   "execution_count": 4,
   "metadata": {},
   "outputs": [],
   "source": [
    "# csv.DictReader('fichero.csv', fieldnames=['edad', 'sexo', 'pais'])"
   ]
  },
  {
   "cell_type": "markdown",
   "metadata": {},
   "source": [
    "Así como se requiere la lectura de datasets, se requiere escritura que puede hacerse con write(), con instancias de clase DictWriter, writerow(), writerows().\n",
    "\n",
    "* Con write() una fila es un iterable de cadenas de texto y número\n",
    "* Con DictWriter una fila es un diccionario cuyos valores son cadenas de texto y números\n",
    "* Con DictWriter puede escribirse de nuevo en la cabezera creada con fieldnames, con writeheader()"
   ]
  },
  {
   "cell_type": "code",
   "execution_count": 10,
   "metadata": {},
   "outputs": [
    {
     "name": "stdout",
     "output_type": "stream",
     "text": [
      "Proceso de escritura terminado\n"
     ]
    }
   ],
   "source": [
    "ruta_lectura = './data_raw/census_income-1.csv'\n",
    "ruta_escritura = './data_processed/census_income-1w.csv'\n",
    "\n",
    "with open(ruta_lectura, encoding='UTF8') as csvlectura, open(ruta_escritura, 'w', newline='') as csvescritura:\n",
    "    dict_reader = csv.DictReader(csvlectura)\n",
    "    fieldnames = dict_reader.fieldnames\n",
    "    dict_writer = csv.DictWriter(csvescritura, fieldnames=fieldnames)\n",
    "    dict_writer.writeheader()\n",
    "    for linea in dict_reader:\n",
    "        dict_writer.writerow(linea)\n",
    "    print('Proceso de escritura terminado')"
   ]
  },
  {
   "cell_type": "code",
   "execution_count": 11,
   "metadata": {},
   "outputs": [],
   "source": [
    "campos =dict_reader.fieldnames + ['age_minus_1']\n",
    "escritor = csv.DictWriter(csvescritura, fieldnames=campos)"
   ]
  },
  {
   "cell_type": "code",
   "execution_count": 17,
   "metadata": {},
   "outputs": [
    {
     "ename": "ValueError",
     "evalue": "I/O operation on closed file.",
     "output_type": "error",
     "traceback": [
      "\u001b[1;31m---------------------------------------------------------------------------\u001b[0m",
      "\u001b[1;31mValueError\u001b[0m                                Traceback (most recent call last)",
      "Cell \u001b[1;32mIn[17], line 2\u001b[0m\n\u001b[0;32m      1\u001b[0m \u001b[38;5;28;01mwith\u001b[39;00m \u001b[38;5;28mopen\u001b[39m(ruta_lectura, encoding\u001b[38;5;241m=\u001b[39m\u001b[38;5;124m'\u001b[39m\u001b[38;5;124mUTF8\u001b[39m\u001b[38;5;124m'\u001b[39m) \u001b[38;5;28;01mas\u001b[39;00m csvlectura, \u001b[38;5;28mopen\u001b[39m(ruta_escritura, \u001b[38;5;124m'\u001b[39m\u001b[38;5;124mw\u001b[39m\u001b[38;5;124m'\u001b[39m, newline\u001b[38;5;241m=\u001b[39m\u001b[38;5;124m'\u001b[39m\u001b[38;5;124m'\u001b[39m) \u001b[38;5;28;01mas\u001b[39;00m csvescritura:\n\u001b[1;32m----> 2\u001b[0m     \u001b[43mescritor\u001b[49m\u001b[38;5;241;43m.\u001b[39;49m\u001b[43mwriteheader\u001b[49m\u001b[43m(\u001b[49m\u001b[43m)\u001b[49m\n\u001b[0;32m      3\u001b[0m     \u001b[38;5;28;01mfor\u001b[39;00m linea \u001b[38;5;129;01min\u001b[39;00m dict_reader:\n\u001b[0;32m      4\u001b[0m         linea[\u001b[38;5;124m'\u001b[39m\u001b[38;5;124mage_minus_1\u001b[39m\u001b[38;5;124m'\u001b[39m] \u001b[38;5;241m=\u001b[39m \u001b[38;5;28mint\u001b[39m(linea[\u001b[38;5;124m'\u001b[39m\u001b[38;5;124mage\u001b[39m\u001b[38;5;124m'\u001b[39m]) \u001b[38;5;241m-\u001b[39m \u001b[38;5;241m1\u001b[39m\n",
      "File \u001b[1;32m~\\AppData\\Local\\Programs\\Python\\Python311\\Lib\\csv.py:143\u001b[0m, in \u001b[0;36mDictWriter.writeheader\u001b[1;34m(self)\u001b[0m\n\u001b[0;32m    141\u001b[0m \u001b[38;5;28;01mdef\u001b[39;00m \u001b[38;5;21mwriteheader\u001b[39m(\u001b[38;5;28mself\u001b[39m):\n\u001b[0;32m    142\u001b[0m     header \u001b[38;5;241m=\u001b[39m \u001b[38;5;28mdict\u001b[39m(\u001b[38;5;28mzip\u001b[39m(\u001b[38;5;28mself\u001b[39m\u001b[38;5;241m.\u001b[39mfieldnames, \u001b[38;5;28mself\u001b[39m\u001b[38;5;241m.\u001b[39mfieldnames))\n\u001b[1;32m--> 143\u001b[0m     \u001b[38;5;28;01mreturn\u001b[39;00m \u001b[38;5;28;43mself\u001b[39;49m\u001b[38;5;241;43m.\u001b[39;49m\u001b[43mwriterow\u001b[49m\u001b[43m(\u001b[49m\u001b[43mheader\u001b[49m\u001b[43m)\u001b[49m\n",
      "File \u001b[1;32m~\\AppData\\Local\\Programs\\Python\\Python311\\Lib\\csv.py:154\u001b[0m, in \u001b[0;36mDictWriter.writerow\u001b[1;34m(self, rowdict)\u001b[0m\n\u001b[0;32m    153\u001b[0m \u001b[38;5;28;01mdef\u001b[39;00m \u001b[38;5;21mwriterow\u001b[39m(\u001b[38;5;28mself\u001b[39m, rowdict):\n\u001b[1;32m--> 154\u001b[0m     \u001b[38;5;28;01mreturn\u001b[39;00m \u001b[38;5;28mself\u001b[39m\u001b[38;5;241m.\u001b[39mwriter\u001b[38;5;241m.\u001b[39mwriterow(\u001b[38;5;28mself\u001b[39m\u001b[38;5;241m.\u001b[39m_dict_to_list(rowdict))\n",
      "\u001b[1;31mValueError\u001b[0m: I/O operation on closed file."
     ]
    }
   ],
   "source": [
    "with open(ruta_lectura, encoding='UTF8') as csvlectura, open(ruta_escritura, 'w', newline='') as csvescritura:\n",
    "    escritor.writeheader()\n",
    "    for linea in dict_reader:\n",
    "        linea['age_minus_1'] = int(linea['age']) - 1\n",
    "        escritor.writerow(linea)"
   ]
  }
 ],
 "metadata": {
  "kernelspec": {
   "display_name": "esp_ml_env",
   "language": "python",
   "name": "python3"
  },
  "language_info": {
   "codemirror_mode": {
    "name": "ipython",
    "version": 3
   },
   "file_extension": ".py",
   "mimetype": "text/x-python",
   "name": "python",
   "nbconvert_exporter": "python",
   "pygments_lexer": "ipython3",
   "version": "3.11.6"
  }
 },
 "nbformat": 4,
 "nbformat_minor": 2
}
