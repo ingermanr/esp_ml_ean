{
 "cells": [
  {
   "cell_type": "markdown",
   "metadata": {},
   "source": [
    "### Filtros y cruces de datos\n",
    "\n",
    "En el análisis de datos la manipulación de los dataset tiene gran relevancia pues por el nivel de granularidad de los datos, los tipos de datos, la calidad de los datos y la información compementaria en otras fuentes, por mencionar algunos, requieren la aplicación de métodos y técnicas de procesamiento que permitan llevar los datos de su estado en bruto al estado deseado para usarse en análisis de negocio, modelos de regresión, modelos de inferencia, ML, etc."
   ]
  },
  {
   "cell_type": "code",
   "execution_count": 41,
   "metadata": {},
   "outputs": [],
   "source": [
    "# importar librerias\n",
    "import numpy as np\n",
    "import matplotlib.pyplot as plt\n",
    "import pandas as pd"
   ]
  },
  {
   "cell_type": "code",
   "execution_count": 42,
   "metadata": {},
   "outputs": [],
   "source": [
    "# importar los datos\n",
    "\n",
    "df1 = pd.read_csv('data_raw/datos_secop_I_modified.csv')\n",
    "df2 = pd.read_csv('data_raw/datos_secov_II_modified.csv', sep=';', encoding='latin1')"
   ]
  },
  {
   "cell_type": "code",
   "execution_count": 43,
   "metadata": {},
   "outputs": [
    {
     "data": {
      "text/html": [
       "<div>\n",
       "<style scoped>\n",
       "    .dataframe tbody tr th:only-of-type {\n",
       "        vertical-align: middle;\n",
       "    }\n",
       "\n",
       "    .dataframe tbody tr th {\n",
       "        vertical-align: top;\n",
       "    }\n",
       "\n",
       "    .dataframe thead th {\n",
       "        text-align: right;\n",
       "    }\n",
       "</style>\n",
       "<table border=\"1\" class=\"dataframe\">\n",
       "  <thead>\n",
       "    <tr style=\"text-align: right;\">\n",
       "      <th></th>\n",
       "      <th>identificador_paa</th>\n",
       "      <th>codigo_entidad</th>\n",
       "      <th>nombre_entidad</th>\n",
       "      <th>nit_entidad</th>\n",
       "      <th>anno_paa</th>\n",
       "      <th>direccion_entidad</th>\n",
       "      <th>telefono_entidad</th>\n",
       "      <th>mision_y_vision</th>\n",
       "      <th>perspectiva_estrategica</th>\n",
       "      <th>info_contacto</th>\n",
       "      <th>ppto_total</th>\n",
       "      <th>limite_menor_cuantia</th>\n",
       "      <th>limite_minima_cuantia</th>\n",
       "      <th>fecha_ultima_actualizacion</th>\n",
       "      <th>fecha_cargue</th>\n",
       "      <th>municipio_paa</th>\n",
       "      <th>departamento_paa</th>\n",
       "      <th>localidad_paa</th>\n",
       "      <th>codigo_municipio</th>\n",
       "    </tr>\n",
       "  </thead>\n",
       "  <tbody>\n",
       "    <tr>\n",
       "      <th>0</th>\n",
       "      <td>303062</td>\n",
       "      <td>28500134</td>\n",
       "      <td>CASANARE  ESE HOSPITAL DE YOPAL !</td>\n",
       "      <td>891855029</td>\n",
       "      <td>2022</td>\n",
       "      <td>Calle 15 N 795 Manzana L via marginal de la selva</td>\n",
       "      <td>6344699</td>\n",
       "      <td>MisionEl Hospital Regional de la Orinoquia es ...</td>\n",
       "      <td>el Hospital Regional de la Orinoqua ESE se con...</td>\n",
       "      <td>Almacen Hospital Regional de la Orinoquia Cont...</td>\n",
       "      <td>126898133557</td>\n",
       "      <td>NaN</td>\n",
       "      <td>$nan</td>\n",
       "      <td>12/31/21</td>\n",
       "      <td>2022-01-31T11:53:47.000</td>\n",
       "      <td>Yopal</td>\n",
       "      <td>Casanare</td>\n",
       "      <td>PLAN UNICO</td>\n",
       "      <td>85001</td>\n",
       "    </tr>\n",
       "    <tr>\n",
       "      <th>1</th>\n",
       "      <td>294652</td>\n",
       "      <td>205001279</td>\n",
       "      <td>ANTIOQUIA  INSTITUCIN EDUCATIVA DBORA ARANGO P...</td>\n",
       "      <td>900196642</td>\n",
       "      <td>2022</td>\n",
       "      <td>Calle 118  103160</td>\n",
       "      <td>5294058</td>\n",
       "      <td>MISION La Institucin Educativa Dbora Arango de...</td>\n",
       "      <td>Direccionar la Institucin para el logro del ho...</td>\n",
       "      <td>Carlos Enrique Rojas Sanchez</td>\n",
       "      <td>$84026639</td>\n",
       "      <td>0</td>\n",
       "      <td>20000000</td>\n",
       "      <td>12/1/21</td>\n",
       "      <td>2022-01-26T09:43:07.000</td>\n",
       "      <td>Medellín</td>\n",
       "      <td>Antioquia</td>\n",
       "      <td>UNICO PLAN</td>\n",
       "      <td>5001</td>\n",
       "    </tr>\n",
       "    <tr>\n",
       "      <th>2</th>\n",
       "      <td>259436</td>\n",
       "      <td>286571031</td>\n",
       "      <td>PUTUMAYO  CENTRO EDUCATIVO RURAL SAUDITA  PUER...</td>\n",
       "      <td>846004233-5</td>\n",
       "      <td>2021</td>\n",
       "      <td>VEREDA SAUDITA</td>\n",
       "      <td>3208339785</td>\n",
       "      <td>MISION El Centro Educativo Rural Saudita garan...</td>\n",
       "      <td>0</td>\n",
       "      <td>3208339785</td>\n",
       "      <td>$107700000</td>\n",
       "      <td>254387280</td>\n",
       "      <td>$25438728</td>\n",
       "      <td>11/27/20</td>\n",
       "      <td>2021-01-28T02:34:58.000</td>\n",
       "      <td>Puerto Guzmán</td>\n",
       "      <td>Putumayo</td>\n",
       "      <td>UNICO PLAN</td>\n",
       "      <td>86571</td>\n",
       "    </tr>\n",
       "    <tr>\n",
       "      <th>3</th>\n",
       "      <td>263541</td>\n",
       "      <td>205001191</td>\n",
       "      <td>ANTIOQUIA  INSTITUCIN EDUCATIVA SAN CRISTBAL  ...</td>\n",
       "      <td>811017472</td>\n",
       "      <td>2021</td>\n",
       "      <td>Carrera 131 No 65  07</td>\n",
       "      <td>4279180</td>\n",
       "      <td>2021</td>\n",
       "      <td>wwwiesancristobaleduco</td>\n",
       "      <td>La  Institucin  Educativa San Cristbal ofrece ...</td>\n",
       "      <td>La Institucin educativa San Cristbal Lder en l...</td>\n",
       "      <td>JOSE CHARLES VELEZ BETANCURRectoriesancristoba...</td>\n",
       "      <td>159239220</td>\n",
       "      <td>181705200</td>\n",
       "      <td>2021-01-29T04:15:31.000</td>\n",
       "      <td>Medellín</td>\n",
       "      <td>Antioquia</td>\n",
       "      <td>UNICO PLAN</td>\n",
       "      <td>5001</td>\n",
       "    </tr>\n",
       "    <tr>\n",
       "      <th>4</th>\n",
       "      <td>298985</td>\n",
       "      <td>250226019</td>\n",
       "      <td>META  CENTRO EDUCATIVO RURAL JOSE MARIA GUIOTH...</td>\n",
       "      <td>900134298-9</td>\n",
       "      <td>2022</td>\n",
       "      <td>Vda Caney Medio Km2CumaralMeta</td>\n",
       "      <td>3013604535</td>\n",
       "      <td>Misin</td>\n",
       "      <td>Mejoramiento de la calidad educativa en la pre...</td>\n",
       "      <td>LUIS FERNANDO ROJAS SALAZAR CC 17267322 Cargo ...</td>\n",
       "      <td>$22500000</td>\n",
       "      <td>280000000</td>\n",
       "      <td>$28000000</td>\n",
       "      <td>12/2/21</td>\n",
       "      <td>2022-01-28T07:06:52.000</td>\n",
       "      <td>Cumaral</td>\n",
       "      <td>Meta</td>\n",
       "      <td>UNICO PLAN</td>\n",
       "      <td>50226</td>\n",
       "    </tr>\n",
       "  </tbody>\n",
       "</table>\n",
       "</div>"
      ],
      "text/plain": [
       "   identificador_paa  codigo_entidad  \\\n",
       "0             303062        28500134   \n",
       "1             294652       205001279   \n",
       "2             259436       286571031   \n",
       "3             263541       205001191   \n",
       "4             298985       250226019   \n",
       "\n",
       "                                      nombre_entidad  nit_entidad  anno_paa  \\\n",
       "0                 CASANARE  ESE HOSPITAL DE YOPAL !     891855029      2022   \n",
       "1  ANTIOQUIA  INSTITUCIN EDUCATIVA DBORA ARANGO P...    900196642      2022   \n",
       "2  PUTUMAYO  CENTRO EDUCATIVO RURAL SAUDITA  PUER...  846004233-5      2021   \n",
       "3  ANTIOQUIA  INSTITUCIN EDUCATIVA SAN CRISTBAL  ...    811017472      2021   \n",
       "4  META  CENTRO EDUCATIVO RURAL JOSE MARIA GUIOTH...  900134298-9      2022   \n",
       "\n",
       "                                   direccion_entidad telefono_entidad  \\\n",
       "0  Calle 15 N 795 Manzana L via marginal de la selva          6344699   \n",
       "1                                  Calle 118  103160          5294058   \n",
       "2                                     VEREDA SAUDITA       3208339785   \n",
       "3                              Carrera 131 No 65  07          4279180   \n",
       "4                     Vda Caney Medio Km2CumaralMeta       3013604535   \n",
       "\n",
       "                                     mision_y_vision  \\\n",
       "0  MisionEl Hospital Regional de la Orinoquia es ...   \n",
       "1  MISION La Institucin Educativa Dbora Arango de...   \n",
       "2  MISION El Centro Educativo Rural Saudita garan...   \n",
       "3                                               2021   \n",
       "4                                              Misin   \n",
       "\n",
       "                             perspectiva_estrategica  \\\n",
       "0  el Hospital Regional de la Orinoqua ESE se con...   \n",
       "1  Direccionar la Institucin para el logro del ho...   \n",
       "2                                                  0   \n",
       "3                             wwwiesancristobaleduco   \n",
       "4  Mejoramiento de la calidad educativa en la pre...   \n",
       "\n",
       "                                       info_contacto  \\\n",
       "0  Almacen Hospital Regional de la Orinoquia Cont...   \n",
       "1                       Carlos Enrique Rojas Sanchez   \n",
       "2                                         3208339785   \n",
       "3  La  Institucin  Educativa San Cristbal ofrece ...   \n",
       "4  LUIS FERNANDO ROJAS SALAZAR CC 17267322 Cargo ...   \n",
       "\n",
       "                                          ppto_total  \\\n",
       "0                                       126898133557   \n",
       "1                                          $84026639   \n",
       "2                                         $107700000   \n",
       "3  La Institucin educativa San Cristbal Lder en l...   \n",
       "4                                          $22500000   \n",
       "\n",
       "                                limite_menor_cuantia limite_minima_cuantia  \\\n",
       "0                                                NaN                  $nan   \n",
       "1                                                  0              20000000   \n",
       "2                                          254387280             $25438728   \n",
       "3  JOSE CHARLES VELEZ BETANCURRectoriesancristoba...             159239220   \n",
       "4                                          280000000             $28000000   \n",
       "\n",
       "  fecha_ultima_actualizacion             fecha_cargue  municipio_paa  \\\n",
       "0                   12/31/21  2022-01-31T11:53:47.000          Yopal   \n",
       "1                    12/1/21  2022-01-26T09:43:07.000       Medellín   \n",
       "2                   11/27/20  2021-01-28T02:34:58.000  Puerto Guzmán   \n",
       "3                  181705200  2021-01-29T04:15:31.000       Medellín   \n",
       "4                    12/2/21  2022-01-28T07:06:52.000        Cumaral   \n",
       "\n",
       "  departamento_paa localidad_paa  codigo_municipio  \n",
       "0         Casanare    PLAN UNICO             85001  \n",
       "1        Antioquia    UNICO PLAN              5001  \n",
       "2         Putumayo    UNICO PLAN             86571  \n",
       "3        Antioquia    UNICO PLAN              5001  \n",
       "4             Meta    UNICO PLAN             50226  "
      ]
     },
     "execution_count": 43,
     "metadata": {},
     "output_type": "execute_result"
    }
   ],
   "source": [
    "# revisar los datos\n",
    "\n",
    "df1.head()"
   ]
  },
  {
   "cell_type": "code",
   "execution_count": 44,
   "metadata": {},
   "outputs": [
    {
     "data": {
      "text/html": [
       "<div>\n",
       "<style scoped>\n",
       "    .dataframe tbody tr th:only-of-type {\n",
       "        vertical-align: middle;\n",
       "    }\n",
       "\n",
       "    .dataframe tbody tr th {\n",
       "        vertical-align: top;\n",
       "    }\n",
       "\n",
       "    .dataframe thead th {\n",
       "        text-align: right;\n",
       "    }\n",
       "</style>\n",
       "<table border=\"1\" class=\"dataframe\">\n",
       "  <thead>\n",
       "    <tr style=\"text-align: right;\">\n",
       "      <th></th>\n",
       "      <th>identificador_unico</th>\n",
       "      <th>id_plan_anual_de_adquisiciones</th>\n",
       "      <th>anno</th>\n",
       "      <th>nit_entidad</th>\n",
       "      <th>nombre_entidad</th>\n",
       "      <th>mision_vision</th>\n",
       "      <th>perspectiva_estrategica</th>\n",
       "      <th>nombre_contacto</th>\n",
       "      <th>telefono_contacto</th>\n",
       "      <th>correo_contacto</th>\n",
       "      <th>...</th>\n",
       "      <th>presupuesto_menor_cuantia</th>\n",
       "      <th>presupuesto_minima_cuantia</th>\n",
       "      <th>fecha_de_publicacion</th>\n",
       "      <th>fecha_de_creacion</th>\n",
       "      <th>fecha_de_ultima_modificacion</th>\n",
       "      <th>version</th>\n",
       "      <th>identificador_requerimiento_compra</th>\n",
       "      <th>estado</th>\n",
       "      <th>departamento_paa</th>\n",
       "      <th>municipio_paa</th>\n",
       "    </tr>\n",
       "  </thead>\n",
       "  <tbody>\n",
       "    <tr>\n",
       "      <th>0</th>\n",
       "      <td>CO1.APP.2041264</td>\n",
       "      <td>MarketplaceCO1538159</td>\n",
       "      <td>2024</td>\n",
       "      <td>721520377</td>\n",
       "      <td>INSTITUCION EDUCATIVA AGROPECUARIA MAXIMO GOMEZ</td>\n",
       "      <td>MISION 2023 2026 La Institucin Educativa Agrop...</td>\n",
       "      <td>Ser una institucin destacada por sus estrategi...</td>\n",
       "      <td>MARIA EUGENIA LEDESMA LLANTEN</td>\n",
       "      <td>3104661182</td>\n",
       "      <td>mariaeugenia.maestra@gmail.com</td>\n",
       "      <td>...</td>\n",
       "      <td>$26000000.0</td>\n",
       "      <td>$2600000.0</td>\n",
       "      <td>2024-07-31 03:47:42.6041815</td>\n",
       "      <td>2024-08-23 07:11:00.0000000</td>\n",
       "      <td>2024-08-22 20:32:26.391947400</td>\n",
       "      <td>2</td>\n",
       "      <td>CO1.PPI.33807381</td>\n",
       "      <td>Borrador</td>\n",
       "      <td>Cauca</td>\n",
       "      <td>Cajibío</td>\n",
       "    </tr>\n",
       "    <tr>\n",
       "      <th>1</th>\n",
       "      <td>CO1.APP.2041602</td>\n",
       "      <td>MarketplaceCO1538240</td>\n",
       "      <td>2024</td>\n",
       "      <td>718938582</td>\n",
       "      <td>INSTITUCION EDUCATIVA MUNICIPAL EL SOCORRO</td>\n",
       "      <td>MISION Brindar una formacin acadmica que forme...</td>\n",
       "      <td>El proceso de formacin de los educandos debe e...</td>\n",
       "      <td>RAFAEL BASTIDAS SANCHEZ</td>\n",
       "      <td>3136820189</td>\n",
       "      <td>rafabastidas@hotmail.com</td>\n",
       "      <td>...</td>\n",
       "      <td>$845000000.0</td>\n",
       "      <td>$84500000.0</td>\n",
       "      <td>2024-01-31 16:19:08.5384812</td>\n",
       "      <td>2024-08-23 07:11:00.0000000</td>\n",
       "      <td>2024-08-22 22:00:52.607658300</td>\n",
       "      <td>13</td>\n",
       "      <td>CO1.PPI.33809817</td>\n",
       "      <td>No especificado</td>\n",
       "      <td>Nariño</td>\n",
       "      <td>Pasto</td>\n",
       "    </tr>\n",
       "    <tr>\n",
       "      <th>2</th>\n",
       "      <td>CO1.APP.2041198</td>\n",
       "      <td>MarketplaceCO1538184</td>\n",
       "      <td>2024</td>\n",
       "      <td>703036004</td>\n",
       "      <td>MUNICIPIO LA DORADA</td>\n",
       "      <td>La administracin municipal regir los destinos ...</td>\n",
       "      <td>La Dorada ser un municipio competitivo y soste...</td>\n",
       "      <td>JULIAN DAVID OLIVEROS SERRANO</td>\n",
       "      <td>8572013</td>\n",
       "      <td>compras@ladorada-caldas.gov.co</td>\n",
       "      <td>...</td>\n",
       "      <td>$364000000.0</td>\n",
       "      <td>$36400000.0</td>\n",
       "      <td>2024-01-17 20:54:03.3001599</td>\n",
       "      <td>2024-08-23 07:11:00.0000000</td>\n",
       "      <td>2024-08-22 21:03:45.672865800</td>\n",
       "      <td>28</td>\n",
       "      <td>CO1.PPI.33808340</td>\n",
       "      <td>Borrador</td>\n",
       "      <td>Caldas</td>\n",
       "      <td>La Dorada</td>\n",
       "    </tr>\n",
       "    <tr>\n",
       "      <th>3</th>\n",
       "      <td>CO1.APP.2041074</td>\n",
       "      <td>MarketplaceCO1538121</td>\n",
       "      <td>2024</td>\n",
       "      <td>723119863</td>\n",
       "      <td>COOAGUAS DE PUEBLO NUEVO E.S.P.</td>\n",
       "      <td>MISION LA ADMINISTRACION PBLICA COOPERATIVA EM...</td>\n",
       "      <td>POLITICA DE CALIDAD Somos un organismo pblico ...</td>\n",
       "      <td>CARLOS FERNANDO GERMAN CALAO</td>\n",
       "      <td>3127695263</td>\n",
       "      <td>carlosgcalao@outlook.com</td>\n",
       "      <td>...</td>\n",
       "      <td>174000000.0</td>\n",
       "      <td>116000000.0</td>\n",
       "      <td>2024-02-01 02:01:48.3772533</td>\n",
       "      <td>2024-08-23 07:11:00.0000000</td>\n",
       "      <td>2024-08-22 19:47:30.908245300</td>\n",
       "      <td>2</td>\n",
       "      <td>CO1.PPI.33805980</td>\n",
       "      <td>Borrador</td>\n",
       "      <td>Córdoba</td>\n",
       "      <td>Pueblo Nuevo</td>\n",
       "    </tr>\n",
       "    <tr>\n",
       "      <th>4</th>\n",
       "      <td>CO1.APP.2041030</td>\n",
       "      <td>MarketplaceCO1415172</td>\n",
       "      <td>2024</td>\n",
       "      <td>705153815</td>\n",
       "      <td>MUNICIPIO DE LA PLATA</td>\n",
       "      <td>Gestionar servir a la comunidad promover el bi...</td>\n",
       "      <td>A travs de la implementacin del presente Plan ...</td>\n",
       "      <td>CRISTINA HOLGUIN GRISALES</td>\n",
       "      <td>3223001245</td>\n",
       "      <td>almacen@laplata-huila.gov.co</td>\n",
       "      <td>...</td>\n",
       "      <td>$364000000.0</td>\n",
       "      <td>$36400000.0</td>\n",
       "      <td>2024-01-10 15:55:50.6223556</td>\n",
       "      <td>2024-08-23 07:11:00.0000000</td>\n",
       "      <td>2024-08-22 15:48:03.701324800</td>\n",
       "      <td>148</td>\n",
       "      <td>CO1.PPI.33799556</td>\n",
       "      <td>Publicado</td>\n",
       "      <td>Huila</td>\n",
       "      <td>La Plata</td>\n",
       "    </tr>\n",
       "  </tbody>\n",
       "</table>\n",
       "<p>5 rows × 21 columns</p>\n",
       "</div>"
      ],
      "text/plain": [
       "  identificador_unico id_plan_anual_de_adquisiciones  anno nit_entidad  \\\n",
       "0     CO1.APP.2041264           MarketplaceCO1538159  2024   721520377   \n",
       "1     CO1.APP.2041602           MarketplaceCO1538240  2024   718938582   \n",
       "2     CO1.APP.2041198           MarketplaceCO1538184  2024   703036004   \n",
       "3     CO1.APP.2041074           MarketplaceCO1538121  2024   723119863   \n",
       "4     CO1.APP.2041030           MarketplaceCO1415172  2024   705153815   \n",
       "\n",
       "                                    nombre_entidad  \\\n",
       "0  INSTITUCION EDUCATIVA AGROPECUARIA MAXIMO GOMEZ   \n",
       "1       INSTITUCION EDUCATIVA MUNICIPAL EL SOCORRO   \n",
       "2                              MUNICIPIO LA DORADA   \n",
       "3                  COOAGUAS DE PUEBLO NUEVO E.S.P.   \n",
       "4                            MUNICIPIO DE LA PLATA   \n",
       "\n",
       "                                       mision_vision  \\\n",
       "0  MISION 2023 2026 La Institucin Educativa Agrop...   \n",
       "1  MISION Brindar una formacin acadmica que forme...   \n",
       "2  La administracin municipal regir los destinos ...   \n",
       "3  MISION LA ADMINISTRACION PBLICA COOPERATIVA EM...   \n",
       "4  Gestionar servir a la comunidad promover el bi...   \n",
       "\n",
       "                             perspectiva_estrategica  \\\n",
       "0  Ser una institucin destacada por sus estrategi...   \n",
       "1  El proceso de formacin de los educandos debe e...   \n",
       "2  La Dorada ser un municipio competitivo y soste...   \n",
       "3  POLITICA DE CALIDAD Somos un organismo pblico ...   \n",
       "4  A travs de la implementacin del presente Plan ...   \n",
       "\n",
       "                 nombre_contacto telefono_contacto  \\\n",
       "0  MARIA EUGENIA LEDESMA LLANTEN        3104661182   \n",
       "1        RAFAEL BASTIDAS SANCHEZ        3136820189   \n",
       "2  JULIAN DAVID OLIVEROS SERRANO           8572013   \n",
       "3   CARLOS FERNANDO GERMAN CALAO        3127695263   \n",
       "4      CRISTINA HOLGUIN GRISALES        3223001245   \n",
       "\n",
       "                  correo_contacto  ... presupuesto_menor_cuantia  \\\n",
       "0  mariaeugenia.maestra@gmail.com  ...               $26000000.0   \n",
       "1        rafabastidas@hotmail.com  ...              $845000000.0   \n",
       "2  compras@ladorada-caldas.gov.co  ...              $364000000.0   \n",
       "3        carlosgcalao@outlook.com  ...               174000000.0   \n",
       "4    almacen@laplata-huila.gov.co  ...              $364000000.0   \n",
       "\n",
       "  presupuesto_minima_cuantia         fecha_de_publicacion  \\\n",
       "0                 $2600000.0  2024-07-31 03:47:42.6041815   \n",
       "1                $84500000.0  2024-01-31 16:19:08.5384812   \n",
       "2                $36400000.0  2024-01-17 20:54:03.3001599   \n",
       "3                116000000.0  2024-02-01 02:01:48.3772533   \n",
       "4                $36400000.0  2024-01-10 15:55:50.6223556   \n",
       "\n",
       "             fecha_de_creacion   fecha_de_ultima_modificacion version  \\\n",
       "0  2024-08-23 07:11:00.0000000  2024-08-22 20:32:26.391947400       2   \n",
       "1  2024-08-23 07:11:00.0000000  2024-08-22 22:00:52.607658300      13   \n",
       "2  2024-08-23 07:11:00.0000000  2024-08-22 21:03:45.672865800      28   \n",
       "3  2024-08-23 07:11:00.0000000  2024-08-22 19:47:30.908245300       2   \n",
       "4  2024-08-23 07:11:00.0000000  2024-08-22 15:48:03.701324800     148   \n",
       "\n",
       "   identificador_requerimiento_compra           estado departamento_paa  \\\n",
       "0                    CO1.PPI.33807381         Borrador            Cauca   \n",
       "1                    CO1.PPI.33809817  No especificado           Nariño   \n",
       "2                    CO1.PPI.33808340         Borrador           Caldas   \n",
       "3                    CO1.PPI.33805980         Borrador          Córdoba   \n",
       "4                    CO1.PPI.33799556        Publicado            Huila   \n",
       "\n",
       "  municipio_paa  \n",
       "0       Cajibío  \n",
       "1         Pasto  \n",
       "2     La Dorada  \n",
       "3  Pueblo Nuevo  \n",
       "4      La Plata  \n",
       "\n",
       "[5 rows x 21 columns]"
      ]
     },
     "execution_count": 44,
     "metadata": {},
     "output_type": "execute_result"
    }
   ],
   "source": [
    "df2.head()"
   ]
  },
  {
   "cell_type": "code",
   "execution_count": 45,
   "metadata": {},
   "outputs": [
    {
     "name": "stdout",
     "output_type": "stream",
     "text": [
      "<class 'pandas.core.frame.DataFrame'>\n",
      "RangeIndex: 1000 entries, 0 to 999\n",
      "Data columns (total 19 columns):\n",
      " #   Column                      Non-Null Count  Dtype \n",
      "---  ------                      --------------  ----- \n",
      " 0   identificador_paa           1000 non-null   int64 \n",
      " 1   codigo_entidad              1000 non-null   int64 \n",
      " 2   nombre_entidad              1000 non-null   object\n",
      " 3   nit_entidad                 1000 non-null   object\n",
      " 4   anno_paa                    1000 non-null   int64 \n",
      " 5   direccion_entidad           1000 non-null   object\n",
      " 6   telefono_entidad            1000 non-null   object\n",
      " 7   mision_y_vision             997 non-null    object\n",
      " 8   perspectiva_estrategica     950 non-null    object\n",
      " 9   info_contacto               998 non-null    object\n",
      " 10  ppto_total                  998 non-null    object\n",
      " 11  limite_menor_cuantia        990 non-null    object\n",
      " 12  limite_minima_cuantia       990 non-null    object\n",
      " 13  fecha_ultima_actualizacion  989 non-null    object\n",
      " 14  fecha_cargue                1000 non-null   object\n",
      " 15  municipio_paa               1000 non-null   object\n",
      " 16  departamento_paa            1000 non-null   object\n",
      " 17  localidad_paa               1000 non-null   object\n",
      " 18  codigo_municipio            1000 non-null   int64 \n",
      "dtypes: int64(4), object(15)\n",
      "memory usage: 148.6+ KB\n"
     ]
    }
   ],
   "source": [
    "# revisar tamaño de los datasets y los tipos de datos\n",
    "\n",
    "df1.info()"
   ]
  },
  {
   "cell_type": "code",
   "execution_count": 46,
   "metadata": {},
   "outputs": [
    {
     "name": "stdout",
     "output_type": "stream",
     "text": [
      "<class 'pandas.core.frame.DataFrame'>\n",
      "RangeIndex: 1000 entries, 0 to 999\n",
      "Data columns (total 21 columns):\n",
      " #   Column                              Non-Null Count  Dtype \n",
      "---  ------                              --------------  ----- \n",
      " 0   identificador_unico                 1000 non-null   object\n",
      " 1   id_plan_anual_de_adquisiciones      1000 non-null   object\n",
      " 2   anno                                1000 non-null   int64 \n",
      " 3   nit_entidad                         1000 non-null   object\n",
      " 4   nombre_entidad                      1000 non-null   object\n",
      " 5   mision_vision                       1000 non-null   object\n",
      " 6   perspectiva_estrategica             1000 non-null   object\n",
      " 7   nombre_contacto                     1000 non-null   object\n",
      " 8   telefono_contacto                   1000 non-null   object\n",
      " 9   correo_contacto                     1000 non-null   object\n",
      " 10  valor_presupuesto_general           1000 non-null   object\n",
      " 11  presupuesto_menor_cuantia           1000 non-null   object\n",
      " 12  presupuesto_minima_cuantia          1000 non-null   object\n",
      " 13  fecha_de_publicacion                1000 non-null   object\n",
      " 14  fecha_de_creacion                   1000 non-null   object\n",
      " 15  fecha_de_ultima_modificacion        1000 non-null   object\n",
      " 16  version                             1000 non-null   int64 \n",
      " 17  identificador_requerimiento_compra  1000 non-null   object\n",
      " 18  estado                              1000 non-null   object\n",
      " 19  departamento_paa                    1000 non-null   object\n",
      " 20  municipio_paa                       1000 non-null   object\n",
      "dtypes: int64(2), object(19)\n",
      "memory usage: 164.2+ KB\n"
     ]
    }
   ],
   "source": [
    "df2.info()"
   ]
  },
  {
   "cell_type": "markdown",
   "metadata": {},
   "source": [
    "### Análisis inicial\n",
    "\n",
    "* Encontramos dos dataset, ambos con 1000 registros, el df1 con 19 columnas de datos, el df2 con 21 columnas.\n",
    "* En el df1 se observan valores nulos en las columnas `mision_y_vision`. `perspectiva_estrategica`, `info_contacto`, `ppto_total`, `limite_menor_cuantica`, `limite_minima_cuantica` y `fecha_ultima_actualizacion`.\n",
    "* En el df1 encontramos 4 variables `int64` y 15 de tipo `object`\n",
    "* En el df2 encontramos 2 variables `int64` y 19 de tipo `object`\n",
    "* En ambos dataset se observan columnas que deberían ser de tipo `int64`, ya que pueden ser usadas para cálculos numéricos, y columnas que deberían ser de tipo `datetime`, ya que pueden ser usadas para agrupaciones en tiempo o series de tiempo.\n",
    "* En ambos dataset se requiere estandarizar el número de caracteres de la columna NIT para poder cruzar la información de un dataset con otro"
   ]
  },
  {
   "cell_type": "code",
   "execution_count": 47,
   "metadata": {},
   "outputs": [
    {
     "data": {
      "text/plain": [
       "identificador_paa              0\n",
       "codigo_entidad                 0\n",
       "nombre_entidad                 0\n",
       "nit_entidad                    0\n",
       "anno_paa                       0\n",
       "direccion_entidad              0\n",
       "telefono_entidad               0\n",
       "mision_y_vision                3\n",
       "perspectiva_estrategica       50\n",
       "info_contacto                  2\n",
       "ppto_total                     2\n",
       "limite_menor_cuantia          10\n",
       "limite_minima_cuantia         10\n",
       "fecha_ultima_actualizacion    11\n",
       "fecha_cargue                   0\n",
       "municipio_paa                  0\n",
       "departamento_paa               0\n",
       "localidad_paa                  0\n",
       "codigo_municipio               0\n",
       "dtype: int64"
      ]
     },
     "execution_count": 47,
     "metadata": {},
     "output_type": "execute_result"
    }
   ],
   "source": [
    "# revisar si hay valores nulos\n",
    "\n",
    "df1.isnull().sum()"
   ]
  },
  {
   "cell_type": "code",
   "execution_count": 48,
   "metadata": {},
   "outputs": [
    {
     "data": {
      "text/plain": [
       "identificador_unico                   0\n",
       "id_plan_anual_de_adquisiciones        0\n",
       "anno                                  0\n",
       "nit_entidad                           0\n",
       "nombre_entidad                        0\n",
       "mision_vision                         0\n",
       "perspectiva_estrategica               0\n",
       "nombre_contacto                       0\n",
       "telefono_contacto                     0\n",
       "correo_contacto                       0\n",
       "valor_presupuesto_general             0\n",
       "presupuesto_menor_cuantia             0\n",
       "presupuesto_minima_cuantia            0\n",
       "fecha_de_publicacion                  0\n",
       "fecha_de_creacion                     0\n",
       "fecha_de_ultima_modificacion          0\n",
       "version                               0\n",
       "identificador_requerimiento_compra    0\n",
       "estado                                0\n",
       "departamento_paa                      0\n",
       "municipio_paa                         0\n",
       "dtype: int64"
      ]
     },
     "execution_count": 48,
     "metadata": {},
     "output_type": "execute_result"
    }
   ],
   "source": [
    "df2.isnull().sum()"
   ]
  },
  {
   "cell_type": "code",
   "execution_count": 49,
   "metadata": {},
   "outputs": [],
   "source": [
    "# quitar valores nulos\n",
    "\n",
    "df1 = df1.dropna()"
   ]
  },
  {
   "cell_type": "code",
   "execution_count": 50,
   "metadata": {},
   "outputs": [
    {
     "data": {
      "text/plain": [
       "identificador_paa             0\n",
       "codigo_entidad                0\n",
       "nombre_entidad                0\n",
       "nit_entidad                   0\n",
       "anno_paa                      0\n",
       "direccion_entidad             0\n",
       "telefono_entidad              0\n",
       "mision_y_vision               0\n",
       "perspectiva_estrategica       0\n",
       "info_contacto                 0\n",
       "ppto_total                    0\n",
       "limite_menor_cuantia          0\n",
       "limite_minima_cuantia         0\n",
       "fecha_ultima_actualizacion    0\n",
       "fecha_cargue                  0\n",
       "municipio_paa                 0\n",
       "departamento_paa              0\n",
       "localidad_paa                 0\n",
       "codigo_municipio              0\n",
       "dtype: int64"
      ]
     },
     "execution_count": 50,
     "metadata": {},
     "output_type": "execute_result"
    }
   ],
   "source": [
    "df1.isnull().sum()"
   ]
  },
  {
   "cell_type": "code",
   "execution_count": 51,
   "metadata": {},
   "outputs": [
    {
     "data": {
      "text/plain": [
       "np.int64(0)"
      ]
     },
     "execution_count": 51,
     "metadata": {},
     "output_type": "execute_result"
    }
   ],
   "source": [
    "# revisar si hay valores duplicados\n",
    "\n",
    "df1.duplicated().sum()"
   ]
  },
  {
   "cell_type": "code",
   "execution_count": 52,
   "metadata": {},
   "outputs": [
    {
     "data": {
      "text/plain": [
       "np.int64(0)"
      ]
     },
     "execution_count": 52,
     "metadata": {},
     "output_type": "execute_result"
    }
   ],
   "source": [
    "df2.duplicated().sum()"
   ]
  },
  {
   "cell_type": "code",
   "execution_count": 53,
   "metadata": {},
   "outputs": [],
   "source": [
    "# seleccionar las columnas que se van a utilizar\n",
    "\n",
    "cols_df1 = [\"nombre_entidad\", \"nit_entidad\", \"anno_paa\", \"ppto_total\", \"limite_menor_cuantia\", \n",
    "            \"limite_minima_cuantia\", \"fecha_cargue\", \"departamento_paa\", \n",
    "            \"municipio_paa\"]\n",
    "\n",
    "cols_df2 = [\"nombre_entidad\", \"nit_entidad\", \"anno\", \"valor_presupuesto_general\", \"presupuesto_menor_cuantia\", \n",
    "            \"presupuesto_minima_cuantia\", \"fecha_de_creacion\", \"departamento_paa\", \n",
    "            \"municipio_paa\"]"
   ]
  },
  {
   "cell_type": "code",
   "execution_count": 54,
   "metadata": {},
   "outputs": [],
   "source": [
    "# filtrar el df con las columnas seleccionadas\n",
    "\n",
    "df1 = df1[cols_df1]\n",
    "df2 = df2[cols_df2]"
   ]
  },
  {
   "cell_type": "code",
   "execution_count": 55,
   "metadata": {},
   "outputs": [],
   "source": [
    "# renombrar las columnas del df2\n",
    "\n",
    "df2.columns = cols_df1"
   ]
  },
  {
   "cell_type": "code",
   "execution_count": 56,
   "metadata": {},
   "outputs": [],
   "source": [
    "# concatenar los dos datasets\n",
    "\n",
    "df = pd.concat([df1, df2])"
   ]
  },
  {
   "cell_type": "code",
   "execution_count": 57,
   "metadata": {},
   "outputs": [
    {
     "data": {
      "text/html": [
       "<div>\n",
       "<style scoped>\n",
       "    .dataframe tbody tr th:only-of-type {\n",
       "        vertical-align: middle;\n",
       "    }\n",
       "\n",
       "    .dataframe tbody tr th {\n",
       "        vertical-align: top;\n",
       "    }\n",
       "\n",
       "    .dataframe thead th {\n",
       "        text-align: right;\n",
       "    }\n",
       "</style>\n",
       "<table border=\"1\" class=\"dataframe\">\n",
       "  <thead>\n",
       "    <tr style=\"text-align: right;\">\n",
       "      <th></th>\n",
       "      <th>nombre_entidad</th>\n",
       "      <th>nit_entidad</th>\n",
       "      <th>anno_paa</th>\n",
       "      <th>ppto_total</th>\n",
       "      <th>limite_menor_cuantia</th>\n",
       "      <th>limite_minima_cuantia</th>\n",
       "      <th>fecha_cargue</th>\n",
       "      <th>departamento_paa</th>\n",
       "      <th>municipio_paa</th>\n",
       "    </tr>\n",
       "  </thead>\n",
       "  <tbody>\n",
       "    <tr>\n",
       "      <th>1</th>\n",
       "      <td>ANTIOQUIA  INSTITUCIN EDUCATIVA DBORA ARANGO P...</td>\n",
       "      <td>900196642</td>\n",
       "      <td>2022</td>\n",
       "      <td>$84026639</td>\n",
       "      <td>0</td>\n",
       "      <td>20000000</td>\n",
       "      <td>2022-01-26T09:43:07.000</td>\n",
       "      <td>Antioquia</td>\n",
       "      <td>Medellín</td>\n",
       "    </tr>\n",
       "    <tr>\n",
       "      <th>2</th>\n",
       "      <td>PUTUMAYO  CENTRO EDUCATIVO RURAL SAUDITA  PUER...</td>\n",
       "      <td>846004233-5</td>\n",
       "      <td>2021</td>\n",
       "      <td>$107700000</td>\n",
       "      <td>254387280</td>\n",
       "      <td>$25438728</td>\n",
       "      <td>2021-01-28T02:34:58.000</td>\n",
       "      <td>Putumayo</td>\n",
       "      <td>Puerto Guzmán</td>\n",
       "    </tr>\n",
       "    <tr>\n",
       "      <th>3</th>\n",
       "      <td>ANTIOQUIA  INSTITUCIN EDUCATIVA SAN CRISTBAL  ...</td>\n",
       "      <td>811017472</td>\n",
       "      <td>2021</td>\n",
       "      <td>La Institucin educativa San Cristbal Lder en l...</td>\n",
       "      <td>JOSE CHARLES VELEZ BETANCURRectoriesancristoba...</td>\n",
       "      <td>159239220</td>\n",
       "      <td>2021-01-29T04:15:31.000</td>\n",
       "      <td>Antioquia</td>\n",
       "      <td>Medellín</td>\n",
       "    </tr>\n",
       "    <tr>\n",
       "      <th>4</th>\n",
       "      <td>META  CENTRO EDUCATIVO RURAL JOSE MARIA GUIOTH...</td>\n",
       "      <td>900134298-9</td>\n",
       "      <td>2022</td>\n",
       "      <td>$22500000</td>\n",
       "      <td>280000000</td>\n",
       "      <td>$28000000</td>\n",
       "      <td>2022-01-28T07:06:52.000</td>\n",
       "      <td>Meta</td>\n",
       "      <td>Cumaral</td>\n",
       "    </tr>\n",
       "    <tr>\n",
       "      <th>5</th>\n",
       "      <td>BOYAC  ESE SALUD PAZ DE RO</td>\n",
       "      <td>826002718-1</td>\n",
       "      <td>2022</td>\n",
       "      <td>653119872</td>\n",
       "      <td>20 SMMLV SEGN ACUERDO No 02 DEL 08 DE ENERO DE...</td>\n",
       "      <td>$20 SMMLV</td>\n",
       "      <td>2022-01-31T06:12:36.000</td>\n",
       "      <td>Boyacá</td>\n",
       "      <td>Paz de Río</td>\n",
       "    </tr>\n",
       "  </tbody>\n",
       "</table>\n",
       "</div>"
      ],
      "text/plain": [
       "                                      nombre_entidad  nit_entidad  anno_paa  \\\n",
       "1  ANTIOQUIA  INSTITUCIN EDUCATIVA DBORA ARANGO P...    900196642      2022   \n",
       "2  PUTUMAYO  CENTRO EDUCATIVO RURAL SAUDITA  PUER...  846004233-5      2021   \n",
       "3  ANTIOQUIA  INSTITUCIN EDUCATIVA SAN CRISTBAL  ...    811017472      2021   \n",
       "4  META  CENTRO EDUCATIVO RURAL JOSE MARIA GUIOTH...  900134298-9      2022   \n",
       "5                       BOYAC  ESE SALUD PAZ DE RO    826002718-1      2022   \n",
       "\n",
       "                                          ppto_total  \\\n",
       "1                                          $84026639   \n",
       "2                                         $107700000   \n",
       "3  La Institucin educativa San Cristbal Lder en l...   \n",
       "4                                          $22500000   \n",
       "5                                          653119872   \n",
       "\n",
       "                                limite_menor_cuantia limite_minima_cuantia  \\\n",
       "1                                                  0              20000000   \n",
       "2                                          254387280             $25438728   \n",
       "3  JOSE CHARLES VELEZ BETANCURRectoriesancristoba...             159239220   \n",
       "4                                          280000000             $28000000   \n",
       "5  20 SMMLV SEGN ACUERDO No 02 DEL 08 DE ENERO DE...             $20 SMMLV   \n",
       "\n",
       "              fecha_cargue departamento_paa  municipio_paa  \n",
       "1  2022-01-26T09:43:07.000        Antioquia       Medellín  \n",
       "2  2021-01-28T02:34:58.000         Putumayo  Puerto Guzmán  \n",
       "3  2021-01-29T04:15:31.000        Antioquia       Medellín  \n",
       "4  2022-01-28T07:06:52.000             Meta        Cumaral  \n",
       "5  2022-01-31T06:12:36.000           Boyacá     Paz de Río  "
      ]
     },
     "execution_count": 57,
     "metadata": {},
     "output_type": "execute_result"
    }
   ],
   "source": [
    "# revisar los datos\n",
    "\n",
    "df.head()"
   ]
  },
  {
   "cell_type": "code",
   "execution_count": 58,
   "metadata": {},
   "outputs": [
    {
     "name": "stdout",
     "output_type": "stream",
     "text": [
      "<class 'pandas.core.frame.DataFrame'>\n",
      "Index: 1922 entries, 1 to 999\n",
      "Data columns (total 9 columns):\n",
      " #   Column                 Non-Null Count  Dtype \n",
      "---  ------                 --------------  ----- \n",
      " 0   nombre_entidad         1922 non-null   object\n",
      " 1   nit_entidad            1922 non-null   object\n",
      " 2   anno_paa               1922 non-null   int64 \n",
      " 3   ppto_total             1922 non-null   object\n",
      " 4   limite_menor_cuantia   1922 non-null   object\n",
      " 5   limite_minima_cuantia  1922 non-null   object\n",
      " 6   fecha_cargue           1922 non-null   object\n",
      " 7   departamento_paa       1922 non-null   object\n",
      " 8   municipio_paa          1922 non-null   object\n",
      "dtypes: int64(1), object(8)\n",
      "memory usage: 150.2+ KB\n"
     ]
    }
   ],
   "source": [
    "# revisar el tamaño del df y los tipos de datos\n",
    "\n",
    "df.info()"
   ]
  },
  {
   "cell_type": "code",
   "execution_count": 59,
   "metadata": {},
   "outputs": [
    {
     "data": {
      "text/plain": [
       "np.int64(0)"
      ]
     },
     "execution_count": 59,
     "metadata": {},
     "output_type": "execute_result"
    }
   ],
   "source": [
    "# revisar valores duplicados\n",
    "\n",
    "df.duplicated().sum()"
   ]
  },
  {
   "cell_type": "code",
   "execution_count": 60,
   "metadata": {},
   "outputs": [
    {
     "data": {
      "text/plain": [
       "1                                               84026639\n",
       "2                                              107700000\n",
       "3      La Institucin educativa San Cristbal Lder en l...\n",
       "4                                               22500000\n",
       "5                                              653119872\n",
       "                             ...                        \n",
       "995                                          27027845416\n",
       "996                                             40200000\n",
       "997                                            899802000\n",
       "998                                             31902500\n",
       "999                                             64800000\n",
       "Name: ppto_total, Length: 1922, dtype: object"
      ]
     },
     "execution_count": 60,
     "metadata": {},
     "output_type": "execute_result"
    }
   ],
   "source": [
    "# limpiar las columnas que tienen simbolo de pesos ($), (.) y (,)\n",
    "\n",
    "\n",
    "def borrar_simbolo(df, simbolo):\n",
    "    for col in df.columns:\n",
    "        if df[col].dtype == \"object\":\n",
    "            df[col] = df[col].str.replace(simbolo, \"\")\n",
    "\n",
    "\n",
    "\n",
    "# borrar los simbolos de pesos\n",
    "borrar_simbolo(df, \"$\")\n",
    "\n",
    "# borrar los simbolos de puntos y 0\n",
    "borrar_simbolo(df, \".0\")\n",
    "\n",
    "# borrar los simbolos de coma\n",
    "borrar_simbolo(df, \",\")\n",
    "\n",
    "# revisar los datos\n",
    "\n",
    "df.ppto_total"
   ]
  },
  {
   "cell_type": "code",
   "execution_count": 61,
   "metadata": {},
   "outputs": [],
   "source": [
    "# eliminar datos que no sean tipo numerico\n",
    "\n",
    "numericas = [\"ppto_total\", \"limite_menor_cuantia\", \"limite_minima_cuantia\"]\n",
    "\n",
    "\n",
    "def eliminar_no_numericos(df, cols: list):\n",
    "    for col in cols:\n",
    "        df = df[df[col].apply(lambda x: x.isnumeric())]\n",
    "    return df\n",
    "\n",
    "\n",
    "# limpiar las columnas que tienen diferente tipo de dato\n",
    "\n",
    "def cambiar_a_float(df, cols: list):\n",
    "    for col in cols:\n",
    "        df[col] = df[col].astype(float)\n",
    "    return df\n",
    "\n",
    "df = eliminar_no_numericos(df, numericas)\n",
    "\n",
    "df = cambiar_a_float(df, numericas)\n",
    "\n",
    "\n"
   ]
  },
  {
   "cell_type": "code",
   "execution_count": 62,
   "metadata": {},
   "outputs": [
    {
     "data": {
      "text/html": [
       "<div>\n",
       "<style scoped>\n",
       "    .dataframe tbody tr th:only-of-type {\n",
       "        vertical-align: middle;\n",
       "    }\n",
       "\n",
       "    .dataframe tbody tr th {\n",
       "        vertical-align: top;\n",
       "    }\n",
       "\n",
       "    .dataframe thead th {\n",
       "        text-align: right;\n",
       "    }\n",
       "</style>\n",
       "<table border=\"1\" class=\"dataframe\">\n",
       "  <thead>\n",
       "    <tr style=\"text-align: right;\">\n",
       "      <th></th>\n",
       "      <th>anno_paa</th>\n",
       "      <th>ppto_total</th>\n",
       "      <th>limite_menor_cuantia</th>\n",
       "      <th>limite_minima_cuantia</th>\n",
       "    </tr>\n",
       "  </thead>\n",
       "  <tbody>\n",
       "    <tr>\n",
       "      <th>count</th>\n",
       "      <td>1698.000000</td>\n",
       "      <td>1.698000e+03</td>\n",
       "      <td>1.698000e+03</td>\n",
       "      <td>1.698000e+03</td>\n",
       "    </tr>\n",
       "    <tr>\n",
       "      <th>mean</th>\n",
       "      <td>2022.430506</td>\n",
       "      <td>2.945421e+11</td>\n",
       "      <td>1.682600e+09</td>\n",
       "      <td>5.013227e+08</td>\n",
       "    </tr>\n",
       "    <tr>\n",
       "      <th>std</th>\n",
       "      <td>1.479839</td>\n",
       "      <td>2.665499e+12</td>\n",
       "      <td>2.035664e+10</td>\n",
       "      <td>1.069641e+10</td>\n",
       "    </tr>\n",
       "    <tr>\n",
       "      <th>min</th>\n",
       "      <td>2016.000000</td>\n",
       "      <td>0.000000e+00</td>\n",
       "      <td>0.000000e+00</td>\n",
       "      <td>0.000000e+00</td>\n",
       "    </tr>\n",
       "    <tr>\n",
       "      <th>25%</th>\n",
       "      <td>2021.000000</td>\n",
       "      <td>6.996037e+07</td>\n",
       "      <td>2.543873e+08</td>\n",
       "      <td>2.543873e+07</td>\n",
       "    </tr>\n",
       "    <tr>\n",
       "      <th>50%</th>\n",
       "      <td>2022.000000</td>\n",
       "      <td>3.068712e+08</td>\n",
       "      <td>2.800000e+08</td>\n",
       "      <td>3.248000e+07</td>\n",
       "    </tr>\n",
       "    <tr>\n",
       "      <th>75%</th>\n",
       "      <td>2024.000000</td>\n",
       "      <td>1.263978e+10</td>\n",
       "      <td>3.640000e+08</td>\n",
       "      <td>3.640000e+07</td>\n",
       "    </tr>\n",
       "    <tr>\n",
       "      <th>max</th>\n",
       "      <td>2025.000000</td>\n",
       "      <td>6.279704e+13</td>\n",
       "      <td>5.850000e+11</td>\n",
       "      <td>4.236674e+11</td>\n",
       "    </tr>\n",
       "  </tbody>\n",
       "</table>\n",
       "</div>"
      ],
      "text/plain": [
       "          anno_paa    ppto_total  limite_menor_cuantia  limite_minima_cuantia\n",
       "count  1698.000000  1.698000e+03          1.698000e+03           1.698000e+03\n",
       "mean   2022.430506  2.945421e+11          1.682600e+09           5.013227e+08\n",
       "std       1.479839  2.665499e+12          2.035664e+10           1.069641e+10\n",
       "min    2016.000000  0.000000e+00          0.000000e+00           0.000000e+00\n",
       "25%    2021.000000  6.996037e+07          2.543873e+08           2.543873e+07\n",
       "50%    2022.000000  3.068712e+08          2.800000e+08           3.248000e+07\n",
       "75%    2024.000000  1.263978e+10          3.640000e+08           3.640000e+07\n",
       "max    2025.000000  6.279704e+13          5.850000e+11           4.236674e+11"
      ]
     },
     "execution_count": 62,
     "metadata": {},
     "output_type": "execute_result"
    }
   ],
   "source": [
    "# revisar los estadisticos del df\n",
    "\n",
    "df.describe()\n"
   ]
  },
  {
   "cell_type": "code",
   "execution_count": 63,
   "metadata": {},
   "outputs": [],
   "source": [
    "# recortar las columnas de fecha hasta los primeros 10 caracteres\n",
    "\n",
    "df[\"fecha_cargue\"] = df[\"fecha_cargue\"].str[:10]\n"
   ]
  },
  {
   "cell_type": "code",
   "execution_count": 64,
   "metadata": {},
   "outputs": [],
   "source": [
    "# cambiar tipo de dato a fecha\n",
    "\n",
    "def cambiar_a_fecha(df, cols: list):\n",
    "    for col in cols:\n",
    "        df[col] = pd.to_datetime(df[col])\n",
    "    return df\n",
    "\n",
    "# cambiar a fecha las columnas de fecha\n",
    "\n",
    "fechas = [\"fecha_cargue\"]\n",
    "\n",
    "df = cambiar_a_fecha(df, fechas)"
   ]
  },
  {
   "cell_type": "code",
   "execution_count": 65,
   "metadata": {},
   "outputs": [
    {
     "name": "stdout",
     "output_type": "stream",
     "text": [
      "<class 'pandas.core.frame.DataFrame'>\n",
      "Index: 1698 entries, 1 to 999\n",
      "Data columns (total 9 columns):\n",
      " #   Column                 Non-Null Count  Dtype         \n",
      "---  ------                 --------------  -----         \n",
      " 0   nombre_entidad         1698 non-null   object        \n",
      " 1   nit_entidad            1698 non-null   object        \n",
      " 2   anno_paa               1698 non-null   int64         \n",
      " 3   ppto_total             1698 non-null   float64       \n",
      " 4   limite_menor_cuantia   1698 non-null   float64       \n",
      " 5   limite_minima_cuantia  1698 non-null   float64       \n",
      " 6   fecha_cargue           1698 non-null   datetime64[ns]\n",
      " 7   departamento_paa       1698 non-null   object        \n",
      " 8   municipio_paa          1698 non-null   object        \n",
      "dtypes: datetime64[ns](1), float64(3), int64(1), object(4)\n",
      "memory usage: 132.7+ KB\n"
     ]
    }
   ],
   "source": [
    "# revisar los tipos de datos\n",
    "\n",
    "df.info()"
   ]
  },
  {
   "cell_type": "markdown",
   "metadata": {},
   "source": [
    "### Análisis después de la limpieza\n",
    "\n",
    "* El dataset limpio contiene 1698 filas y 9 columnas\n",
    "* 4 columnas de tipo `object`, 1 columna `int64`, 3 columnas `float64` y 1 columna tipo `datetime64[ns]`\n",
    "\n",
    "Podemos revisar algunas variables entendiendo su comportamiento en función con otras variables, los patrones en los datos permiten entender como afecta el comportamiento de unas variables con otras.\n"
   ]
  },
  {
   "cell_type": "code",
   "execution_count": 66,
   "metadata": {},
   "outputs": [],
   "source": [
    "# importar librerias para graficar\n",
    "\n",
    "import seaborn as sns\n",
    "import matplotlib.pyplot as plt"
   ]
  },
  {
   "cell_type": "code",
   "execution_count": 67,
   "metadata": {},
   "outputs": [
    {
     "name": "stderr",
     "output_type": "stream",
     "text": [
      "c:\\Users\\ingen\\Documents\\estudio\\especializacion_ml\\esp_ml_env\\Lib\\site-packages\\pandas\\core\\arraylike.py:399: RuntimeWarning: divide by zero encountered in log\n",
      "  result = getattr(ufunc, method)(*inputs, **kwargs)\n"
     ]
    },
    {
     "data": {
      "text/plain": [
       "<Axes: xlabel='ppto_total', ylabel='Count'>"
      ]
     },
     "execution_count": 67,
     "metadata": {},
     "output_type": "execute_result"
    },
    {
     "data": {
      "image/png": "[encoded data removed]",
      "text/plain": [
       "<Figure size 640x480 with 1 Axes>"
      ]
     },
     "metadata": {},
     "output_type": "display_data"
    }
   ],
   "source": [
    "# graficar la distribucion de las variables numericas\n",
    "\n",
    "sns.histplot(np.log(df[\"ppto_total\"]), kde=True)"
   ]
  },
  {
   "cell_type": "code",
   "execution_count": 68,
   "metadata": {},
   "outputs": [
    {
     "name": "stderr",
     "output_type": "stream",
     "text": [
      "c:\\Users\\ingen\\Documents\\estudio\\especializacion_ml\\esp_ml_env\\Lib\\site-packages\\pandas\\core\\arraylike.py:399: RuntimeWarning: divide by zero encountered in log\n",
      "  result = getattr(ufunc, method)(*inputs, **kwargs)\n"
     ]
    },
    {
     "data": {
      "text/plain": [
       "<Axes: xlabel='limite_menor_cuantia', ylabel='Count'>"
      ]
     },
     "execution_count": 68,
     "metadata": {},
     "output_type": "execute_result"
    },
    {
     "data": {
      "image/png": "[encoded data removed]",
      "text/plain": [
       "<Figure size 640x480 with 1 Axes>"
      ]
     },
     "metadata": {},
     "output_type": "display_data"
    }
   ],
   "source": [
    "sns.histplot(np.log(df[\"limite_menor_cuantia\"]), kde=True)"
   ]
  },
  {
   "cell_type": "code",
   "execution_count": 69,
   "metadata": {},
   "outputs": [
    {
     "name": "stderr",
     "output_type": "stream",
     "text": [
      "c:\\Users\\ingen\\Documents\\estudio\\especializacion_ml\\esp_ml_env\\Lib\\site-packages\\pandas\\core\\arraylike.py:399: RuntimeWarning: divide by zero encountered in log\n",
      "  result = getattr(ufunc, method)(*inputs, **kwargs)\n"
     ]
    },
    {
     "data": {
      "text/plain": [
       "<Axes: xlabel='limite_minima_cuantia', ylabel='Count'>"
      ]
     },
     "execution_count": 69,
     "metadata": {},
     "output_type": "execute_result"
    },
    {
     "data": {
      "image/png": "[encoded data removed]",
      "text/plain": [
       "<Figure size 640x480 with 1 Axes>"
      ]
     },
     "metadata": {},
     "output_type": "display_data"
    }
   ],
   "source": [
    "sns.histplot(np.log(df[\"limite_minima_cuantia\"]), kde=True)"
   ]
  },
  {
   "cell_type": "markdown",
   "metadata": {},
   "source": [
    "Las variables de interés muestran unas distribuciones afectadas por algunas cuantias altas, que pueden ser datos atípicos o necesidad de separar dos fenómenos que ocurren. Pueden agruparse departamentos y revisar de nuevo las distribuciones para ir teniendo conclusiones descriptivas."
   ]
  },
  {
   "cell_type": "code",
   "execution_count": 70,
   "metadata": {},
   "outputs": [],
   "source": [
    "# agrupar por departamento y sumar los valores\n",
    "\n",
    "df_group_dept = df.groupby(\"departamento_paa\")[\"ppto_total\"].sum()"
   ]
  },
  {
   "cell_type": "code",
   "execution_count": 71,
   "metadata": {},
   "outputs": [
    {
     "data": {
      "text/plain": [
       "<Axes: xlabel='departamento_paa'>"
      ]
     },
     "execution_count": 71,
     "metadata": {},
     "output_type": "execute_result"
    },
    {
     "data": {
      "image/png": "[encoded data removed]",
      "text/plain": [
       "<Figure size 640x480 with 1 Axes>"
      ]
     },
     "metadata": {},
     "output_type": "display_data"
    }
   ],
   "source": [
    "# graficar los valores agrupados\n",
    "\n",
    "df_group_dept.plot(kind=\"bar\")"
   ]
  },
  {
   "cell_type": "code",
   "execution_count": 72,
   "metadata": {},
   "outputs": [
    {
     "data": {
      "text/plain": [
       "<Axes: xlabel='departamento_paa'>"
      ]
     },
     "execution_count": 72,
     "metadata": {},
     "output_type": "execute_result"
    },
    {
     "data": {
      "image/png": "[encoded data removed]",
      "text/plain": [
       "<Figure size 640x480 with 1 Axes>"
      ]
     },
     "metadata": {},
     "output_type": "display_data"
    }
   ],
   "source": [
    "# graficar la distribución por departamento, a los 5 departamentos con mayor presupuesto\n",
    "\n",
    "df_group_dept.nlargest(5).plot(kind=\"bar\")"
   ]
  },
  {
   "cell_type": "code",
   "execution_count": 74,
   "metadata": {},
   "outputs": [],
   "source": [
    "# guardar los datos procesados\n",
    "\n",
    "df.to_csv(\"data_processed/datos_secop.csv\", index=False)"
   ]
  }
 ],
 "metadata": {
  "kernelspec": {
   "display_name": "esp_ml_env",
   "language": "python",
   "name": "python3"
  },
  "language_info": {
   "codemirror_mode": {
    "name": "ipython",
    "version": 3
   },
   "file_extension": ".py",
   "mimetype": "text/x-python",
   "name": "python",
   "nbconvert_exporter": "python",
   "pygments_lexer": "ipython3",
   "version": "3.11.6"
  }
 },
 "nbformat": 4,
 "nbformat_minor": 2
}
