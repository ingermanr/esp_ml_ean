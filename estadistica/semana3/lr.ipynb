{
 "cells": [
  {
   "cell_type": "markdown",
   "metadata": {},
   "source": [
    "### Regresión lineal"
   ]
  },
  {
   "cell_type": "code",
   "execution_count": 162,
   "metadata": {},
   "outputs": [],
   "source": [
    "# importar librerías para modelos de regresión lineal\n",
    "\n",
    "import numpy as np\n",
    "import matplotlib.pyplot as plt\n",
    "import pandas as pd\n",
    "from sklearn.linear_model import LinearRegression\n",
    "from sklearn.model_selection import train_test_split\n",
    "from sklearn.metrics import mean_squared_error"
   ]
  },
  {
   "cell_type": "code",
   "execution_count": 163,
   "metadata": {},
   "outputs": [
    {
     "name": "stdout",
     "output_type": "stream",
     "text": [
      "   symboling normalized-losses         make fuel-type aspiration num-of-doors  \\\n",
      "0          3               NaN  alfa-romero       gas        std          two   \n",
      "1          3               NaN  alfa-romero       gas        std          two   \n",
      "2          1               NaN  alfa-romero       gas        std          two   \n",
      "3          2               164         audi       gas        std         four   \n",
      "4          2               164         audi       gas        std         four   \n",
      "\n",
      "    body-style drive-wheels engine-location  wheel-base  ...  engine-size  \\\n",
      "0  convertible          rwd           front        88.6  ...          130   \n",
      "1  convertible          rwd           front        88.6  ...          130   \n",
      "2    hatchback          rwd           front        94.5  ...          152   \n",
      "3        sedan          fwd           front        99.8  ...          109   \n",
      "4        sedan          4wd           front        99.4  ...          136   \n",
      "\n",
      "   fuel-system  bore  stroke compression-ratio horsepower  peak-rpm city-mpg  \\\n",
      "0         mpfi  3.47    2.68               9.0        111      5000       21   \n",
      "1         mpfi  3.47    2.68               9.0        111      5000       21   \n",
      "2         mpfi  2.68    3.47               9.0        154      5000       19   \n",
      "3         mpfi  3.19    3.40              10.0        102      5500       24   \n",
      "4         mpfi  3.19    3.40               8.0        115      5500       18   \n",
      "\n",
      "   highway-mpg    price  \n",
      "0           27  13495.0  \n",
      "1           27  16500.0  \n",
      "2           26  16500.0  \n",
      "3           30  13950.0  \n",
      "4           22  17450.0  \n",
      "\n",
      "[5 rows x 26 columns]\n"
     ]
    }
   ],
   "source": [
    "# modelo lineal simple\n",
    "\n",
    "# importar datos\n",
    "data = pd.read_csv('../data_raw/Automobile price data _Raw_.csv')\n",
    "\n",
    "print(data.head())"
   ]
  },
  {
   "cell_type": "code",
   "execution_count": 164,
   "metadata": {},
   "outputs": [
    {
     "name": "stdout",
     "output_type": "stream",
     "text": [
      "        symboling  wheel-base      length       width      height  \\\n",
      "count  205.000000  205.000000  205.000000  205.000000  205.000000   \n",
      "mean     0.843902   98.756585  174.049268   65.907805   53.724878   \n",
      "std      1.238684    6.021776   12.337289    2.145204    2.443522   \n",
      "min     -2.000000   86.600000  141.100000   60.300000   47.800000   \n",
      "25%      0.000000   94.500000  166.300000   64.100000   52.000000   \n",
      "50%      1.000000   97.000000  173.200000   65.500000   54.100000   \n",
      "75%      2.000000  102.400000  183.100000   66.900000   55.500000   \n",
      "max      3.000000  120.900000  208.100000   72.300000   59.800000   \n",
      "\n",
      "       curb-weight  engine-size        bore      stroke  compression-ratio  \\\n",
      "count   205.000000   205.000000  201.000000  201.000000         205.000000   \n",
      "mean   2555.565854   126.907317    3.329751    3.255423          10.142537   \n",
      "std     520.680204    41.642693    0.273539    0.316717           3.972040   \n",
      "min    1488.000000    61.000000    2.540000    2.070000           7.000000   \n",
      "25%    2145.000000    97.000000    3.150000    3.110000           8.600000   \n",
      "50%    2414.000000   120.000000    3.310000    3.290000           9.000000   \n",
      "75%    2935.000000   141.000000    3.590000    3.410000           9.400000   \n",
      "max    4066.000000   326.000000    3.940000    4.170000          23.000000   \n",
      "\n",
      "         city-mpg  highway-mpg         price  \n",
      "count  205.000000   205.000000    201.000000  \n",
      "mean    25.219512    30.751220  13207.129353  \n",
      "std      6.542142     6.886443   7947.066342  \n",
      "min     13.000000    16.000000   5118.000000  \n",
      "25%     19.000000    25.000000   7775.000000  \n",
      "50%     24.000000    30.000000  10295.000000  \n",
      "75%     30.000000    34.000000  16500.000000  \n",
      "max     49.000000    54.000000  45400.000000  \n"
     ]
    }
   ],
   "source": [
    "# revisar datos\n",
    "\n",
    "print(data.describe())"
   ]
  },
  {
   "cell_type": "code",
   "execution_count": 165,
   "metadata": {},
   "outputs": [
    {
     "name": "stdout",
     "output_type": "stream",
     "text": [
      "<class 'pandas.core.frame.DataFrame'>\n",
      "RangeIndex: 205 entries, 0 to 204\n",
      "Data columns (total 26 columns):\n",
      " #   Column             Non-Null Count  Dtype  \n",
      "---  ------             --------------  -----  \n",
      " 0   symboling          205 non-null    int64  \n",
      " 1   normalized-losses  166 non-null    object \n",
      " 2   make               205 non-null    object \n",
      " 3   fuel-type          205 non-null    object \n",
      " 4   aspiration         205 non-null    object \n",
      " 5   num-of-doors       203 non-null    object \n",
      " 6   body-style         205 non-null    object \n",
      " 7   drive-wheels       205 non-null    object \n",
      " 8   engine-location    205 non-null    object \n",
      " 9   wheel-base         205 non-null    float64\n",
      " 10  length             205 non-null    float64\n",
      " 11  width              205 non-null    float64\n",
      " 12  height             205 non-null    float64\n",
      " 13  curb-weight        205 non-null    int64  \n",
      " 14  engine-type        205 non-null    object \n",
      " 15  num-of-cylinders   205 non-null    object \n",
      " 16  engine-size        205 non-null    int64  \n",
      " 17  fuel-system        205 non-null    object \n",
      " 18  bore               201 non-null    float64\n",
      " 19  stroke             201 non-null    float64\n",
      " 20  compression-ratio  205 non-null    float64\n",
      " 21  horsepower         205 non-null    object \n",
      " 22  peak-rpm           205 non-null    object \n",
      " 23  city-mpg           205 non-null    int64  \n",
      " 24  highway-mpg        205 non-null    int64  \n",
      " 25  price              201 non-null    float64\n",
      "dtypes: float64(8), int64(5), object(13)\n",
      "memory usage: 41.8+ KB\n"
     ]
    }
   ],
   "source": [
    "data.info()"
   ]
  },
  {
   "cell_type": "code",
   "execution_count": 166,
   "metadata": {},
   "outputs": [
    {
     "name": "stdout",
     "output_type": "stream",
     "text": [
      "<class 'pandas.core.frame.DataFrame'>\n",
      "Index: 161 entries, 3 to 204\n",
      "Data columns (total 26 columns):\n",
      " #   Column             Non-Null Count  Dtype  \n",
      "---  ------             --------------  -----  \n",
      " 0   symboling          161 non-null    int64  \n",
      " 1   normalized-losses  161 non-null    object \n",
      " 2   make               161 non-null    object \n",
      " 3   fuel-type          161 non-null    object \n",
      " 4   aspiration         161 non-null    object \n",
      " 5   num-of-doors       161 non-null    object \n",
      " 6   body-style         161 non-null    object \n",
      " 7   drive-wheels       161 non-null    object \n",
      " 8   engine-location    161 non-null    object \n",
      " 9   wheel-base         161 non-null    float64\n",
      " 10  length             161 non-null    float64\n",
      " 11  width              161 non-null    float64\n",
      " 12  height             161 non-null    float64\n",
      " 13  curb-weight        161 non-null    int64  \n",
      " 14  engine-type        161 non-null    object \n",
      " 15  num-of-cylinders   161 non-null    object \n",
      " 16  engine-size        161 non-null    int64  \n",
      " 17  fuel-system        161 non-null    object \n",
      " 18  bore               161 non-null    float64\n",
      " 19  stroke             161 non-null    float64\n",
      " 20  compression-ratio  161 non-null    float64\n",
      " 21  horsepower         161 non-null    object \n",
      " 22  peak-rpm           161 non-null    object \n",
      " 23  city-mpg           161 non-null    int64  \n",
      " 24  highway-mpg        161 non-null    int64  \n",
      " 25  price              161 non-null    float64\n",
      "dtypes: float64(8), int64(5), object(13)\n",
      "memory usage: 34.0+ KB\n"
     ]
    }
   ],
   "source": [
    "# limpiar datos nulos\n",
    "\n",
    "data = data.dropna()\n",
    "\n",
    "data.info()"
   ]
  },
  {
   "cell_type": "code",
   "execution_count": 167,
   "metadata": {},
   "outputs": [
    {
     "name": "stdout",
     "output_type": "stream",
     "text": [
      "(161, 1)\n",
      "(161, 1)\n"
     ]
    }
   ],
   "source": [
    "# seleccionar variables\n",
    "\n",
    "X = data['engine-size'].values.reshape(-1,1)\n",
    "y = data['price'].values.reshape(-1,1)\n",
    "\n",
    "print(X.shape)\n",
    "print(y.shape)"
   ]
  },
  {
   "cell_type": "code",
   "execution_count": 168,
   "metadata": {},
   "outputs": [
    {
     "name": "stdout",
     "output_type": "stream",
     "text": [
      "(128, 1)\n",
      "(33, 1)\n",
      "(128, 1)\n",
      "(33, 1)\n"
     ]
    }
   ],
   "source": [
    "# dividir datos en entrenamiento y prueba\n",
    "X_train, X_test, y_train, y_test = train_test_split(X, y, test_size=0.2, random_state=0)\n",
    "\n",
    "print(X_train.shape)\n",
    "print(X_test.shape)\n",
    "print(y_train.shape)\n",
    "print(y_test.shape)"
   ]
  },
  {
   "cell_type": "code",
   "execution_count": 169,
   "metadata": {},
   "outputs": [],
   "source": [
    "# crear modelo\n",
    "\n",
    "model = LinearRegression()\n",
    "model.fit(X_train, y_train)\n",
    "\n",
    "# predecir valores\n",
    "\n",
    "y_pred = model.predict(X_test)"
   ]
  },
  {
   "cell_type": "code",
   "execution_count": 170,
   "metadata": {},
   "outputs": [
    {
     "data": {
      "image/png": "[encoded data removed]",
      "text/plain": [
       "<Figure size 640x480 with 1 Axes>"
      ]
     },
     "metadata": {},
     "output_type": "display_data"
    }
   ],
   "source": [
    "# graficar\n",
    "\n",
    "plt.scatter(X_test, y_test, color='gray')\n",
    "plt.plot(X_test, y_pred, color='red', linewidth=2)\n",
    "plt.show()"
   ]
  },
  {
   "cell_type": "code",
   "execution_count": 171,
   "metadata": {},
   "outputs": [
    {
     "name": "stdout",
     "output_type": "stream",
     "text": [
      "Intercept: [-7474.00109361]\n",
      "Coefficients: [[158.72115788]]\n",
      "Mean squared error: 7480255.982252573\n"
     ]
    }
   ],
   "source": [
    "# resultados de la regresión\n",
    "\n",
    "print('Intercept:', model.intercept_)\n",
    "print('Coefficients:', model.coef_)\n",
    "print('Mean squared error:', mean_squared_error(y_test, y_pred))\n"
   ]
  },
  {
   "cell_type": "code",
   "execution_count": 172,
   "metadata": {},
   "outputs": [
    {
     "name": "stdout",
     "output_type": "stream",
     "text": [
      "Mean squared error: 7480255.982252573\n"
     ]
    }
   ],
   "source": [
    "# calcular mse\n",
    "\n",
    "mse = np.mean((y_pred - y_test)**2)\n",
    "print('Mean squared error:', mse)"
   ]
  },
  {
   "cell_type": "code",
   "execution_count": 173,
   "metadata": {},
   "outputs": [
    {
     "name": "stdout",
     "output_type": "stream",
     "text": [
      "0.7161942108029229\n",
      "0.6983681790502828\n"
     ]
    }
   ],
   "source": [
    "# evaluación del modelo\n",
    "\n",
    "print(model.score(X_test, y_test))\n",
    "print(model.score(X_train, y_train))"
   ]
  },
  {
   "cell_type": "code",
   "execution_count": 174,
   "metadata": {},
   "outputs": [
    {
     "name": "stdout",
     "output_type": "stream",
     "text": [
      "                            OLS Regression Results                            \n",
      "==============================================================================\n",
      "Dep. Variable:                      y   R-squared:                       0.698\n",
      "Model:                            OLS   Adj. R-squared:                  0.696\n",
      "Method:                 Least Squares   F-statistic:                     291.7\n",
      "Date:                Fri, 27 Sep 2024   Prob (F-statistic):           1.36e-34\n",
      "Time:                        20:13:19   Log-Likelihood:                -1217.7\n",
      "No. Observations:                 128   AIC:                             2439.\n",
      "Df Residuals:                     126   BIC:                             2445.\n",
      "Df Model:                           1                                         \n",
      "Covariance Type:            nonrobust                                         \n",
      "==============================================================================\n",
      "                 coef    std err          t      P>|t|      [0.025      0.975]\n",
      "------------------------------------------------------------------------------\n",
      "const      -7474.0011   1171.830     -6.378      0.000   -9793.018   -5154.984\n",
      "x1           158.7212      9.293     17.080      0.000     140.331     177.111\n",
      "==============================================================================\n",
      "Omnibus:                       12.338   Durbin-Watson:                   1.979\n",
      "Prob(Omnibus):                  0.002   Jarque-Bera (JB):               14.071\n",
      "Skew:                           0.621   Prob(JB):                     0.000880\n",
      "Kurtosis:                       4.046   Cond. No.                         506.\n",
      "==============================================================================\n",
      "\n",
      "Notes:\n",
      "[1] Standard Errors assume that the covariance matrix of the errors is correctly specified.\n"
     ]
    }
   ],
   "source": [
    "# usar OLS Regression Results\n",
    "\n",
    "import statsmodels.api as sm\n",
    "\n",
    "X_train = sm.add_constant(X_train)\n",
    "model = sm.OLS(y_train, X_train).fit()\n",
    "\n",
    "print(model.summary())"
   ]
  },
  {
   "cell_type": "code",
   "execution_count": 175,
   "metadata": {},
   "outputs": [],
   "source": [
    "# # probar el modelo OLS\n",
    "\n",
    "# X_test = sm.add_constant(X_test)\n",
    "# y_pred = model.predict(X_test)\n",
    "\n",
    "# print('Mean squared error:', mean_squared_error(y_test, y_pred))\n",
    "# print(model.rsquared)\n"
   ]
  },
  {
   "cell_type": "code",
   "execution_count": 176,
   "metadata": {},
   "outputs": [
    {
     "name": "stdout",
     "output_type": "stream",
     "text": [
      "(33, 1)\n",
      "(33, 1)\n"
     ]
    }
   ],
   "source": [
    "print(y_pred.reshape(-1,1).shape)\n",
    "\n",
    "print(y_test.shape)"
   ]
  },
  {
   "cell_type": "code",
   "execution_count": 177,
   "metadata": {},
   "outputs": [
    {
     "data": {
      "image/png": "[encoded data removed]",
      "text/plain": [
       "<Figure size 640x480 with 1 Axes>"
      ]
     },
     "metadata": {},
     "output_type": "display_data"
    }
   ],
   "source": [
    "# evaluación de residuales\n",
    "\n",
    "residuals = y_test - y_pred.reshape(-1,1)\n",
    "\n",
    "plt.scatter(y_pred, residuals)\n",
    "plt.axhline(y=0, color='red', linewidth=2)\n",
    "plt.show()"
   ]
  },
  {
   "cell_type": "code",
   "execution_count": 178,
   "metadata": {},
   "outputs": [
    {
     "name": "stdout",
     "output_type": "stream",
     "text": [
      "47.86195645753535\n"
     ]
    },
    {
     "data": {
      "image/png": "[encoded data removed]",
      "text/plain": [
       "<Figure size 558.75x500 with 1 Axes>"
      ]
     },
     "metadata": {},
     "output_type": "display_data"
    }
   ],
   "source": [
    "# media de residuales\n",
    "\n",
    "print(np.mean(residuals))\n",
    "\n",
    "# distribución de residuales con curva de densidad\n",
    "\n",
    "import seaborn as sns\n",
    "\n",
    "sns.displot(residuals, kde=True)\n",
    "plt.show()"
   ]
  },
  {
   "cell_type": "code",
   "execution_count": 179,
   "metadata": {},
   "outputs": [
    {
     "data": {
      "image/png": "[encoded data removed]",
      "text/plain": [
       "<Figure size 640x480 with 1 Axes>"
      ]
     },
     "metadata": {},
     "output_type": "display_data"
    }
   ],
   "source": [
    "# normalidad de residuales\n",
    "\n",
    "import scipy.stats as stats\n",
    "\n",
    "stats.probplot(residuals.flatten(), plot=plt, dist='norm', fit=True)\n",
    "plt.show()"
   ]
  },
  {
   "cell_type": "code",
   "execution_count": 180,
   "metadata": {},
   "outputs": [
    {
     "name": "stdout",
     "output_type": "stream",
     "text": [
      "-122.95122076110056\n"
     ]
    }
   ],
   "source": [
    "# mediana de residuales\n",
    "\n",
    "print(np.median(residuals))"
   ]
  },
  {
   "cell_type": "code",
   "execution_count": 181,
   "metadata": {},
   "outputs": [
    {
     "name": "stdout",
     "output_type": "stream",
     "text": [
      "7962853.1423979\n"
     ]
    }
   ],
   "source": [
    "# estimación de S^2\n",
    "\n",
    "print(np.sum(residuals**2)/(len(y_test)-2))"
   ]
  },
  {
   "cell_type": "code",
   "execution_count": 182,
   "metadata": {},
   "outputs": [
    {
     "name": "stdout",
     "output_type": "stream",
     "text": [
      "ShapiroResult(statistic=np.float64(0.9342865690595001), pvalue=np.float64(0.046425079166759545))\n",
      "True\n"
     ]
    }
   ],
   "source": [
    "# validación de supuestos de regresión lineal\n",
    "\n",
    "# normalidad\n",
    "\n",
    "# h0: los residuales siguen una distribución normal\n",
    "# h1: los residuales no siguen una distribución normal\n",
    "\n",
    "stats.shapiro(residuals)\n",
    "\n",
    "# presentar en tabla\n",
    "\n",
    "from scipy.stats import shapiro\n",
    "\n",
    "shapiro_test = shapiro(residuals)\n",
    "\n",
    "print(shapiro_test)\n",
    "print(shapiro_test[1] < 0.05)\n",
    "\n",
    "# conclusiones\n",
    "\n",
    "# los residuales no siguen una distribución normal\n"
   ]
  },
  {
   "cell_type": "code",
   "execution_count": 183,
   "metadata": {},
   "outputs": [
    {
     "name": "stdout",
     "output_type": "stream",
     "text": [
      "SignificanceResult(statistic=np.float64(3.353033298278347), pvalue=np.float64(0.18702431400936076))\n"
     ]
    }
   ],
   "source": [
    "# prueba de jarque-bera\n",
    "\n",
    "# h0: los residuales siguen una distribución normal\n",
    "# h1: los residuales no siguen una distribución normal\n",
    "\n",
    "stats.jarque_bera(residuals)\n",
    "\n",
    "# presentar en tabla\n",
    "\n",
    "from scipy.stats import jarque_bera\n",
    "\n",
    "jarque_bera_test = jarque_bera(residuals)\n",
    "\n",
    "print(jarque_bera_test)"
   ]
  },
  {
   "cell_type": "code",
   "execution_count": 184,
   "metadata": {},
   "outputs": [
    {
     "name": "stdout",
     "output_type": "stream",
     "text": [
      "LeveneResult(statistic=np.float64(2.4937341420228436), pvalue=np.float64(0.1192304699351238))\n"
     ]
    }
   ],
   "source": [
    "# prueba de homocedasticidad\n",
    "\n",
    "# h0: los residuales del modelo tienen varianza constante (homocedasticidad)\n",
    "# h1: los residuales del modelo no tienen varianza constante (heterocedasticidad)\n",
    "\n",
    "stats.levene(y_test.flatten(), residuals.flatten())\n",
    "\n",
    "# presentar en tabla\n",
    "\n",
    "from scipy.stats import levene\n",
    "\n",
    "levene_test = levene(y_test.flatten(), residuals.flatten())\n",
    "\n",
    "print(levene_test)\n"
   ]
  },
  {
   "cell_type": "code",
   "execution_count": 185,
   "metadata": {},
   "outputs": [
    {
     "name": "stdout",
     "output_type": "stream",
     "text": [
      "F_onewayResult(statistic=np.float64(93.3932380625634), pvalue=np.float64(3.983753879111558e-14))\n"
     ]
    }
   ],
   "source": [
    "# con F de fisher para probar la homocedasticidad\n",
    "\n",
    "from scipy.stats import f_oneway\n",
    "\n",
    "f_test = f_oneway(y_test.flatten(), residuals.flatten())\n",
    "\n",
    "print(f_test)"
   ]
  },
  {
   "cell_type": "code",
   "execution_count": 186,
   "metadata": {},
   "outputs": [
    {
     "name": "stdout",
     "output_type": "stream",
     "text": [
      "[2.45572616]\n"
     ]
    }
   ],
   "source": [
    "# prueba de independencia\n",
    "\n",
    "# valores de Durbin-Watson entre 0 y 2,\n",
    "# si es cercano a 2, los residuales son independientes\n",
    "# si es cercano a 0, los residuales no son independientes\n",
    "\n",
    "# h0: los residuales son independientes\n",
    "# h1: los residuales no son independientes\n",
    "\n",
    "from statsmodels.stats.stattools import durbin_watson\n",
    "\n",
    "durbin_watson(residuals)\n",
    "\n",
    "# presentar en tabla\n",
    "\n",
    "print(durbin_watson(residuals))"
   ]
  },
  {
   "cell_type": "code",
   "execution_count": 187,
   "metadata": {},
   "outputs": [
    {
     "name": "stderr",
     "output_type": "stream",
     "text": [
      "c:\\Users\\ingen\\Documents\\estudio\\especializacion_ml\\esp_ml_env\\Lib\\site-packages\\scipy\\stats\\_stats_py.py:1114: RuntimeWarning: divide by zero encountered in divide\n",
      "  var *= np.divide(n, n-ddof)  # to avoid error on division by zero\n",
      "c:\\Users\\ingen\\Documents\\estudio\\especializacion_ml\\esp_ml_env\\Lib\\site-packages\\scipy\\stats\\_stats_py.py:1114: RuntimeWarning: invalid value encountered in scalar multiply\n",
      "  var *= np.divide(n, n-ddof)  # to avoid error on division by zero\n"
     ]
    },
    {
     "data": {
      "text/plain": [
       "TtestResult(statistic=np.float64(nan), pvalue=np.float64(nan), df=np.int64(0))"
      ]
     },
     "execution_count": 187,
     "metadata": {},
     "output_type": "execute_result"
    }
   ],
   "source": [
    "# prueba de contraste para el intercepto obtenido en el modelo\n",
    "\n",
    "# h0: el intercepto es igual a 0\n",
    "# h1: el intercepto es diferente de 0\n",
    "\n",
    "stats.ttest_1samp(model.params[0], 0)\n",
    "\n"
   ]
  },
  {
   "cell_type": "code",
   "execution_count": 188,
   "metadata": {},
   "outputs": [
    {
     "name": "stdout",
     "output_type": "stream",
     "text": [
      "TtestResult(statistic=np.float64(nan), pvalue=np.float64(nan), df=np.int64(0))\n"
     ]
    }
   ],
   "source": [
    "# prueba de contraste para los coeficientes\n",
    "\n",
    "# h0: el coeficiente es igual a 0\n",
    "# h1: el coeficiente es diferente de 0\n",
    "\n",
    "t_test = stats.ttest_1samp(model.params[1], 0)\n",
    "\n",
    "print(t_test)\n",
    "\n"
   ]
  },
  {
   "cell_type": "code",
   "execution_count": 189,
   "metadata": {},
   "outputs": [
    {
     "data": {
      "text/plain": [
       "<statsmodels.regression.linear_model.RegressionResultsWrapper at 0x1bc7a372e50>"
      ]
     },
     "execution_count": 189,
     "metadata": {},
     "output_type": "execute_result"
    }
   ],
   "source": [
    "model"
   ]
  },
  {
   "cell_type": "code",
   "execution_count": 190,
   "metadata": {},
   "outputs": [
    {
     "name": "stdout",
     "output_type": "stream",
     "text": [
      "<scipy.stats._distn_infrastructure.rv_continuous_frozen object at 0x000001BC03B0F310>\n"
     ]
    }
   ],
   "source": [
    "#  analisis de varianza (ANOVA) con F de fisher formulado\n",
    "\n",
    "# h0: los coeficientes son iguales a 0\n",
    "# h1: los coeficientes no son iguales a 0\n",
    "\n",
    "from scipy.stats import f\n",
    "\n",
    "f_test = f(model.fvalue, model.df_model, model.df_resid)\n",
    "\n",
    "print(f_test)\n"
   ]
  },
  {
   "cell_type": "code",
   "execution_count": 191,
   "metadata": {},
   "outputs": [
    {
     "name": "stdout",
     "output_type": "stream",
     "text": [
      "0.6886381203099692\n"
     ]
    }
   ],
   "source": [
    "# coeficiente de determinación ajustado\n",
    "\n",
    "# R^2 ajustado = 1 - (1 - R^2) * (n - 1) / (n - p - 1)\n",
    "\n",
    "n = len(y_test)\n",
    "p = 1\n",
    "\n",
    "r2 = model.rsquared\n",
    "r2_adj = 1 - (1 - r2) * (n - 1) / (n - p - 1)\n",
    "\n",
    "print(r2_adj)"
   ]
  }
 ],
 "metadata": {
  "kernelspec": {
   "display_name": "esp_ml_env",
   "language": "python",
   "name": "python3"
  },
  "language_info": {
   "codemirror_mode": {
    "name": "ipython",
    "version": 3
   },
   "file_extension": ".py",
   "mimetype": "text/x-python",
   "name": "python",
   "nbconvert_exporter": "python",
   "pygments_lexer": "ipython3",
   "version": "3.11.6"
  }
 },
 "nbformat": 4,
 "nbformat_minor": 2
}
